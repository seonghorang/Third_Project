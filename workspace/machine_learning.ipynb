{
 "cells": [
  {
   "cell_type": "code",
   "execution_count": 1,
   "id": "5fc86ac4",
   "metadata": {},
   "outputs": [],
   "source": [
    "### 라이브러리\n",
    "import pandas as pd\n",
    "import numpy as np\n",
    "import os\n",
    "import json\n",
    "import cv2\n",
    "import matplotlib.pyplot as plt\n",
    "import plotly.graph_objects as ply\n",
    "import tensorflow as tf\n",
    "from tensorflow import keras\n",
    "### 교차검증\n",
    "from sklearn.model_selection import cross_validate\n",
    "\n",
    "### 교차검증 -> KFold 라이브러리\n",
    "from sklearn.model_selection import StratifiedKFold\n",
    "\n",
    "### AutoML(그리드서치) 라이브러리\n",
    "from sklearn.model_selection import GridSearchCV\n",
    "\n",
    "### AutoML(랜덤서치) 라이브러리\n",
    "from sklearn.model_selection import RandomizedSearchCV\n",
    "### AutoML(랜덤서치)에서 사용할 확률분포 데이터 생성라이브러리\n",
    "from scipy.stats import randint, uniform"
   ]
  },
  {
   "cell_type": "markdown",
   "id": "1a432c1f",
   "metadata": {},
   "source": [
    "# 훈련, 테스트 파일 불러오기"
   ]
  },
  {
   "cell_type": "code",
   "execution_count": 259,
   "id": "bc3f545d",
   "metadata": {},
   "outputs": [],
   "source": [
    "### 제이슨 파일 불러오기\n",
    "directory_path = './data/라벨링/sp_1'\n",
    "json_data = []\n",
    "\n",
    "try:\n",
    "    file_list = os.listdir(directory_path)\n",
    "    json_files = [file for file in file_list if file.endswith('.json')]\n",
    "\n",
    "    for json_file in json_files:\n",
    "        json_path = os.path.join(directory_path, json_file)\n",
    "        try:\n",
    "            with open(json_path, 'r') as file:\n",
    "                data = json.load(file)\n",
    "                json_data.append(data)\n",
    "        except Exception as e:\n",
    "            print(f\"Error reading JSON file '{json_file}': {e}\")\n",
    "except Exception as e:\n",
    "    print(f\"Error accessing directory '{directory_path}': {e}\")"
   ]
  },
  {
   "cell_type": "code",
   "execution_count": 66,
   "id": "00dcaf62",
   "metadata": {},
   "outputs": [],
   "source": [
    "### 제이슨 파일 불러오기\n",
    "directory_path = './자료/라벨링/sp_2'\n",
    "\n",
    "try:\n",
    "    file_list = os.listdir(directory_path)\n",
    "    json_files = [file for file in file_list if file.endswith('.json')]\n",
    "\n",
    "    for json_file in json_files:\n",
    "        json_path = os.path.join(directory_path, json_file)\n",
    "        try:\n",
    "            with open(json_path, 'r') as file:\n",
    "                data = json.load(file)\n",
    "                json_data.append(data)\n",
    "        except Exception as e:\n",
    "            print(f\"Error reading JSON file '{json_file}': {e}\")\n",
    "except Exception as e:\n",
    "    print(f\"Error accessing directory '{directory_path}': {e}\")"
   ]
  },
  {
   "cell_type": "code",
   "execution_count": 77,
   "id": "4fa90373",
   "metadata": {},
   "outputs": [
    {
     "name": "stdout",
     "output_type": "stream",
     "text": [
      "Error accessing directory './자료/라벨링/sp_5': [WinError 3] 지정된 경로를 찾을 수 없습니다: './자료/라벨링/sp_5'\n",
      "Error accessing directory './자료/라벨링/sp_6': [WinError 3] 지정된 경로를 찾을 수 없습니다: './자료/라벨링/sp_6'\n",
      "Error accessing directory './자료/라벨링/sp_7': [WinError 3] 지정된 경로를 찾을 수 없습니다: './자료/라벨링/sp_7'\n",
      "Error accessing directory './자료/라벨링/sp_8': [WinError 3] 지정된 경로를 찾을 수 없습니다: './자료/라벨링/sp_8'\n",
      "Error accessing directory './자료/라벨링/sp_9': [WinError 3] 지정된 경로를 찾을 수 없습니다: './자료/라벨링/sp_9'\n",
      "Error accessing directory './자료/라벨링/sp_10': [WinError 3] 지정된 경로를 찾을 수 없습니다: './자료/라벨링/sp_10'\n",
      "Error accessing directory './자료/라벨링/sp_11': [WinError 3] 지정된 경로를 찾을 수 없습니다: './자료/라벨링/sp_11'\n",
      "Error accessing directory './자료/라벨링/sp_12': [WinError 3] 지정된 경로를 찾을 수 없습니다: './자료/라벨링/sp_12'\n",
      "Error accessing directory './자료/라벨링/sp_13': [WinError 3] 지정된 경로를 찾을 수 없습니다: './자료/라벨링/sp_13'\n",
      "Error accessing directory './자료/라벨링/sp_14': [WinError 3] 지정된 경로를 찾을 수 없습니다: './자료/라벨링/sp_14'\n",
      "Error accessing directory './자료/라벨링/sp_15': [WinError 3] 지정된 경로를 찾을 수 없습니다: './자료/라벨링/sp_15'\n",
      "Error accessing directory './자료/라벨링/sp_16': [WinError 3] 지정된 경로를 찾을 수 없습니다: './자료/라벨링/sp_16'\n",
      "Error accessing directory './자료/라벨링/sp_17': [WinError 3] 지정된 경로를 찾을 수 없습니다: './자료/라벨링/sp_17'\n",
      "Error accessing directory './자료/라벨링/sp_18': [WinError 3] 지정된 경로를 찾을 수 없습니다: './자료/라벨링/sp_18'\n",
      "Error accessing directory './자료/라벨링/sp_19': [WinError 3] 지정된 경로를 찾을 수 없습니다: './자료/라벨링/sp_19'\n",
      "Error accessing directory './자료/라벨링/sp_20': [WinError 3] 지정된 경로를 찾을 수 없습니다: './자료/라벨링/sp_20'\n",
      "Error accessing directory './자료/라벨링/sp_21': [WinError 3] 지정된 경로를 찾을 수 없습니다: './자료/라벨링/sp_21'\n",
      "Error accessing directory './자료/라벨링/sp_22': [WinError 3] 지정된 경로를 찾을 수 없습니다: './자료/라벨링/sp_22'\n",
      "Error accessing directory './자료/라벨링/sp_23': [WinError 3] 지정된 경로를 찾을 수 없습니다: './자료/라벨링/sp_23'\n",
      "Error accessing directory './자료/라벨링/sp_24': [WinError 3] 지정된 경로를 찾을 수 없습니다: './자료/라벨링/sp_24'\n",
      "Error accessing directory './자료/라벨링/sp_25': [WinError 3] 지정된 경로를 찾을 수 없습니다: './자료/라벨링/sp_25'\n",
      "Error accessing directory './자료/라벨링/sp_26': [WinError 3] 지정된 경로를 찾을 수 없습니다: './자료/라벨링/sp_26'\n",
      "Error accessing directory './자료/라벨링/sp_27': [WinError 3] 지정된 경로를 찾을 수 없습니다: './자료/라벨링/sp_27'\n",
      "Error accessing directory './자료/라벨링/sp_28': [WinError 3] 지정된 경로를 찾을 수 없습니다: './자료/라벨링/sp_28'\n",
      "Error accessing directory './자료/라벨링/sp_29': [WinError 3] 지정된 경로를 찾을 수 없습니다: './자료/라벨링/sp_29'\n"
     ]
    }
   ],
   "source": [
    "### 제이슨 파일 불러오기\n",
    "\n",
    "for i in range(5,30,1):\n",
    "    directory_path = './자료/라벨링/sp_{}'.format(i)\n",
    "    \n",
    "\n",
    "    try:\n",
    "        file_list = os.listdir(directory_path)\n",
    "        json_files = [file for file in file_list if file.endswith('.json')]\n",
    "\n",
    "        for json_file in json_files:\n",
    "            json_path = os.path.join(directory_path, json_file)\n",
    "            try:\n",
    "                with open(json_path, 'r') as file:\n",
    "                    data = json.load(file)\n",
    "                    json_data.append(data)\n",
    "            except Exception as e:\n",
    "                print(f\"Error reading JSON file '{json_file}': {e}\")\n",
    "    except Exception as e:\n",
    "        print(f\"Error accessing directory '{directory_path}': {e}\")"
   ]
  },
  {
   "cell_type": "markdown",
   "id": "8471899f",
   "metadata": {},
   "source": [
    "### 예측 데이터 생성"
   ]
  },
  {
   "cell_type": "code",
   "execution_count": 225,
   "id": "97536ba4",
   "metadata": {},
   "outputs": [],
   "source": [
    "### 예측을 위한 제이슨 파일 불러오기\n",
    "json_data = []\n",
    "for i in range(1,13,1):\n",
    "    directory_path = './data/smart/smart({})'.format(i)\n",
    "    \n",
    "    try:\n",
    "        file_list = os.listdir(directory_path)\n",
    "        json_files = [file for file in file_list if file.endswith('.json')]\n",
    "\n",
    "        for json_file in json_files:\n",
    "            json_path = os.path.join(directory_path, json_file)\n",
    "            try:\n",
    "                with open(json_path, 'r') as file:\n",
    "                    data = json.load(file)\n",
    "                    json_data.append(data)\n",
    "            except Exception as e:\n",
    "                print(f\"Error reading JSON file '{json_file}': {e}\")\n",
    "    except Exception as e:\n",
    "        print(f\"Error accessing directory '{directory_path}': {e}\")\n",
    "        \n",
    "### 제이슨 파일 데이터프레임으로 변환\n",
    "df = pd.DataFrame()\n",
    "\n",
    "for data in json_data:\n",
    "    ### ID\n",
    "    id_ = data['Annotations']['metaid']\n",
    "    ### point\n",
    "    point = data['Annotations']['pose']['point']\n",
    "    ### condition\n",
    "    condition = data['Annotations']['condition']\n",
    "    \n",
    "    df_1 = pd.DataFrame({'ID':id_, 'point':[point], 'condition':condition})\n",
    "    \n",
    "    ### label 별로 평균값으로 데이터 프레임 넣기    \n",
    "    for item in data['Annotations']['annotations']:\n",
    "        label = item['label']\n",
    "        points = item['points']\n",
    "        avg_x = sum(p[0] for p in points) / len(points)\n",
    "        avg_y = sum(p[1] for p in points) / len(points)\n",
    "\n",
    "        df_1[label+'_x'] = avg_x\n",
    "        df_1[label+'_y'] = avg_y\n",
    "    \n",
    "    ### df에 추가하기\n",
    "    df = pd.concat ([df, df_1], ignore_index = True)"
   ]
  },
  {
   "cell_type": "code",
   "execution_count": 226,
   "id": "abc9e2ca",
   "metadata": {},
   "outputs": [
    {
     "name": "stdout",
     "output_type": "stream",
     "text": [
      "(48465, 12) (48465,)\n",
      "(48465,)\n",
      "(48465, 12)\n"
     ]
    }
   ],
   "source": [
    "### 결측치 처리\n",
    "df = df.dropna()\n",
    "\n",
    "### 독립, 종속변수 분리\n",
    "data = df.iloc[:, 3:].to_numpy()\n",
    "target_pred = df.iloc[:, 2].to_numpy()\n",
    "print(data.shape, target_pred.shape)\n",
    "### target 데이터를 숫자로 인코딩\n",
    "from sklearn.preprocessing import LabelEncoder\n",
    "\n",
    "# 레이블 인코더 생성\n",
    "label_encoder = LabelEncoder()\n",
    "\n",
    "# 데이터 변환\n",
    "target_pred = label_encoder.fit_transform(target_pred)\n",
    "\n",
    "print(target_pred.shape)\n",
    "\n",
    "### StandardScaler\n",
    "from sklearn.preprocessing import StandardScaler\n",
    "ss = StandardScaler()\n",
    "ss.fit(data)\n",
    "\n",
    "pred_std_scaler = ss.transform(data)\n",
    "\n",
    "print(pred_std_scaler.shape)"
   ]
  },
  {
   "cell_type": "code",
   "execution_count": 252,
   "id": "5a8c8d89",
   "metadata": {},
   "outputs": [
    {
     "data": {
      "text/html": [
       "<div>\n",
       "<style scoped>\n",
       "    .dataframe tbody tr th:only-of-type {\n",
       "        vertical-align: middle;\n",
       "    }\n",
       "\n",
       "    .dataframe tbody tr th {\n",
       "        vertical-align: top;\n",
       "    }\n",
       "\n",
       "    .dataframe thead th {\n",
       "        text-align: right;\n",
       "    }\n",
       "</style>\n",
       "<table border=\"1\" class=\"dataframe\">\n",
       "  <thead>\n",
       "    <tr style=\"text-align: right;\">\n",
       "      <th></th>\n",
       "      <th>ID</th>\n",
       "      <th>point</th>\n",
       "      <th>condition</th>\n",
       "      <th>r_iris_x</th>\n",
       "      <th>r_iris_y</th>\n",
       "      <th>l_iris_x</th>\n",
       "      <th>l_iris_y</th>\n",
       "      <th>r_eyelid_x</th>\n",
       "      <th>r_eyelid_y</th>\n",
       "      <th>l_eyelid_x</th>\n",
       "      <th>l_eyelid_y</th>\n",
       "      <th>l_center_x</th>\n",
       "      <th>l_center_y</th>\n",
       "      <th>r_center_x</th>\n",
       "      <th>r_center_y</th>\n",
       "    </tr>\n",
       "  </thead>\n",
       "  <tbody>\n",
       "    <tr>\n",
       "      <th>0</th>\n",
       "      <td>001</td>\n",
       "      <td>[1020, 782]</td>\n",
       "      <td>A</td>\n",
       "      <td>987.5</td>\n",
       "      <td>362.0</td>\n",
       "      <td>816.0</td>\n",
       "      <td>386.5</td>\n",
       "      <td>991.6875</td>\n",
       "      <td>365.2500</td>\n",
       "      <td>818.0625</td>\n",
       "      <td>390.5000</td>\n",
       "      <td>816.0</td>\n",
       "      <td>386.5</td>\n",
       "      <td>987.5</td>\n",
       "      <td>362.0</td>\n",
       "    </tr>\n",
       "    <tr>\n",
       "      <th>1</th>\n",
       "      <td>001</td>\n",
       "      <td>[1020, 782]</td>\n",
       "      <td>A</td>\n",
       "      <td>989.0</td>\n",
       "      <td>363.0</td>\n",
       "      <td>818.0</td>\n",
       "      <td>388.0</td>\n",
       "      <td>993.1875</td>\n",
       "      <td>366.8750</td>\n",
       "      <td>818.9375</td>\n",
       "      <td>392.6875</td>\n",
       "      <td>818.0</td>\n",
       "      <td>388.0</td>\n",
       "      <td>989.0</td>\n",
       "      <td>363.0</td>\n",
       "    </tr>\n",
       "    <tr>\n",
       "      <th>2</th>\n",
       "      <td>001</td>\n",
       "      <td>[1020, 782]</td>\n",
       "      <td>A</td>\n",
       "      <td>989.5</td>\n",
       "      <td>362.5</td>\n",
       "      <td>819.0</td>\n",
       "      <td>388.0</td>\n",
       "      <td>993.0000</td>\n",
       "      <td>366.9375</td>\n",
       "      <td>819.5625</td>\n",
       "      <td>392.4375</td>\n",
       "      <td>819.0</td>\n",
       "      <td>388.0</td>\n",
       "      <td>989.5</td>\n",
       "      <td>362.5</td>\n",
       "    </tr>\n",
       "    <tr>\n",
       "      <th>3</th>\n",
       "      <td>001</td>\n",
       "      <td>[1020, 782]</td>\n",
       "      <td>A</td>\n",
       "      <td>988.5</td>\n",
       "      <td>363.0</td>\n",
       "      <td>817.0</td>\n",
       "      <td>388.0</td>\n",
       "      <td>990.5625</td>\n",
       "      <td>366.3750</td>\n",
       "      <td>819.3750</td>\n",
       "      <td>391.2500</td>\n",
       "      <td>817.0</td>\n",
       "      <td>388.0</td>\n",
       "      <td>988.5</td>\n",
       "      <td>363.0</td>\n",
       "    </tr>\n",
       "    <tr>\n",
       "      <th>4</th>\n",
       "      <td>001</td>\n",
       "      <td>[1020, 782]</td>\n",
       "      <td>A</td>\n",
       "      <td>986.0</td>\n",
       "      <td>362.0</td>\n",
       "      <td>814.5</td>\n",
       "      <td>387.0</td>\n",
       "      <td>990.4375</td>\n",
       "      <td>365.3125</td>\n",
       "      <td>815.3125</td>\n",
       "      <td>390.7500</td>\n",
       "      <td>814.5</td>\n",
       "      <td>387.0</td>\n",
       "      <td>986.0</td>\n",
       "      <td>362.0</td>\n",
       "    </tr>\n",
       "    <tr>\n",
       "      <th>...</th>\n",
       "      <td>...</td>\n",
       "      <td>...</td>\n",
       "      <td>...</td>\n",
       "      <td>...</td>\n",
       "      <td>...</td>\n",
       "      <td>...</td>\n",
       "      <td>...</td>\n",
       "      <td>...</td>\n",
       "      <td>...</td>\n",
       "      <td>...</td>\n",
       "      <td>...</td>\n",
       "      <td>...</td>\n",
       "      <td>...</td>\n",
       "      <td>...</td>\n",
       "      <td>...</td>\n",
       "    </tr>\n",
       "    <tr>\n",
       "      <th>3211</th>\n",
       "      <td>001</td>\n",
       "      <td>[923, 499]</td>\n",
       "      <td>S</td>\n",
       "      <td>652.0</td>\n",
       "      <td>767.5</td>\n",
       "      <td>382.5</td>\n",
       "      <td>761.0</td>\n",
       "      <td>652.1250</td>\n",
       "      <td>765.6875</td>\n",
       "      <td>384.4375</td>\n",
       "      <td>757.0000</td>\n",
       "      <td>383.0</td>\n",
       "      <td>761.0</td>\n",
       "      <td>654.0</td>\n",
       "      <td>769.0</td>\n",
       "    </tr>\n",
       "    <tr>\n",
       "      <th>3212</th>\n",
       "      <td>001</td>\n",
       "      <td>[923, 499]</td>\n",
       "      <td>S</td>\n",
       "      <td>654.0</td>\n",
       "      <td>768.5</td>\n",
       "      <td>389.0</td>\n",
       "      <td>757.5</td>\n",
       "      <td>655.5625</td>\n",
       "      <td>765.3750</td>\n",
       "      <td>380.9375</td>\n",
       "      <td>755.0000</td>\n",
       "      <td>389.0</td>\n",
       "      <td>757.5</td>\n",
       "      <td>654.0</td>\n",
       "      <td>768.5</td>\n",
       "    </tr>\n",
       "    <tr>\n",
       "      <th>3213</th>\n",
       "      <td>001</td>\n",
       "      <td>[923, 499]</td>\n",
       "      <td>S</td>\n",
       "      <td>651.5</td>\n",
       "      <td>769.0</td>\n",
       "      <td>383.0</td>\n",
       "      <td>759.5</td>\n",
       "      <td>653.5000</td>\n",
       "      <td>764.3750</td>\n",
       "      <td>378.9375</td>\n",
       "      <td>754.1250</td>\n",
       "      <td>389.0</td>\n",
       "      <td>753.5</td>\n",
       "      <td>658.0</td>\n",
       "      <td>767.0</td>\n",
       "    </tr>\n",
       "    <tr>\n",
       "      <th>3214</th>\n",
       "      <td>001</td>\n",
       "      <td>[923, 499]</td>\n",
       "      <td>S</td>\n",
       "      <td>655.5</td>\n",
       "      <td>768.5</td>\n",
       "      <td>390.5</td>\n",
       "      <td>755.0</td>\n",
       "      <td>650.1875</td>\n",
       "      <td>765.0625</td>\n",
       "      <td>382.7500</td>\n",
       "      <td>755.0625</td>\n",
       "      <td>390.5</td>\n",
       "      <td>755.0</td>\n",
       "      <td>655.5</td>\n",
       "      <td>768.5</td>\n",
       "    </tr>\n",
       "    <tr>\n",
       "      <th>3215</th>\n",
       "      <td>001</td>\n",
       "      <td>[923, 499]</td>\n",
       "      <td>S</td>\n",
       "      <td>655.5</td>\n",
       "      <td>767.0</td>\n",
       "      <td>385.5</td>\n",
       "      <td>758.5</td>\n",
       "      <td>652.4375</td>\n",
       "      <td>767.0000</td>\n",
       "      <td>381.1250</td>\n",
       "      <td>758.0625</td>\n",
       "      <td>385.5</td>\n",
       "      <td>758.5</td>\n",
       "      <td>655.5</td>\n",
       "      <td>767.0</td>\n",
       "    </tr>\n",
       "  </tbody>\n",
       "</table>\n",
       "<p>3216 rows × 15 columns</p>\n",
       "</div>"
      ],
      "text/plain": [
       "       ID        point condition  r_iris_x  r_iris_y  l_iris_x  l_iris_y  \\\n",
       "0     001  [1020, 782]         A     987.5     362.0     816.0     386.5   \n",
       "1     001  [1020, 782]         A     989.0     363.0     818.0     388.0   \n",
       "2     001  [1020, 782]         A     989.5     362.5     819.0     388.0   \n",
       "3     001  [1020, 782]         A     988.5     363.0     817.0     388.0   \n",
       "4     001  [1020, 782]         A     986.0     362.0     814.5     387.0   \n",
       "...   ...          ...       ...       ...       ...       ...       ...   \n",
       "3211  001   [923, 499]         S     652.0     767.5     382.5     761.0   \n",
       "3212  001   [923, 499]         S     654.0     768.5     389.0     757.5   \n",
       "3213  001   [923, 499]         S     651.5     769.0     383.0     759.5   \n",
       "3214  001   [923, 499]         S     655.5     768.5     390.5     755.0   \n",
       "3215  001   [923, 499]         S     655.5     767.0     385.5     758.5   \n",
       "\n",
       "      r_eyelid_x  r_eyelid_y  l_eyelid_x  l_eyelid_y  l_center_x  l_center_y  \\\n",
       "0       991.6875    365.2500    818.0625    390.5000       816.0       386.5   \n",
       "1       993.1875    366.8750    818.9375    392.6875       818.0       388.0   \n",
       "2       993.0000    366.9375    819.5625    392.4375       819.0       388.0   \n",
       "3       990.5625    366.3750    819.3750    391.2500       817.0       388.0   \n",
       "4       990.4375    365.3125    815.3125    390.7500       814.5       387.0   \n",
       "...          ...         ...         ...         ...         ...         ...   \n",
       "3211    652.1250    765.6875    384.4375    757.0000       383.0       761.0   \n",
       "3212    655.5625    765.3750    380.9375    755.0000       389.0       757.5   \n",
       "3213    653.5000    764.3750    378.9375    754.1250       389.0       753.5   \n",
       "3214    650.1875    765.0625    382.7500    755.0625       390.5       755.0   \n",
       "3215    652.4375    767.0000    381.1250    758.0625       385.5       758.5   \n",
       "\n",
       "      r_center_x  r_center_y  \n",
       "0          987.5       362.0  \n",
       "1          989.0       363.0  \n",
       "2          989.5       362.5  \n",
       "3          988.5       363.0  \n",
       "4          986.0       362.0  \n",
       "...          ...         ...  \n",
       "3211       654.0       769.0  \n",
       "3212       654.0       768.5  \n",
       "3213       658.0       767.0  \n",
       "3214       655.5       768.5  \n",
       "3215       655.5       767.0  \n",
       "\n",
       "[3216 rows x 15 columns]"
      ]
     },
     "execution_count": 252,
     "metadata": {},
     "output_type": "execute_result"
    }
   ],
   "source": [
    "df"
   ]
  },
  {
   "cell_type": "code",
   "execution_count": 141,
   "id": "d80d1b05",
   "metadata": {},
   "outputs": [
    {
     "name": "stdout",
     "output_type": "stream",
     "text": [
      "정답갯수[9728] / 오답갯수[38737] / 정확도[20.1]% / 오답률[79.9]%\n"
     ]
    }
   ],
   "source": [
    "### 예측하기\n",
    "pred = et.predict(pred_std_scaler)\n",
    "tr = sum(pred==target)\n",
    "fs = sum(pred!=target)\n",
    "# - 결과출력\n",
    "print(\"정답갯수[{}] / 오답갯수[{}] / 정확도[{}]% / 오답률[{}]%\".format(tr, fs, round(tr/(tr+fs)*100,1),round(fs/(tr+fs)*100,1)))"
   ]
  },
  {
   "cell_type": "code",
   "execution_count": 199,
   "id": "cc8c9183",
   "metadata": {},
   "outputs": [
    {
     "name": "stdout",
     "output_type": "stream",
     "text": [
      "정답갯수 42591개 / 오답갯수 3953개 / 정확도 91.5% / 오답률 8.5%\n"
     ]
    }
   ],
   "source": [
    "### 예측하기\n",
    "pred = et.predict(test_std_scaler)\n",
    "tr = sum(pred==test_y)\n",
    "fs = sum(pred!=test_y)\n",
    "# - 결과출력\n",
    "print(\"정답갯수 {}개 / 오답갯수 {}개 / 정확도 {}% / 오답률 {}%\".format(tr, fs, round(tr/(tr+fs)*100,1),round(fs/(tr+fs)*100,1)))"
   ]
  },
  {
   "cell_type": "code",
   "execution_count": 227,
   "id": "653f1f63",
   "metadata": {},
   "outputs": [
    {
     "name": "stdout",
     "output_type": "stream",
     "text": [
      "정답갯수 9468개 / 오답갯수 38997개 / 정확도 19.5% / 오답률 80.5%\n"
     ]
    }
   ],
   "source": [
    "### 예측하기\n",
    "pred = rf.predict(pred_std_scaler)\n",
    "tr = sum(pred==target_pred)\n",
    "fs = sum(pred!=target_pred)\n",
    "# - 결과출력\n",
    "print(\"정답갯수 {}개 / 오답갯수 {}개 / 정확도 {}% / 오답률 {}%\".format(tr, fs, round(tr/(tr+fs)*100,1),round(fs/(tr+fs)*100,1)))"
   ]
  },
  {
   "cell_type": "code",
   "execution_count": 11,
   "id": "d8653867",
   "metadata": {},
   "outputs": [
    {
     "data": {
      "text/html": [
       "<div>\n",
       "<style scoped>\n",
       "    .dataframe tbody tr th:only-of-type {\n",
       "        vertical-align: middle;\n",
       "    }\n",
       "\n",
       "    .dataframe tbody tr th {\n",
       "        vertical-align: top;\n",
       "    }\n",
       "\n",
       "    .dataframe thead th {\n",
       "        text-align: right;\n",
       "    }\n",
       "</style>\n",
       "<table border=\"1\" class=\"dataframe\">\n",
       "  <thead>\n",
       "    <tr style=\"text-align: right;\">\n",
       "      <th></th>\n",
       "      <th>ID</th>\n",
       "      <th>point</th>\n",
       "      <th>condition</th>\n",
       "      <th>r_iris_x</th>\n",
       "      <th>r_iris_y</th>\n",
       "      <th>l_iris_x</th>\n",
       "      <th>l_iris_y</th>\n",
       "      <th>r_eyelid_x</th>\n",
       "      <th>r_eyelid_y</th>\n",
       "      <th>l_eyelid_x</th>\n",
       "      <th>l_eyelid_y</th>\n",
       "      <th>l_center_x</th>\n",
       "      <th>l_center_y</th>\n",
       "      <th>r_center_x</th>\n",
       "      <th>r_center_y</th>\n",
       "    </tr>\n",
       "  </thead>\n",
       "  <tbody>\n",
       "    <tr>\n",
       "      <th>0</th>\n",
       "      <td>001</td>\n",
       "      <td>[1020, 782]</td>\n",
       "      <td>A</td>\n",
       "      <td>987.5</td>\n",
       "      <td>362.0</td>\n",
       "      <td>816.0</td>\n",
       "      <td>386.5</td>\n",
       "      <td>991.6875</td>\n",
       "      <td>365.2500</td>\n",
       "      <td>818.0625</td>\n",
       "      <td>390.5000</td>\n",
       "      <td>816.0</td>\n",
       "      <td>386.5</td>\n",
       "      <td>987.5</td>\n",
       "      <td>362.0</td>\n",
       "    </tr>\n",
       "    <tr>\n",
       "      <th>1</th>\n",
       "      <td>001</td>\n",
       "      <td>[1020, 782]</td>\n",
       "      <td>A</td>\n",
       "      <td>989.0</td>\n",
       "      <td>363.0</td>\n",
       "      <td>818.0</td>\n",
       "      <td>388.0</td>\n",
       "      <td>993.1875</td>\n",
       "      <td>366.8750</td>\n",
       "      <td>818.9375</td>\n",
       "      <td>392.6875</td>\n",
       "      <td>818.0</td>\n",
       "      <td>388.0</td>\n",
       "      <td>989.0</td>\n",
       "      <td>363.0</td>\n",
       "    </tr>\n",
       "    <tr>\n",
       "      <th>2</th>\n",
       "      <td>001</td>\n",
       "      <td>[1020, 782]</td>\n",
       "      <td>A</td>\n",
       "      <td>989.5</td>\n",
       "      <td>362.5</td>\n",
       "      <td>819.0</td>\n",
       "      <td>388.0</td>\n",
       "      <td>993.0000</td>\n",
       "      <td>366.9375</td>\n",
       "      <td>819.5625</td>\n",
       "      <td>392.4375</td>\n",
       "      <td>819.0</td>\n",
       "      <td>388.0</td>\n",
       "      <td>989.5</td>\n",
       "      <td>362.5</td>\n",
       "    </tr>\n",
       "    <tr>\n",
       "      <th>3</th>\n",
       "      <td>001</td>\n",
       "      <td>[1020, 782]</td>\n",
       "      <td>A</td>\n",
       "      <td>988.5</td>\n",
       "      <td>363.0</td>\n",
       "      <td>817.0</td>\n",
       "      <td>388.0</td>\n",
       "      <td>990.5625</td>\n",
       "      <td>366.3750</td>\n",
       "      <td>819.3750</td>\n",
       "      <td>391.2500</td>\n",
       "      <td>817.0</td>\n",
       "      <td>388.0</td>\n",
       "      <td>988.5</td>\n",
       "      <td>363.0</td>\n",
       "    </tr>\n",
       "    <tr>\n",
       "      <th>4</th>\n",
       "      <td>001</td>\n",
       "      <td>[1020, 782]</td>\n",
       "      <td>A</td>\n",
       "      <td>986.0</td>\n",
       "      <td>362.0</td>\n",
       "      <td>814.5</td>\n",
       "      <td>387.0</td>\n",
       "      <td>990.4375</td>\n",
       "      <td>365.3125</td>\n",
       "      <td>815.3125</td>\n",
       "      <td>390.7500</td>\n",
       "      <td>814.5</td>\n",
       "      <td>387.0</td>\n",
       "      <td>986.0</td>\n",
       "      <td>362.0</td>\n",
       "    </tr>\n",
       "    <tr>\n",
       "      <th>...</th>\n",
       "      <td>...</td>\n",
       "      <td>...</td>\n",
       "      <td>...</td>\n",
       "      <td>...</td>\n",
       "      <td>...</td>\n",
       "      <td>...</td>\n",
       "      <td>...</td>\n",
       "      <td>...</td>\n",
       "      <td>...</td>\n",
       "      <td>...</td>\n",
       "      <td>...</td>\n",
       "      <td>...</td>\n",
       "      <td>...</td>\n",
       "      <td>...</td>\n",
       "      <td>...</td>\n",
       "    </tr>\n",
       "    <tr>\n",
       "      <th>3211</th>\n",
       "      <td>001</td>\n",
       "      <td>[923, 499]</td>\n",
       "      <td>S</td>\n",
       "      <td>652.0</td>\n",
       "      <td>767.5</td>\n",
       "      <td>382.5</td>\n",
       "      <td>761.0</td>\n",
       "      <td>652.1250</td>\n",
       "      <td>765.6875</td>\n",
       "      <td>384.4375</td>\n",
       "      <td>757.0000</td>\n",
       "      <td>383.0</td>\n",
       "      <td>761.0</td>\n",
       "      <td>654.0</td>\n",
       "      <td>769.0</td>\n",
       "    </tr>\n",
       "    <tr>\n",
       "      <th>3212</th>\n",
       "      <td>001</td>\n",
       "      <td>[923, 499]</td>\n",
       "      <td>S</td>\n",
       "      <td>654.0</td>\n",
       "      <td>768.5</td>\n",
       "      <td>389.0</td>\n",
       "      <td>757.5</td>\n",
       "      <td>655.5625</td>\n",
       "      <td>765.3750</td>\n",
       "      <td>380.9375</td>\n",
       "      <td>755.0000</td>\n",
       "      <td>389.0</td>\n",
       "      <td>757.5</td>\n",
       "      <td>654.0</td>\n",
       "      <td>768.5</td>\n",
       "    </tr>\n",
       "    <tr>\n",
       "      <th>3213</th>\n",
       "      <td>001</td>\n",
       "      <td>[923, 499]</td>\n",
       "      <td>S</td>\n",
       "      <td>651.5</td>\n",
       "      <td>769.0</td>\n",
       "      <td>383.0</td>\n",
       "      <td>759.5</td>\n",
       "      <td>653.5000</td>\n",
       "      <td>764.3750</td>\n",
       "      <td>378.9375</td>\n",
       "      <td>754.1250</td>\n",
       "      <td>389.0</td>\n",
       "      <td>753.5</td>\n",
       "      <td>658.0</td>\n",
       "      <td>767.0</td>\n",
       "    </tr>\n",
       "    <tr>\n",
       "      <th>3214</th>\n",
       "      <td>001</td>\n",
       "      <td>[923, 499]</td>\n",
       "      <td>S</td>\n",
       "      <td>655.5</td>\n",
       "      <td>768.5</td>\n",
       "      <td>390.5</td>\n",
       "      <td>755.0</td>\n",
       "      <td>650.1875</td>\n",
       "      <td>765.0625</td>\n",
       "      <td>382.7500</td>\n",
       "      <td>755.0625</td>\n",
       "      <td>390.5</td>\n",
       "      <td>755.0</td>\n",
       "      <td>655.5</td>\n",
       "      <td>768.5</td>\n",
       "    </tr>\n",
       "    <tr>\n",
       "      <th>3215</th>\n",
       "      <td>001</td>\n",
       "      <td>[923, 499]</td>\n",
       "      <td>S</td>\n",
       "      <td>655.5</td>\n",
       "      <td>767.0</td>\n",
       "      <td>385.5</td>\n",
       "      <td>758.5</td>\n",
       "      <td>652.4375</td>\n",
       "      <td>767.0000</td>\n",
       "      <td>381.1250</td>\n",
       "      <td>758.0625</td>\n",
       "      <td>385.5</td>\n",
       "      <td>758.5</td>\n",
       "      <td>655.5</td>\n",
       "      <td>767.0</td>\n",
       "    </tr>\n",
       "  </tbody>\n",
       "</table>\n",
       "<p>3216 rows × 15 columns</p>\n",
       "</div>"
      ],
      "text/plain": [
       "       ID        point condition  r_iris_x  r_iris_y  l_iris_x  l_iris_y  \\\n",
       "0     001  [1020, 782]         A     987.5     362.0     816.0     386.5   \n",
       "1     001  [1020, 782]         A     989.0     363.0     818.0     388.0   \n",
       "2     001  [1020, 782]         A     989.5     362.5     819.0     388.0   \n",
       "3     001  [1020, 782]         A     988.5     363.0     817.0     388.0   \n",
       "4     001  [1020, 782]         A     986.0     362.0     814.5     387.0   \n",
       "...   ...          ...       ...       ...       ...       ...       ...   \n",
       "3211  001   [923, 499]         S     652.0     767.5     382.5     761.0   \n",
       "3212  001   [923, 499]         S     654.0     768.5     389.0     757.5   \n",
       "3213  001   [923, 499]         S     651.5     769.0     383.0     759.5   \n",
       "3214  001   [923, 499]         S     655.5     768.5     390.5     755.0   \n",
       "3215  001   [923, 499]         S     655.5     767.0     385.5     758.5   \n",
       "\n",
       "      r_eyelid_x  r_eyelid_y  l_eyelid_x  l_eyelid_y  l_center_x  l_center_y  \\\n",
       "0       991.6875    365.2500    818.0625    390.5000       816.0       386.5   \n",
       "1       993.1875    366.8750    818.9375    392.6875       818.0       388.0   \n",
       "2       993.0000    366.9375    819.5625    392.4375       819.0       388.0   \n",
       "3       990.5625    366.3750    819.3750    391.2500       817.0       388.0   \n",
       "4       990.4375    365.3125    815.3125    390.7500       814.5       387.0   \n",
       "...          ...         ...         ...         ...         ...         ...   \n",
       "3211    652.1250    765.6875    384.4375    757.0000       383.0       761.0   \n",
       "3212    655.5625    765.3750    380.9375    755.0000       389.0       757.5   \n",
       "3213    653.5000    764.3750    378.9375    754.1250       389.0       753.5   \n",
       "3214    650.1875    765.0625    382.7500    755.0625       390.5       755.0   \n",
       "3215    652.4375    767.0000    381.1250    758.0625       385.5       758.5   \n",
       "\n",
       "      r_center_x  r_center_y  \n",
       "0          987.5       362.0  \n",
       "1          989.0       363.0  \n",
       "2          989.5       362.5  \n",
       "3          988.5       363.0  \n",
       "4          986.0       362.0  \n",
       "...          ...         ...  \n",
       "3211       654.0       769.0  \n",
       "3212       654.0       768.5  \n",
       "3213       658.0       767.0  \n",
       "3214       655.5       768.5  \n",
       "3215       655.5       767.0  \n",
       "\n",
       "[3216 rows x 15 columns]"
      ]
     },
     "execution_count": 11,
     "metadata": {},
     "output_type": "execute_result"
    }
   ],
   "source": [
    "### 제이슨 파일 불러오기\n",
    "directory_path = './data/라벨링/sp_1'\n",
    "json_data = []\n",
    "\n",
    "try:\n",
    "    file_list = os.listdir(directory_path)\n",
    "    json_files = [file for file in file_list if file.endswith('.json')]\n",
    "\n",
    "    for json_file in json_files:\n",
    "        json_path = os.path.join(directory_path, json_file)\n",
    "        try:\n",
    "            with open(json_path, 'r') as file:\n",
    "                data = json.load(file)\n",
    "                json_data.append(data)\n",
    "        except Exception as e:\n",
    "            print(f\"Error reading JSON file '{json_file}': {e}\")\n",
    "except Exception as e:\n",
    "    print(f\"Error accessing directory '{directory_path}': {e}\")\n",
    "\n",
    "### 제이슨 파일 데이터프레임으로 변환\n",
    "df = pd.DataFrame()\n",
    "\n",
    "for data in json_data:\n",
    "    ### ID\n",
    "    id_ = data['Annotations']['metaid']\n",
    "    ### point\n",
    "    point = data['Annotations']['pose']['point']\n",
    "    ### condition\n",
    "    condition = data['Annotations']['condition']\n",
    "    \n",
    "    df_1 = pd.DataFrame({'ID':id_, 'point':[point], 'condition':condition})\n",
    "    \n",
    "    ### label 별로 평균값으로 데이터 프레임 넣기    \n",
    "    for item in data['Annotations']['annotations']:\n",
    "        label = item['label']\n",
    "        points = item['points']\n",
    "        avg_x = sum(p[0] for p in points) / len(points)\n",
    "        avg_y = sum(p[1] for p in points) / len(points)\n",
    "\n",
    "        df_1[label+'_x'] = avg_x\n",
    "        df_1[label+'_y'] = avg_y\n",
    "    \n",
    "    ### df에 추가하기\n",
    "    df = pd.concat ([df, df_1], ignore_index = True)\n",
    "df"
   ]
  },
  {
   "cell_type": "code",
   "execution_count": 38,
   "id": "45ddb687",
   "metadata": {},
   "outputs": [],
   "source": [
    "# 이미지 파일이 있는 폴더 경로\n",
    "image_folder = './data/model/'\n",
    "\n",
    "# 이미지 파일들의 경로 가져오기\n",
    "image_paths = glob.glob(image_folder + '*.png')\n",
    "\n",
    "# 데이터프레임 순회하며 결측치가 있는 행 삭제하고 이미지 파일도 삭제\n",
    "rows_to_delete = []\n",
    "for index, row in df.iterrows():\n",
    "    if pd.isnull(row).any():  # 결측치 있는 행\n",
    "        rows_to_delete.append(index)\n",
    "\n",
    "# 데이터프레임에서 결측치가 있는 행 삭제\n",
    "df.drop(rows_to_delete, inplace=True)\n",
    "\n",
    "# 해당 행에 해당하는 이미지 파일도 리스트에서 삭제\n",
    "for index in rows_to_delete:\n",
    "    image_path = image_paths[index]\n",
    "    os.remove(image_path)\n",
    "\n",
    "# 이미지 파일이 있는 폴더 경로\n",
    "image_folder = './data/model/'\n",
    "\n",
    "# 이미지 파일들의 경로 가져오기\n",
    "image_paths = glob.glob(image_folder + '*.png')"
   ]
  },
  {
   "cell_type": "code",
   "execution_count": 39,
   "id": "753d188a",
   "metadata": {},
   "outputs": [
    {
     "ename": "MemoryError",
     "evalue": "Unable to allocate 15.8 MiB for an array with shape (1920, 1080) and data type float64",
     "output_type": "error",
     "traceback": [
      "\u001b[1;31m---------------------------------------------------------------------------\u001b[0m",
      "\u001b[1;31mMemoryError\u001b[0m                               Traceback (most recent call last)",
      "Cell \u001b[1;32mIn[39], line 18\u001b[0m\n\u001b[0;32m     14\u001b[0m \u001b[38;5;28;01mfor\u001b[39;00m image_file \u001b[38;5;129;01min\u001b[39;00m image_paths:\n\u001b[0;32m     15\u001b[0m \u001b[38;5;66;03m#     print(r)\u001b[39;00m\n\u001b[0;32m     16\u001b[0m \u001b[38;5;66;03m#     r=r+1\u001b[39;00m\n\u001b[0;32m     17\u001b[0m     image \u001b[38;5;241m=\u001b[39m cv2\u001b[38;5;241m.\u001b[39mimread(image_file, cv2\u001b[38;5;241m.\u001b[39mIMREAD_GRAYSCALE)\n\u001b[1;32m---> 18\u001b[0m     hog_features \u001b[38;5;241m=\u001b[39m \u001b[43mhog\u001b[49m\u001b[43m(\u001b[49m\u001b[43mimage\u001b[49m\u001b[43m,\u001b[49m\u001b[43m \u001b[49m\u001b[43morientations\u001b[49m\u001b[38;5;241;43m=\u001b[39;49m\u001b[38;5;241;43m9\u001b[39;49m\u001b[43m,\u001b[49m\u001b[43m \u001b[49m\u001b[43mpixels_per_cell\u001b[49m\u001b[38;5;241;43m=\u001b[39;49m\u001b[43m(\u001b[49m\u001b[38;5;241;43m8\u001b[39;49m\u001b[43m,\u001b[49m\u001b[43m \u001b[49m\u001b[38;5;241;43m8\u001b[39;49m\u001b[43m)\u001b[49m\u001b[43m,\u001b[49m\n\u001b[0;32m     19\u001b[0m \u001b[43m            \u001b[49m\u001b[43mcells_per_block\u001b[49m\u001b[38;5;241;43m=\u001b[39;49m\u001b[43m(\u001b[49m\u001b[38;5;241;43m2\u001b[39;49m\u001b[43m,\u001b[49m\u001b[43m \u001b[49m\u001b[38;5;241;43m2\u001b[39;49m\u001b[43m)\u001b[49m\u001b[43m,\u001b[49m\u001b[43m \u001b[49m\u001b[43mtransform_sqrt\u001b[49m\u001b[38;5;241;43m=\u001b[39;49m\u001b[38;5;28;43;01mTrue\u001b[39;49;00m\u001b[43m,\u001b[49m\u001b[43m \u001b[49m\u001b[43mblock_norm\u001b[49m\u001b[38;5;241;43m=\u001b[39;49m\u001b[38;5;124;43m\"\u001b[39;49m\u001b[38;5;124;43mL2\u001b[39;49m\u001b[38;5;124;43m\"\u001b[39;49m\u001b[43m)\u001b[49m\n\u001b[0;32m     20\u001b[0m     features\u001b[38;5;241m.\u001b[39mappend(hog_features)\n\u001b[0;32m     22\u001b[0m \u001b[38;5;66;03m# numpy 배열을 DataFrame으로 변환 후, 원래의 DataFrame에 추가\u001b[39;00m\n",
      "File \u001b[1;32m~\\anaconda3\\envs\\eyepro\\lib\\site-packages\\skimage\\_shared\\utils.py:316\u001b[0m, in \u001b[0;36mchannel_as_last_axis.__call__.<locals>.fixed_func\u001b[1;34m(*args, **kwargs)\u001b[0m\n\u001b[0;32m    313\u001b[0m channel_axis \u001b[38;5;241m=\u001b[39m kwargs\u001b[38;5;241m.\u001b[39mget(\u001b[38;5;124m'\u001b[39m\u001b[38;5;124mchannel_axis\u001b[39m\u001b[38;5;124m'\u001b[39m, \u001b[38;5;28;01mNone\u001b[39;00m)\n\u001b[0;32m    315\u001b[0m \u001b[38;5;28;01mif\u001b[39;00m channel_axis \u001b[38;5;129;01mis\u001b[39;00m \u001b[38;5;28;01mNone\u001b[39;00m:\n\u001b[1;32m--> 316\u001b[0m     \u001b[38;5;28;01mreturn\u001b[39;00m func(\u001b[38;5;241m*\u001b[39margs, \u001b[38;5;241m*\u001b[39m\u001b[38;5;241m*\u001b[39mkwargs)\n\u001b[0;32m    318\u001b[0m \u001b[38;5;66;03m# TODO: convert scalars to a tuple in anticipation of eventually\u001b[39;00m\n\u001b[0;32m    319\u001b[0m \u001b[38;5;66;03m#       supporting a tuple of channel axes. Right now, only an\u001b[39;00m\n\u001b[0;32m    320\u001b[0m \u001b[38;5;66;03m#       integer or a single-element tuple is supported, though.\u001b[39;00m\n\u001b[0;32m    321\u001b[0m \u001b[38;5;28;01mif\u001b[39;00m np\u001b[38;5;241m.\u001b[39misscalar(channel_axis):\n",
      "File \u001b[1;32m~\\anaconda3\\envs\\eyepro\\lib\\site-packages\\skimage\\feature\\_hog.py:233\u001b[0m, in \u001b[0;36mhog\u001b[1;34m(image, orientations, pixels_per_cell, cells_per_block, block_norm, visualize, transform_sqrt, feature_vector, channel_axis)\u001b[0m\n\u001b[0;32m    230\u001b[0m g_row \u001b[38;5;241m=\u001b[39m g_row\u001b[38;5;241m.\u001b[39mastype(\u001b[38;5;28mfloat\u001b[39m, copy\u001b[38;5;241m=\u001b[39m\u001b[38;5;28;01mFalse\u001b[39;00m)\n\u001b[0;32m    231\u001b[0m g_col \u001b[38;5;241m=\u001b[39m g_col\u001b[38;5;241m.\u001b[39mastype(\u001b[38;5;28mfloat\u001b[39m, copy\u001b[38;5;241m=\u001b[39m\u001b[38;5;28;01mFalse\u001b[39;00m)\n\u001b[1;32m--> 233\u001b[0m \u001b[43m_hoghistogram\u001b[49m\u001b[38;5;241;43m.\u001b[39;49m\u001b[43mhog_histograms\u001b[49m\u001b[43m(\u001b[49m\u001b[43mg_col\u001b[49m\u001b[43m,\u001b[49m\u001b[43m \u001b[49m\u001b[43mg_row\u001b[49m\u001b[43m,\u001b[49m\u001b[43m \u001b[49m\u001b[43mc_col\u001b[49m\u001b[43m,\u001b[49m\u001b[43m \u001b[49m\u001b[43mc_row\u001b[49m\u001b[43m,\u001b[49m\u001b[43m \u001b[49m\u001b[43ms_col\u001b[49m\u001b[43m,\u001b[49m\u001b[43m \u001b[49m\u001b[43ms_row\u001b[49m\u001b[43m,\u001b[49m\n\u001b[0;32m    234\u001b[0m \u001b[43m                             \u001b[49m\u001b[43mn_cells_col\u001b[49m\u001b[43m,\u001b[49m\u001b[43m \u001b[49m\u001b[43mn_cells_row\u001b[49m\u001b[43m,\u001b[49m\n\u001b[0;32m    235\u001b[0m \u001b[43m                             \u001b[49m\u001b[43morientations\u001b[49m\u001b[43m,\u001b[49m\u001b[43m \u001b[49m\u001b[43morientation_histogram\u001b[49m\u001b[43m)\u001b[49m\n\u001b[0;32m    237\u001b[0m \u001b[38;5;66;03m# now compute the histogram for each cell\u001b[39;00m\n\u001b[0;32m    238\u001b[0m hog_image \u001b[38;5;241m=\u001b[39m \u001b[38;5;28;01mNone\u001b[39;00m\n",
      "File \u001b[1;32m_hoghistogram.pyx:116\u001b[0m, in \u001b[0;36mskimage.feature._hoghistogram.hog_histograms\u001b[1;34m()\u001b[0m\n",
      "\u001b[1;31mMemoryError\u001b[0m: Unable to allocate 15.8 MiB for an array with shape (1920, 1080) and data type float64"
     ]
    }
   ],
   "source": [
    "import cv2\n",
    "import numpy as np\n",
    "from skimage.feature import hog\n",
    "from sklearn.model_selection import train_test_split\n",
    "from sklearn.svm import SVC\n",
    "from sklearn.metrics import accuracy_score\n",
    "import glob\n",
    "\n",
    "\n",
    "\n",
    "features = []\n",
    "r=0\n",
    "# hog 함수를 이용하여 이미지 파일 읽어들이기\n",
    "for image_file in image_paths:\n",
    "#     print(r)\n",
    "#     r=r+1\n",
    "    image = cv2.imread(image_file, cv2.IMREAD_GRAYSCALE)\n",
    "    hog_features = hog(image, orientations=9, pixels_per_cell=(8, 8),\n",
    "            cells_per_block=(2, 2), transform_sqrt=True, block_norm=\"L2\")\n",
    "    features.append(hog_features)\n",
    "\n",
    "# numpy 배열을 DataFrame으로 변환 후, 원래의 DataFrame에 추가\n",
    "df_hog = pd.DataFrame(features)\n",
    "df = pd.concat([df, df_hog], axis=1)\n",
    "df"
   ]
  },
  {
   "cell_type": "code",
   "execution_count": 37,
   "id": "c4b7c780",
   "metadata": {},
   "outputs": [
    {
     "data": {
      "text/plain": [
       "'./data/model\\\\NIA22EYE_S1_001_T1_S10_S_rgb_A_E_L_109.png'"
      ]
     },
     "execution_count": 37,
     "metadata": {},
     "output_type": "execute_result"
    }
   ],
   "source": [
    "image = cv2.imread(image_paths[176], cv2.IMREAD_GRAYSCALE)\n",
    "hog_features = hog(image, orientations=9, pixels_per_cell=(8, 8),\n",
    "            cells_per_block=(2, 2), transform_sqrt=True, block_norm=\"L2\")\n",
    "hog_features\n",
    "image_paths[174]"
   ]
  },
  {
   "cell_type": "code",
   "execution_count": 321,
   "id": "3cc3809b",
   "metadata": {},
   "outputs": [
    {
     "name": "stdout",
     "output_type": "stream",
     "text": [
      "0\n",
      "1\n",
      "2\n",
      "3\n",
      "4\n",
      "5\n",
      "6\n",
      "7\n",
      "8\n",
      "9\n",
      "10\n",
      "11\n"
     ]
    },
    {
     "data": {
      "text/plain": [
       "((12, 1152936), (12,))"
      ]
     },
     "execution_count": 321,
     "metadata": {},
     "output_type": "execute_result"
    }
   ],
   "source": [
    "# y = []\n",
    "# label_encoder = LabelEncoder()\n",
    "# labels = df.iloc[:,2]  # 라벨 컬럼 선택\n",
    "# encoded_labels = label_encoder.fit_transform(labels)\n",
    "# for i in encoded_labels :\n",
    "#     y.append(i)\n",
    "# # HOG 특성과 레이블 설정\n",
    "# X = []\n",
    "\n",
    "\n",
    "# for image_path, coordinates in zip(image_paths, df.iloc[:,3:]):\n",
    "#     image = cv2.imread(image_path, cv2.IMREAD_GRAYSCALE)\n",
    "#     hog_features, _ = hog(image, pixels_per_cell=(8, 8), cells_per_block=(2, 2), visualize=True)\n",
    "#     X.append(hog_features)  # 1차원으로 변환\n",
    "\n",
    "\n",
    "# X = np.array(X)  # 2차원 배열로 변환\n",
    "# y = np.array(y)\n",
    "\n",
    "# X.shape,y.shape\n",
    "df.reset_index(drop=True)\n",
    "\n",
    "X = []\n",
    "y = []\n",
    "r=0\n",
    "for image_path, coordinates, label in zip(image_paths, df.iloc[:, 3:], df.iloc[:, 2]):\n",
    "    image = cv2.imread(image_path, cv2.IMREAD_GRAYSCALE)\n",
    "    hog_features, _ = hog(image, pixels_per_cell=(8, 8), cells_per_block=(2, 2), visualize=True)\n",
    "    X.append(hog_features)  # 1차원으로 변환\n",
    "    y.append(label)  # 레이블 추가\n",
    "\n",
    "X = np.array(X)  # 2차원 배열로 변환\n",
    "y = np.array(y)\n",
    "\n",
    "X.shape, y.shape"
   ]
  },
  {
   "cell_type": "code",
   "execution_count": 322,
   "id": "7fb25c89",
   "metadata": {
    "scrolled": true
   },
   "outputs": [
    {
     "data": {
      "text/plain": [
       "array([[ 22,  22,  15, ..., 141, 142, 143],\n",
       "       [ 26,  22,  26, ..., 141, 141, 139],\n",
       "       [ 31,  31,  31, ..., 140, 139, 137],\n",
       "       ...,\n",
       "       [168, 166, 164, ..., 138, 140, 141],\n",
       "       [161, 165, 164, ..., 145, 146, 146],\n",
       "       [164, 165, 166, ..., 146, 146, 146]], dtype=uint8)"
      ]
     },
     "execution_count": 322,
     "metadata": {},
     "output_type": "execute_result"
    }
   ],
   "source": [
    "image"
   ]
  },
  {
   "cell_type": "code",
   "execution_count": 312,
   "id": "26b0e765",
   "metadata": {},
   "outputs": [
    {
     "ename": "ValueError",
     "evalue": "The number of classes has to be greater than one; got 1 class",
     "output_type": "error",
     "traceback": [
      "\u001b[1;31m---------------------------------------------------------------------------\u001b[0m",
      "\u001b[1;31mValueError\u001b[0m                                Traceback (most recent call last)",
      "Cell \u001b[1;32mIn[312], line 6\u001b[0m\n\u001b[0;32m      4\u001b[0m \u001b[38;5;66;03m# SVM 모델 생성 및 훈련\u001b[39;00m\n\u001b[0;32m      5\u001b[0m model \u001b[38;5;241m=\u001b[39m SVC(kernel\u001b[38;5;241m=\u001b[39m\u001b[38;5;124m'\u001b[39m\u001b[38;5;124mlinear\u001b[39m\u001b[38;5;124m'\u001b[39m, random_state\u001b[38;5;241m=\u001b[39m\u001b[38;5;241m42\u001b[39m)\n\u001b[1;32m----> 6\u001b[0m \u001b[43mmodel\u001b[49m\u001b[38;5;241;43m.\u001b[39;49m\u001b[43mfit\u001b[49m\u001b[43m(\u001b[49m\u001b[43mX_train\u001b[49m\u001b[43m,\u001b[49m\u001b[43m \u001b[49m\u001b[43my_train\u001b[49m\u001b[43m)\u001b[49m\n\u001b[0;32m      8\u001b[0m \u001b[38;5;66;03m# 테스트 데이터로 예측\u001b[39;00m\n\u001b[0;32m      9\u001b[0m y_pred \u001b[38;5;241m=\u001b[39m model\u001b[38;5;241m.\u001b[39mpredict(X_test)\n",
      "File \u001b[1;32m~\\anaconda3\\envs\\eyepro\\lib\\site-packages\\sklearn\\base.py:1151\u001b[0m, in \u001b[0;36m_fit_context.<locals>.decorator.<locals>.wrapper\u001b[1;34m(estimator, *args, **kwargs)\u001b[0m\n\u001b[0;32m   1144\u001b[0m     estimator\u001b[38;5;241m.\u001b[39m_validate_params()\n\u001b[0;32m   1146\u001b[0m \u001b[38;5;28;01mwith\u001b[39;00m config_context(\n\u001b[0;32m   1147\u001b[0m     skip_parameter_validation\u001b[38;5;241m=\u001b[39m(\n\u001b[0;32m   1148\u001b[0m         prefer_skip_nested_validation \u001b[38;5;129;01mor\u001b[39;00m global_skip_validation\n\u001b[0;32m   1149\u001b[0m     )\n\u001b[0;32m   1150\u001b[0m ):\n\u001b[1;32m-> 1151\u001b[0m     \u001b[38;5;28;01mreturn\u001b[39;00m fit_method(estimator, \u001b[38;5;241m*\u001b[39margs, \u001b[38;5;241m*\u001b[39m\u001b[38;5;241m*\u001b[39mkwargs)\n",
      "File \u001b[1;32m~\\anaconda3\\envs\\eyepro\\lib\\site-packages\\sklearn\\svm\\_base.py:199\u001b[0m, in \u001b[0;36mBaseLibSVM.fit\u001b[1;34m(self, X, y, sample_weight)\u001b[0m\n\u001b[0;32m    189\u001b[0m \u001b[38;5;28;01melse\u001b[39;00m:\n\u001b[0;32m    190\u001b[0m     X, y \u001b[38;5;241m=\u001b[39m \u001b[38;5;28mself\u001b[39m\u001b[38;5;241m.\u001b[39m_validate_data(\n\u001b[0;32m    191\u001b[0m         X,\n\u001b[0;32m    192\u001b[0m         y,\n\u001b[1;32m   (...)\u001b[0m\n\u001b[0;32m    196\u001b[0m         accept_large_sparse\u001b[38;5;241m=\u001b[39m\u001b[38;5;28;01mFalse\u001b[39;00m,\n\u001b[0;32m    197\u001b[0m     )\n\u001b[1;32m--> 199\u001b[0m y \u001b[38;5;241m=\u001b[39m \u001b[38;5;28;43mself\u001b[39;49m\u001b[38;5;241;43m.\u001b[39;49m\u001b[43m_validate_targets\u001b[49m\u001b[43m(\u001b[49m\u001b[43my\u001b[49m\u001b[43m)\u001b[49m\n\u001b[0;32m    201\u001b[0m sample_weight \u001b[38;5;241m=\u001b[39m np\u001b[38;5;241m.\u001b[39masarray(\n\u001b[0;32m    202\u001b[0m     [] \u001b[38;5;28;01mif\u001b[39;00m sample_weight \u001b[38;5;129;01mis\u001b[39;00m \u001b[38;5;28;01mNone\u001b[39;00m \u001b[38;5;28;01melse\u001b[39;00m sample_weight, dtype\u001b[38;5;241m=\u001b[39mnp\u001b[38;5;241m.\u001b[39mfloat64\n\u001b[0;32m    203\u001b[0m )\n\u001b[0;32m    204\u001b[0m solver_type \u001b[38;5;241m=\u001b[39m LIBSVM_IMPL\u001b[38;5;241m.\u001b[39mindex(\u001b[38;5;28mself\u001b[39m\u001b[38;5;241m.\u001b[39m_impl)\n",
      "File \u001b[1;32m~\\anaconda3\\envs\\eyepro\\lib\\site-packages\\sklearn\\svm\\_base.py:747\u001b[0m, in \u001b[0;36mBaseSVC._validate_targets\u001b[1;34m(self, y)\u001b[0m\n\u001b[0;32m    745\u001b[0m \u001b[38;5;28mself\u001b[39m\u001b[38;5;241m.\u001b[39mclass_weight_ \u001b[38;5;241m=\u001b[39m compute_class_weight(\u001b[38;5;28mself\u001b[39m\u001b[38;5;241m.\u001b[39mclass_weight, classes\u001b[38;5;241m=\u001b[39m\u001b[38;5;28mcls\u001b[39m, y\u001b[38;5;241m=\u001b[39my_)\n\u001b[0;32m    746\u001b[0m \u001b[38;5;28;01mif\u001b[39;00m \u001b[38;5;28mlen\u001b[39m(\u001b[38;5;28mcls\u001b[39m) \u001b[38;5;241m<\u001b[39m \u001b[38;5;241m2\u001b[39m:\n\u001b[1;32m--> 747\u001b[0m     \u001b[38;5;28;01mraise\u001b[39;00m \u001b[38;5;167;01mValueError\u001b[39;00m(\n\u001b[0;32m    748\u001b[0m         \u001b[38;5;124m\"\u001b[39m\u001b[38;5;124mThe number of classes has to be greater than one; got \u001b[39m\u001b[38;5;132;01m%d\u001b[39;00m\u001b[38;5;124m class\u001b[39m\u001b[38;5;124m\"\u001b[39m\n\u001b[0;32m    749\u001b[0m         \u001b[38;5;241m%\u001b[39m \u001b[38;5;28mlen\u001b[39m(\u001b[38;5;28mcls\u001b[39m)\n\u001b[0;32m    750\u001b[0m     )\n\u001b[0;32m    752\u001b[0m \u001b[38;5;28mself\u001b[39m\u001b[38;5;241m.\u001b[39mclasses_ \u001b[38;5;241m=\u001b[39m \u001b[38;5;28mcls\u001b[39m\n\u001b[0;32m    754\u001b[0m \u001b[38;5;28;01mreturn\u001b[39;00m np\u001b[38;5;241m.\u001b[39masarray(y, dtype\u001b[38;5;241m=\u001b[39mnp\u001b[38;5;241m.\u001b[39mfloat64, order\u001b[38;5;241m=\u001b[39m\u001b[38;5;124m\"\u001b[39m\u001b[38;5;124mC\u001b[39m\u001b[38;5;124m\"\u001b[39m)\n",
      "\u001b[1;31mValueError\u001b[0m: The number of classes has to be greater than one; got 1 class"
     ]
    }
   ],
   "source": [
    "# 훈련 데이터와 테스트 데이터 분리\n",
    "X_train, X_test, y_train, y_test = train_test_split(X, y, test_size=0.2, random_state=42)\n",
    "\n",
    "# SVM 모델 생성 및 훈련\n",
    "model = SVC(kernel='linear', random_state=42)\n",
    "model.fit(X_train, y_train)\n",
    "\n",
    "# 테스트 데이터로 예측\n",
    "y_pred = model.predict(X_test)\n",
    "\n",
    "# 정확도 평가\n",
    "accuracy = accuracy_score(y_test, y_pred)\n",
    "print(f\"Accuracy: {accuracy}\")"
   ]
  },
  {
   "cell_type": "code",
   "execution_count": 260,
   "id": "5504e241",
   "metadata": {},
   "outputs": [],
   "source": [
    "### 제이슨 파일 데이터프레임으로 변환\n",
    "df = pd.DataFrame()\n",
    "\n",
    "for data in json_data:\n",
    "    ### ID\n",
    "    id_ = data['Annotations']['metaid']\n",
    "    ### point\n",
    "    point = data['Annotations']['pose']['point']\n",
    "    ### condition\n",
    "    condition = data['Annotations']['condition']\n",
    "    \n",
    "    df_1 = pd.DataFrame({'ID':id_, 'point':[point], 'condition':condition})\n",
    "    \n",
    "    ### label 별로 평균값으로 데이터 프레임 넣기    \n",
    "    for item in data['Annotations']['annotations']:\n",
    "        label = item['label']\n",
    "        points = item['points']\n",
    "        avg_x = sum(p[0] for p in points) / len(points)\n",
    "        avg_y = sum(p[1] for p in points) / len(points)\n",
    "\n",
    "        df_1[label+'_x'] = avg_x\n",
    "        df_1[label+'_y'] = avg_y\n",
    "    \n",
    "    ### df에 추가하기\n",
    "    df = pd.concat ([df, df_1], ignore_index = True)"
   ]
  },
  {
   "cell_type": "code",
   "execution_count": 80,
   "id": "4cc7e660",
   "metadata": {},
   "outputs": [],
   "source": [
    "### 결측치 처리\n",
    "df = df.dropna()"
   ]
  },
  {
   "cell_type": "code",
   "execution_count": 81,
   "id": "f015a37b",
   "metadata": {},
   "outputs": [
    {
     "name": "stdout",
     "output_type": "stream",
     "text": [
      "(29339, 12) (29339,)\n"
     ]
    }
   ],
   "source": [
    "data = df.iloc[:, 3:].to_numpy()\n",
    "target = df.iloc[:, 2].to_numpy()\n",
    "\n",
    "print(data.shape, target.shape)"
   ]
  },
  {
   "cell_type": "code",
   "execution_count": 82,
   "id": "79e429a9",
   "metadata": {},
   "outputs": [
    {
     "name": "stdout",
     "output_type": "stream",
     "text": [
      "(29339,)\n"
     ]
    }
   ],
   "source": [
    "### target 데이터를 숫자로 인코딩\n",
    "from sklearn.preprocessing import LabelEncoder\n",
    "\n",
    "# 레이블 인코더 생성\n",
    "label_encoder = LabelEncoder()\n",
    "\n",
    "# 데이터 변환\n",
    "target = label_encoder.fit_transform(target)\n",
    "\n",
    "print(target.shape)"
   ]
  },
  {
   "cell_type": "code",
   "execution_count": 83,
   "id": "68e1ffa0",
   "metadata": {},
   "outputs": [
    {
     "name": "stdout",
     "output_type": "stream",
     "text": [
      "(23471, 12) (23471,)\n",
      "(5868, 12) (5868,)\n"
     ]
    }
   ],
   "source": [
    "### 8:2로 나누기\n",
    "from sklearn.model_selection import train_test_split\n",
    "\n",
    "train_x, test_x, train_y, test_y = train_test_split(data, target, random_state=42, test_size=0.2)\n",
    "\n",
    "print(train_x.shape, train_y.shape)\n",
    "print(test_x.shape, test_y.shape)"
   ]
  },
  {
   "cell_type": "markdown",
   "id": "299f4583",
   "metadata": {},
   "source": [
    "### 정규화"
   ]
  },
  {
   "cell_type": "code",
   "execution_count": 84,
   "id": "c6872a75",
   "metadata": {},
   "outputs": [
    {
     "name": "stdout",
     "output_type": "stream",
     "text": [
      "(23471, 12)\n"
     ]
    }
   ],
   "source": [
    "### StandardScaler\n",
    "from sklearn.preprocessing import StandardScaler\n",
    "ss = StandardScaler()\n",
    "ss.fit(train_x)\n",
    "\n",
    "train_std_scaler = ss.transform(train_x)\n",
    "test_std_scaler = ss.transform(test_x)\n",
    "\n",
    "print(train_std_scaler.shape)"
   ]
  },
  {
   "cell_type": "code",
   "execution_count": 85,
   "id": "a2355229",
   "metadata": {},
   "outputs": [
    {
     "name": "stdout",
     "output_type": "stream",
     "text": [
      "(29339, 12)\n"
     ]
    }
   ],
   "source": [
    "### 예측 데이터 정규화\n",
    "### StandardScaler\n",
    "from sklearn.preprocessing import StandardScaler\n",
    "ss = StandardScaler()\n",
    "ss.fit(data)\n",
    "\n",
    "pred_std_scaler = ss.transform(data)\n",
    "\n",
    "print(pred_std_scaler.shape)"
   ]
  },
  {
   "cell_type": "markdown",
   "id": "fff55907",
   "metadata": {},
   "source": [
    "### 랜덤포레스트"
   ]
  },
  {
   "cell_type": "code",
   "execution_count": 74,
   "id": "79e862bc",
   "metadata": {
    "scrolled": true
   },
   "outputs": [
    {
     "name": "stdout",
     "output_type": "stream",
     "text": [
      "훈련 정확도 : 0.9999843808571786\n",
      "테스트 정확도 : 0.9159117885924908\n"
     ]
    }
   ],
   "source": [
    "### 랜덤포레스트 훈련모델 라이브러리\n",
    "from sklearn.ensemble import RandomForestClassifier\n",
    "\n",
    "### 훈련모델 생성\n",
    "rf = RandomForestClassifier(n_jobs=-1, random_state=42)\n",
    "\n",
    "### Std훈련 시키기\n",
    "rf.fit(train_std_scaler, train_y)\n",
    "\n",
    "### 훈련정확도 및 테스트 정확도\n",
    "tr_score = rf.score(train_std_scaler, train_y)\n",
    "ts_score = rf.score(test_std_scaler, test_y)\n",
    "\n",
    "print('훈련 정확도 :', tr_score)\n",
    "print('테스트 정확도 :', ts_score)"
   ]
  },
  {
   "cell_type": "code",
   "execution_count": 222,
   "id": "f0312a19",
   "metadata": {},
   "outputs": [
    {
     "name": "stdout",
     "output_type": "stream",
     "text": [
      "훈련 정확도 : 0.9999946287095475\n",
      "테스트 정확도 : 0.9025653145410794\n"
     ]
    }
   ],
   "source": [
    "### 랜덤포레스트 훈련모델 라이브러리\n",
    "from sklearn.ensemble import RandomForestClassifier\n",
    "\n",
    "### 훈련모델 생성\n",
    "rf = RandomForestClassifier(n_jobs=-1,max_depth=39,n_estimators=100, random_state=42)\n",
    "\n",
    "### Std훈련 시키기\n",
    "rf.fit(train_std_scaler, train_y)\n",
    "\n",
    "### 훈련정확도 및 테스트 정확도\n",
    "tr_score = rf.score(train_std_scaler, train_y)\n",
    "ts_score = rf.score(test_std_scaler, test_y)\n",
    "\n",
    "print('훈련 정확도 :', tr_score)\n",
    "print('테스트 정확도 :', ts_score)"
   ]
  },
  {
   "cell_type": "code",
   "execution_count": 75,
   "id": "cf82b99c",
   "metadata": {},
   "outputs": [
    {
     "name": "stdout",
     "output_type": "stream",
     "text": [
      "{'max_depth': 19, 'n_estimators': 26}\n",
      "훈련 정확도 : 0.8925559165313007\n",
      "테스트 정확도 : 0.8035859311551197\n"
     ]
    }
   ],
   "source": [
    "### 랜덤포레스트 교차검증\n",
    "from sklearn.ensemble import RandomForestClassifier\n",
    "\n",
    "params = {\"max_depth\" : range(5,20,1),\n",
    "          \"n_estimators\" : range(2,30,1)}\n",
    "\n",
    "### 훈련모델 생성\n",
    "rf = RandomForestClassifier(random_state=42)\n",
    "\n",
    "### AutoML 클래스 생성하기\n",
    "gs = GridSearchCV(rf, params, n_jobs=-1)\n",
    "\n",
    "### AutoML 실행하기 : 하이퍼파라메터 튜닝 + 훈련(교차검증 수행)\n",
    "gs.fit(train_std_scaler, train_y)\n",
    "\n",
    "rf = gs.best_estimator_\n",
    "\n",
    "### 과적합 확인하기\n",
    "print(gs.best_params_)\n",
    "print(\"훈련 정확도 :\", rf.score(train_std_scaler, train_y))\n",
    "print(\"테스트 정확도 :\", rf.score(test_std_scaler, test_y))"
   ]
  },
  {
   "cell_type": "markdown",
   "id": "7b5470a1",
   "metadata": {},
   "source": [
    "### 엑스트라 모델"
   ]
  },
  {
   "cell_type": "code",
   "execution_count": 28,
   "id": "51a406af",
   "metadata": {},
   "outputs": [],
   "source": [
    "from sklearn.ensemble import ExtraTreesClassifier"
   ]
  },
  {
   "cell_type": "code",
   "execution_count": 76,
   "id": "49df9ff0",
   "metadata": {},
   "outputs": [
    {
     "name": "stdout",
     "output_type": "stream",
     "text": [
      "훈련 정확도 : 1.0\n",
      "테스트 정확도 : 0.9310301742987444\n"
     ]
    }
   ],
   "source": [
    "### 모델 생성\n",
    "et = ExtraTreesClassifier(n_jobs=-1, random_state=42)\n",
    "\n",
    "### 훈련시키기\n",
    "et.fit(train_std_scaler, train_y)\n",
    "\n",
    "### 정확도 확인\n",
    "tr_score = et.score(train_std_scaler, train_y)\n",
    "ts_score = et.score(test_std_scaler, test_y)\n",
    "print('훈련 정확도 :', tr_score)\n",
    "print('테스트 정확도 :', ts_score)"
   ]
  },
  {
   "cell_type": "code",
   "execution_count": 97,
   "id": "08ea9d8f",
   "metadata": {},
   "outputs": [
    {
     "name": "stdout",
     "output_type": "stream",
     "text": [
      "{'max_depth': 24, 'n_estimators': 37}\n",
      "훈련 정확도 : 0.9967668374359615\n",
      "테스트 정확도 : 0.9119135378272006\n"
     ]
    }
   ],
   "source": [
    "### 엑스트라 교차학습\n",
    "\n",
    "params = {\"max_depth\" : range(1,25,1),\n",
    "          \"n_estimators\" : range(2,40,1)}\n",
    "\n",
    "### 훈련모델 생성\n",
    "et = ExtraTreesClassifier(random_state=42)\n",
    "\n",
    "### AutoML 클래스 생성하기\n",
    "gs = GridSearchCV(et, params, n_jobs=-1)\n",
    "\n",
    "### AutoML 실행하기 : 하이퍼파라메터 튜닝 + 훈련(교차검증 수행)\n",
    "gs.fit(train_std_scaler, train_y)\n",
    "\n",
    "et = gs.best_estimator_\n",
    "\n",
    "### 과적합 확인하기\n",
    "print(gs.best_params_)\n",
    "print(\"훈련 정확도 :\", et.score(train_std_scaler, train_y))\n",
    "print(\"테스트 정확도 :\", et.score(test_std_scaler, test_y))"
   ]
  },
  {
   "cell_type": "markdown",
   "id": "4222ec43",
   "metadata": {},
   "source": [
    "### 그레디언트 부스팅"
   ]
  },
  {
   "cell_type": "code",
   "execution_count": 31,
   "id": "e4587b3f",
   "metadata": {},
   "outputs": [],
   "source": [
    "from sklearn.ensemble import GradientBoostingClassifier"
   ]
  },
  {
   "cell_type": "code",
   "execution_count": 78,
   "id": "9268816b",
   "metadata": {},
   "outputs": [
    {
     "name": "stdout",
     "output_type": "stream",
     "text": [
      "훈련 정확도 : 0.4043015119330251\n",
      "테스트 정확도 : 0.37870931467482977\n"
     ]
    }
   ],
   "source": [
    "### 모델 생성\n",
    "gb = GradientBoostingClassifier(random_state=42)\n",
    "\n",
    "### 훈련\n",
    "gb.fit(train_std_scaler, train_y)\n",
    "\n",
    "### 정확도\n",
    "tr_score = gb.score(train_std_scaler, train_y)\n",
    "ts_score = gb.score(test_std_scaler, test_y)\n",
    "print('훈련 정확도 :', tr_score)\n",
    "print('테스트 정확도 :', ts_score)"
   ]
  },
  {
   "cell_type": "markdown",
   "id": "cdf71092",
   "metadata": {},
   "source": [
    "### Histogram-base Gradient Boosting"
   ]
  },
  {
   "cell_type": "code",
   "execution_count": 33,
   "id": "022d6ed6",
   "metadata": {},
   "outputs": [],
   "source": [
    "from sklearn.ensemble import HistGradientBoostingClassifier"
   ]
  },
  {
   "cell_type": "code",
   "execution_count": 79,
   "id": "7b5146ab",
   "metadata": {},
   "outputs": [
    {
     "name": "stdout",
     "output_type": "stream",
     "text": [
      "훈련 정확도 : 0.741518805447957\n",
      "테스트 정확도 : 0.6919472730680327\n"
     ]
    }
   ],
   "source": [
    "### 모델 생성\n",
    "hgb = HistGradientBoostingClassifier(random_state=42, )\n",
    "\n",
    "### 훈련\n",
    "hgb.fit(train_std_scaler, train_y)\n",
    "\n",
    "### 정확도\n",
    "tr_score = hgb.score(train_std_scaler, train_y)\n",
    "ts_score = hgb.score(test_std_scaler, test_y)\n",
    "print('훈련 정확도 :', tr_score)\n",
    "print('테스트 정확도 :', ts_score)"
   ]
  },
  {
   "cell_type": "markdown",
   "id": "3b1e252b",
   "metadata": {},
   "source": [
    "### 결정트리"
   ]
  },
  {
   "cell_type": "code",
   "execution_count": 96,
   "id": "cf1237e8",
   "metadata": {},
   "outputs": [
    {
     "name": "stdout",
     "output_type": "stream",
     "text": [
      "훈련데이터 정확도 : 0.9999843808571786 \n",
      "테스트데이터 정확도 : 0.836321609295933\n"
     ]
    }
   ],
   "source": [
    "from sklearn.tree import DecisionTreeClassifier\n",
    "# 모델생성\n",
    "dt = DecisionTreeClassifier(max_depth=42, random_state=42)\n",
    "# 훈련시키기\n",
    "dt.fit(train_std_scaler, train_y)\n",
    "tr_score = dt.score(train_std_scaler, train_y)\n",
    "ts_score = dt.score(test_std_scaler, test_y)\n",
    "print(\"훈련데이터 정확도 :\", tr_score,\n",
    "      \"\\n테스트데이터 정확도 :\", ts_score)"
   ]
  },
  {
   "cell_type": "markdown",
   "id": "1542d91e",
   "metadata": {},
   "source": [
    "# 통합파일 처리"
   ]
  },
  {
   "cell_type": "code",
   "execution_count": 106,
   "id": "b5976ae1",
   "metadata": {},
   "outputs": [],
   "source": [
    "### 파일 저장\n",
    "df.to_csv(\"./자료/smartphone_label.csv\",index=False)"
   ]
  },
  {
   "cell_type": "code",
   "execution_count": 122,
   "id": "c75e919c",
   "metadata": {},
   "outputs": [],
   "source": [
    "### 파일 불러오기\n",
    "df = pd.read_csv(\"./data/smartphone_label.csv\")"
   ]
  },
  {
   "cell_type": "code",
   "execution_count": 123,
   "id": "e00e7e00",
   "metadata": {},
   "outputs": [],
   "source": [
    "### 통합 준비\n",
    "df_smart = df.copy()"
   ]
  },
  {
   "cell_type": "code",
   "execution_count": 124,
   "id": "b0832e4d",
   "metadata": {},
   "outputs": [],
   "source": [
    "### laptop파일 불러오기\n",
    "df_lap = pd.read_csv(\"./data/laptop.csv\")"
   ]
  },
  {
   "cell_type": "code",
   "execution_count": 125,
   "id": "d12fdc2b",
   "metadata": {},
   "outputs": [],
   "source": [
    "### tablet 파일 불러오기\n",
    "df_ta = pd.read_csv(\"./data/tablet.csv\")"
   ]
  },
  {
   "cell_type": "code",
   "execution_count": 12,
   "id": "1569ee1b",
   "metadata": {},
   "outputs": [],
   "source": [
    "### 파일 concat으로 통합\n",
    "con_df = pd.concat([df_smart, df_lap, df_ta], axis=0, ignore_index=True)\n",
    "con_df.to_csv(\"./data/total.csv\",index=False)"
   ]
  },
  {
   "cell_type": "code",
   "execution_count": 142,
   "id": "6a6d6406",
   "metadata": {},
   "outputs": [
    {
     "data": {
      "text/html": [
       "<div>\n",
       "<style scoped>\n",
       "    .dataframe tbody tr th:only-of-type {\n",
       "        vertical-align: middle;\n",
       "    }\n",
       "\n",
       "    .dataframe tbody tr th {\n",
       "        vertical-align: top;\n",
       "    }\n",
       "\n",
       "    .dataframe thead th {\n",
       "        text-align: right;\n",
       "    }\n",
       "</style>\n",
       "<table border=\"1\" class=\"dataframe\">\n",
       "  <thead>\n",
       "    <tr style=\"text-align: right;\">\n",
       "      <th></th>\n",
       "      <th>ID</th>\n",
       "      <th>point</th>\n",
       "      <th>condition</th>\n",
       "      <th>r_iris_x</th>\n",
       "      <th>r_iris_y</th>\n",
       "      <th>l_iris_x</th>\n",
       "      <th>l_iris_y</th>\n",
       "      <th>r_eyelid_x</th>\n",
       "      <th>r_eyelid_y</th>\n",
       "      <th>l_eyelid_x</th>\n",
       "      <th>l_eyelid_y</th>\n",
       "      <th>l_center_x</th>\n",
       "      <th>l_center_y</th>\n",
       "      <th>r_center_x</th>\n",
       "      <th>r_center_y</th>\n",
       "    </tr>\n",
       "  </thead>\n",
       "  <tbody>\n",
       "    <tr>\n",
       "      <th>0</th>\n",
       "      <td>1</td>\n",
       "      <td>[1020, 782]</td>\n",
       "      <td>A</td>\n",
       "      <td>987.5</td>\n",
       "      <td>362.0</td>\n",
       "      <td>816.0</td>\n",
       "      <td>386.5</td>\n",
       "      <td>991.6875</td>\n",
       "      <td>365.2500</td>\n",
       "      <td>818.0625</td>\n",
       "      <td>390.5000</td>\n",
       "      <td>816.0</td>\n",
       "      <td>386.5</td>\n",
       "      <td>987.5</td>\n",
       "      <td>362.0</td>\n",
       "    </tr>\n",
       "    <tr>\n",
       "      <th>1</th>\n",
       "      <td>1</td>\n",
       "      <td>[1020, 782]</td>\n",
       "      <td>A</td>\n",
       "      <td>989.0</td>\n",
       "      <td>363.0</td>\n",
       "      <td>818.0</td>\n",
       "      <td>388.0</td>\n",
       "      <td>993.1875</td>\n",
       "      <td>366.8750</td>\n",
       "      <td>818.9375</td>\n",
       "      <td>392.6875</td>\n",
       "      <td>818.0</td>\n",
       "      <td>388.0</td>\n",
       "      <td>989.0</td>\n",
       "      <td>363.0</td>\n",
       "    </tr>\n",
       "    <tr>\n",
       "      <th>2</th>\n",
       "      <td>1</td>\n",
       "      <td>[1020, 782]</td>\n",
       "      <td>A</td>\n",
       "      <td>989.5</td>\n",
       "      <td>362.5</td>\n",
       "      <td>819.0</td>\n",
       "      <td>388.0</td>\n",
       "      <td>993.0000</td>\n",
       "      <td>366.9375</td>\n",
       "      <td>819.5625</td>\n",
       "      <td>392.4375</td>\n",
       "      <td>819.0</td>\n",
       "      <td>388.0</td>\n",
       "      <td>989.5</td>\n",
       "      <td>362.5</td>\n",
       "    </tr>\n",
       "    <tr>\n",
       "      <th>3</th>\n",
       "      <td>1</td>\n",
       "      <td>[1020, 782]</td>\n",
       "      <td>A</td>\n",
       "      <td>988.5</td>\n",
       "      <td>363.0</td>\n",
       "      <td>817.0</td>\n",
       "      <td>388.0</td>\n",
       "      <td>990.5625</td>\n",
       "      <td>366.3750</td>\n",
       "      <td>819.3750</td>\n",
       "      <td>391.2500</td>\n",
       "      <td>817.0</td>\n",
       "      <td>388.0</td>\n",
       "      <td>988.5</td>\n",
       "      <td>363.0</td>\n",
       "    </tr>\n",
       "    <tr>\n",
       "      <th>4</th>\n",
       "      <td>1</td>\n",
       "      <td>[1020, 782]</td>\n",
       "      <td>A</td>\n",
       "      <td>986.0</td>\n",
       "      <td>362.0</td>\n",
       "      <td>814.5</td>\n",
       "      <td>387.0</td>\n",
       "      <td>990.4375</td>\n",
       "      <td>365.3125</td>\n",
       "      <td>815.3125</td>\n",
       "      <td>390.7500</td>\n",
       "      <td>814.5</td>\n",
       "      <td>387.0</td>\n",
       "      <td>986.0</td>\n",
       "      <td>362.0</td>\n",
       "    </tr>\n",
       "    <tr>\n",
       "      <th>...</th>\n",
       "      <td>...</td>\n",
       "      <td>...</td>\n",
       "      <td>...</td>\n",
       "      <td>...</td>\n",
       "      <td>...</td>\n",
       "      <td>...</td>\n",
       "      <td>...</td>\n",
       "      <td>...</td>\n",
       "      <td>...</td>\n",
       "      <td>...</td>\n",
       "      <td>...</td>\n",
       "      <td>...</td>\n",
       "      <td>...</td>\n",
       "      <td>...</td>\n",
       "      <td>...</td>\n",
       "    </tr>\n",
       "    <tr>\n",
       "      <th>232714</th>\n",
       "      <td>30</td>\n",
       "      <td>[735, 501]</td>\n",
       "      <td>S</td>\n",
       "      <td>603.0</td>\n",
       "      <td>936.0</td>\n",
       "      <td>606.5</td>\n",
       "      <td>636.0</td>\n",
       "      <td>599.8125</td>\n",
       "      <td>946.2500</td>\n",
       "      <td>601.1250</td>\n",
       "      <td>630.5000</td>\n",
       "      <td>606.5</td>\n",
       "      <td>636.0</td>\n",
       "      <td>603.0</td>\n",
       "      <td>936.0</td>\n",
       "    </tr>\n",
       "    <tr>\n",
       "      <th>232715</th>\n",
       "      <td>30</td>\n",
       "      <td>[735, 501]</td>\n",
       "      <td>S</td>\n",
       "      <td>603.5</td>\n",
       "      <td>935.0</td>\n",
       "      <td>609.0</td>\n",
       "      <td>635.5</td>\n",
       "      <td>599.9375</td>\n",
       "      <td>942.3750</td>\n",
       "      <td>601.6250</td>\n",
       "      <td>631.8750</td>\n",
       "      <td>609.0</td>\n",
       "      <td>635.5</td>\n",
       "      <td>603.5</td>\n",
       "      <td>935.0</td>\n",
       "    </tr>\n",
       "    <tr>\n",
       "      <th>232716</th>\n",
       "      <td>30</td>\n",
       "      <td>[735, 501]</td>\n",
       "      <td>S</td>\n",
       "      <td>596.5</td>\n",
       "      <td>943.5</td>\n",
       "      <td>600.5</td>\n",
       "      <td>630.0</td>\n",
       "      <td>593.1250</td>\n",
       "      <td>945.6250</td>\n",
       "      <td>584.8750</td>\n",
       "      <td>629.0625</td>\n",
       "      <td>600.5</td>\n",
       "      <td>630.0</td>\n",
       "      <td>596.5</td>\n",
       "      <td>943.5</td>\n",
       "    </tr>\n",
       "    <tr>\n",
       "      <th>232717</th>\n",
       "      <td>30</td>\n",
       "      <td>[735, 501]</td>\n",
       "      <td>S</td>\n",
       "      <td>602.5</td>\n",
       "      <td>937.0</td>\n",
       "      <td>602.0</td>\n",
       "      <td>637.0</td>\n",
       "      <td>599.4375</td>\n",
       "      <td>945.0000</td>\n",
       "      <td>597.6250</td>\n",
       "      <td>631.6875</td>\n",
       "      <td>602.0</td>\n",
       "      <td>637.0</td>\n",
       "      <td>602.5</td>\n",
       "      <td>937.0</td>\n",
       "    </tr>\n",
       "    <tr>\n",
       "      <th>232718</th>\n",
       "      <td>30</td>\n",
       "      <td>[735, 501]</td>\n",
       "      <td>S</td>\n",
       "      <td>603.5</td>\n",
       "      <td>936.5</td>\n",
       "      <td>605.5</td>\n",
       "      <td>636.5</td>\n",
       "      <td>599.5625</td>\n",
       "      <td>943.8125</td>\n",
       "      <td>599.8125</td>\n",
       "      <td>629.8750</td>\n",
       "      <td>605.5</td>\n",
       "      <td>636.5</td>\n",
       "      <td>603.5</td>\n",
       "      <td>936.5</td>\n",
       "    </tr>\n",
       "  </tbody>\n",
       "</table>\n",
       "<p>232719 rows × 15 columns</p>\n",
       "</div>"
      ],
      "text/plain": [
       "        ID        point condition  r_iris_x  r_iris_y  l_iris_x  l_iris_y  \\\n",
       "0        1  [1020, 782]         A     987.5     362.0     816.0     386.5   \n",
       "1        1  [1020, 782]         A     989.0     363.0     818.0     388.0   \n",
       "2        1  [1020, 782]         A     989.5     362.5     819.0     388.0   \n",
       "3        1  [1020, 782]         A     988.5     363.0     817.0     388.0   \n",
       "4        1  [1020, 782]         A     986.0     362.0     814.5     387.0   \n",
       "...     ..          ...       ...       ...       ...       ...       ...   \n",
       "232714  30   [735, 501]         S     603.0     936.0     606.5     636.0   \n",
       "232715  30   [735, 501]         S     603.5     935.0     609.0     635.5   \n",
       "232716  30   [735, 501]         S     596.5     943.5     600.5     630.0   \n",
       "232717  30   [735, 501]         S     602.5     937.0     602.0     637.0   \n",
       "232718  30   [735, 501]         S     603.5     936.5     605.5     636.5   \n",
       "\n",
       "        r_eyelid_x  r_eyelid_y  l_eyelid_x  l_eyelid_y  l_center_x  \\\n",
       "0         991.6875    365.2500    818.0625    390.5000       816.0   \n",
       "1         993.1875    366.8750    818.9375    392.6875       818.0   \n",
       "2         993.0000    366.9375    819.5625    392.4375       819.0   \n",
       "3         990.5625    366.3750    819.3750    391.2500       817.0   \n",
       "4         990.4375    365.3125    815.3125    390.7500       814.5   \n",
       "...            ...         ...         ...         ...         ...   \n",
       "232714    599.8125    946.2500    601.1250    630.5000       606.5   \n",
       "232715    599.9375    942.3750    601.6250    631.8750       609.0   \n",
       "232716    593.1250    945.6250    584.8750    629.0625       600.5   \n",
       "232717    599.4375    945.0000    597.6250    631.6875       602.0   \n",
       "232718    599.5625    943.8125    599.8125    629.8750       605.5   \n",
       "\n",
       "        l_center_y  r_center_x  r_center_y  \n",
       "0            386.5       987.5       362.0  \n",
       "1            388.0       989.0       363.0  \n",
       "2            388.0       989.5       362.5  \n",
       "3            388.0       988.5       363.0  \n",
       "4            387.0       986.0       362.0  \n",
       "...            ...         ...         ...  \n",
       "232714       636.0       603.0       936.0  \n",
       "232715       635.5       603.5       935.0  \n",
       "232716       630.0       596.5       943.5  \n",
       "232717       637.0       602.5       937.0  \n",
       "232718       636.5       603.5       936.5  \n",
       "\n",
       "[232719 rows x 15 columns]"
      ]
     },
     "execution_count": 142,
     "metadata": {},
     "output_type": "execute_result"
    }
   ],
   "source": [
    "df = pd.read_csv(\"./data/total.csv\")\n",
    "df"
   ]
  },
  {
   "cell_type": "code",
   "execution_count": 143,
   "id": "44ce4934",
   "metadata": {},
   "outputs": [
    {
     "name": "stdout",
     "output_type": "stream",
     "text": [
      "(232719, 12) (232719,)\n"
     ]
    }
   ],
   "source": [
    "### 데이터 배열처리\n",
    "data = df.iloc[:, 3:].to_numpy()\n",
    "target = df.iloc[:, 2].to_numpy()\n",
    "\n",
    "print(data.shape, target.shape)"
   ]
  },
  {
   "cell_type": "code",
   "execution_count": 144,
   "id": "6c21051e",
   "metadata": {},
   "outputs": [
    {
     "name": "stdout",
     "output_type": "stream",
     "text": [
      "(232719,)\n"
     ]
    }
   ],
   "source": [
    "### target 데이터를 숫자로 인코딩\n",
    "from sklearn.preprocessing import LabelEncoder\n",
    "\n",
    "# 레이블 인코더 생성\n",
    "label_encoder = LabelEncoder()\n",
    "\n",
    "# 데이터 변환\n",
    "target = label_encoder.fit_transform(target)\n",
    "\n",
    "print(target.shape)"
   ]
  },
  {
   "cell_type": "markdown",
   "id": "627fe473",
   "metadata": {},
   "source": [
    "### 데이터 분리하기"
   ]
  },
  {
   "cell_type": "code",
   "execution_count": 145,
   "id": "4b69f9e1",
   "metadata": {},
   "outputs": [
    {
     "name": "stdout",
     "output_type": "stream",
     "text": [
      "(186175, 12) (186175,)\n",
      "(46544, 12) (46544,)\n"
     ]
    }
   ],
   "source": [
    "### 8:2로 나누기\n",
    "from sklearn.model_selection import train_test_split\n",
    "\n",
    "train_x, test_x, train_y, test_y = train_test_split(data, target, random_state=42, test_size=0.2)\n",
    "\n",
    "print(train_x.shape, train_y.shape)\n",
    "print(test_x.shape, test_y.shape)"
   ]
  },
  {
   "cell_type": "markdown",
   "id": "b7d393b8",
   "metadata": {},
   "source": [
    "### 정규화"
   ]
  },
  {
   "cell_type": "code",
   "execution_count": 146,
   "id": "fc66a2c3",
   "metadata": {},
   "outputs": [
    {
     "name": "stdout",
     "output_type": "stream",
     "text": [
      "(186175, 12)\n"
     ]
    }
   ],
   "source": [
    "### StandardScaler\n",
    "from sklearn.preprocessing import StandardScaler\n",
    "ss = StandardScaler()\n",
    "ss.fit(train_x)\n",
    "\n",
    "train_std_scaler = ss.transform(train_x)\n",
    "test_std_scaler = ss.transform(test_x)\n",
    "\n",
    "print(train_std_scaler.shape)"
   ]
  },
  {
   "cell_type": "markdown",
   "id": "e910c3dc",
   "metadata": {},
   "source": [
    "### 결정트리"
   ]
  },
  {
   "cell_type": "code",
   "execution_count": 31,
   "id": "3516fdb5",
   "metadata": {},
   "outputs": [
    {
     "name": "stdout",
     "output_type": "stream",
     "text": [
      "훈련데이터 정확도 : 0.9999843808571786 \n",
      "테스트데이터 정확도 : 0.836321609295933\n"
     ]
    }
   ],
   "source": [
    "from sklearn.tree import DecisionTreeClassifier\n",
    "# 모델생성\n",
    "dt = DecisionTreeClassifier(max_depth=42, random_state=42)\n",
    "# 훈련시키기\n",
    "dt.fit(train_std_scaler, train_y)\n",
    "tr_score = dt.score(train_std_scaler, train_y)\n",
    "ts_score = dt.score(test_std_scaler, test_y)\n",
    "df_model = []\n",
    "df_tr = []\n",
    "df_te = []\n",
    "df_model.append(dt)\n",
    "df_tr.append(tr_score)\n",
    "df_te.append(ts_score)\n",
    "print(\"훈련데이터 정확도 :\", tr_score,\n",
    "      \"\\n테스트데이터 정확도 :\", ts_score)"
   ]
  },
  {
   "cell_type": "code",
   "execution_count": 35,
   "id": "28c9f6a9",
   "metadata": {},
   "outputs": [],
   "source": [
    "df_model = []\n",
    "df_tr = []\n",
    "df_te = []\n",
    "df_model.append(dt)\n",
    "df_tr.append(tr_score)\n",
    "df_te.append(ts_score)"
   ]
  },
  {
   "cell_type": "code",
   "execution_count": 36,
   "id": "7241b256",
   "metadata": {
    "collapsed": true
   },
   "outputs": [
    {
     "ename": "KeyboardInterrupt",
     "evalue": "",
     "output_type": "error",
     "traceback": [
      "\u001b[1;31m---------------------------------------------------------------------------\u001b[0m",
      "\u001b[1;31mKeyboardInterrupt\u001b[0m                         Traceback (most recent call last)",
      "Cell \u001b[1;32mIn[36], line 13\u001b[0m\n\u001b[0;32m     10\u001b[0m gs \u001b[38;5;241m=\u001b[39m GridSearchCV(dt, params, n_jobs\u001b[38;5;241m=\u001b[39m\u001b[38;5;241m-\u001b[39m\u001b[38;5;241m1\u001b[39m)\n\u001b[0;32m     12\u001b[0m \u001b[38;5;66;03m### AutoML 실행하기 : 하이퍼파라메터 튜닝 + 훈련(교차검증 수행)\u001b[39;00m\n\u001b[1;32m---> 13\u001b[0m \u001b[43mgs\u001b[49m\u001b[38;5;241;43m.\u001b[39;49m\u001b[43mfit\u001b[49m\u001b[43m(\u001b[49m\u001b[43mtrain_std_scaler\u001b[49m\u001b[43m,\u001b[49m\u001b[43m \u001b[49m\u001b[43mtrain_y\u001b[49m\u001b[43m)\u001b[49m\n\u001b[0;32m     15\u001b[0m \u001b[38;5;66;03m### 정확도 확인하기\u001b[39;00m\n\u001b[0;32m     16\u001b[0m tr_score \u001b[38;5;241m=\u001b[39m gs\u001b[38;5;241m.\u001b[39mscore(train_std_scaler, train_y)\n",
      "File \u001b[1;32m~\\anaconda3\\envs\\eyepro\\lib\\site-packages\\sklearn\\base.py:1151\u001b[0m, in \u001b[0;36m_fit_context.<locals>.decorator.<locals>.wrapper\u001b[1;34m(estimator, *args, **kwargs)\u001b[0m\n\u001b[0;32m   1144\u001b[0m     estimator\u001b[38;5;241m.\u001b[39m_validate_params()\n\u001b[0;32m   1146\u001b[0m \u001b[38;5;28;01mwith\u001b[39;00m config_context(\n\u001b[0;32m   1147\u001b[0m     skip_parameter_validation\u001b[38;5;241m=\u001b[39m(\n\u001b[0;32m   1148\u001b[0m         prefer_skip_nested_validation \u001b[38;5;129;01mor\u001b[39;00m global_skip_validation\n\u001b[0;32m   1149\u001b[0m     )\n\u001b[0;32m   1150\u001b[0m ):\n\u001b[1;32m-> 1151\u001b[0m     \u001b[38;5;28;01mreturn\u001b[39;00m fit_method(estimator, \u001b[38;5;241m*\u001b[39margs, \u001b[38;5;241m*\u001b[39m\u001b[38;5;241m*\u001b[39mkwargs)\n",
      "File \u001b[1;32m~\\anaconda3\\envs\\eyepro\\lib\\site-packages\\sklearn\\model_selection\\_search.py:898\u001b[0m, in \u001b[0;36mBaseSearchCV.fit\u001b[1;34m(self, X, y, groups, **fit_params)\u001b[0m\n\u001b[0;32m    892\u001b[0m     results \u001b[38;5;241m=\u001b[39m \u001b[38;5;28mself\u001b[39m\u001b[38;5;241m.\u001b[39m_format_results(\n\u001b[0;32m    893\u001b[0m         all_candidate_params, n_splits, all_out, all_more_results\n\u001b[0;32m    894\u001b[0m     )\n\u001b[0;32m    896\u001b[0m     \u001b[38;5;28;01mreturn\u001b[39;00m results\n\u001b[1;32m--> 898\u001b[0m \u001b[38;5;28;43mself\u001b[39;49m\u001b[38;5;241;43m.\u001b[39;49m\u001b[43m_run_search\u001b[49m\u001b[43m(\u001b[49m\u001b[43mevaluate_candidates\u001b[49m\u001b[43m)\u001b[49m\n\u001b[0;32m    900\u001b[0m \u001b[38;5;66;03m# multimetric is determined here because in the case of a callable\u001b[39;00m\n\u001b[0;32m    901\u001b[0m \u001b[38;5;66;03m# self.scoring the return type is only known after calling\u001b[39;00m\n\u001b[0;32m    902\u001b[0m first_test_score \u001b[38;5;241m=\u001b[39m all_out[\u001b[38;5;241m0\u001b[39m][\u001b[38;5;124m\"\u001b[39m\u001b[38;5;124mtest_scores\u001b[39m\u001b[38;5;124m\"\u001b[39m]\n",
      "File \u001b[1;32m~\\anaconda3\\envs\\eyepro\\lib\\site-packages\\sklearn\\model_selection\\_search.py:1419\u001b[0m, in \u001b[0;36mGridSearchCV._run_search\u001b[1;34m(self, evaluate_candidates)\u001b[0m\n\u001b[0;32m   1417\u001b[0m \u001b[38;5;28;01mdef\u001b[39;00m \u001b[38;5;21m_run_search\u001b[39m(\u001b[38;5;28mself\u001b[39m, evaluate_candidates):\n\u001b[0;32m   1418\u001b[0m \u001b[38;5;250m    \u001b[39m\u001b[38;5;124;03m\"\"\"Search all candidates in param_grid\"\"\"\u001b[39;00m\n\u001b[1;32m-> 1419\u001b[0m     \u001b[43mevaluate_candidates\u001b[49m\u001b[43m(\u001b[49m\u001b[43mParameterGrid\u001b[49m\u001b[43m(\u001b[49m\u001b[38;5;28;43mself\u001b[39;49m\u001b[38;5;241;43m.\u001b[39;49m\u001b[43mparam_grid\u001b[49m\u001b[43m)\u001b[49m\u001b[43m)\u001b[49m\n",
      "File \u001b[1;32m~\\anaconda3\\envs\\eyepro\\lib\\site-packages\\sklearn\\model_selection\\_search.py:845\u001b[0m, in \u001b[0;36mBaseSearchCV.fit.<locals>.evaluate_candidates\u001b[1;34m(candidate_params, cv, more_results)\u001b[0m\n\u001b[0;32m    837\u001b[0m \u001b[38;5;28;01mif\u001b[39;00m \u001b[38;5;28mself\u001b[39m\u001b[38;5;241m.\u001b[39mverbose \u001b[38;5;241m>\u001b[39m \u001b[38;5;241m0\u001b[39m:\n\u001b[0;32m    838\u001b[0m     \u001b[38;5;28mprint\u001b[39m(\n\u001b[0;32m    839\u001b[0m         \u001b[38;5;124m\"\u001b[39m\u001b[38;5;124mFitting \u001b[39m\u001b[38;5;132;01m{0}\u001b[39;00m\u001b[38;5;124m folds for each of \u001b[39m\u001b[38;5;132;01m{1}\u001b[39;00m\u001b[38;5;124m candidates,\u001b[39m\u001b[38;5;124m\"\u001b[39m\n\u001b[0;32m    840\u001b[0m         \u001b[38;5;124m\"\u001b[39m\u001b[38;5;124m totalling \u001b[39m\u001b[38;5;132;01m{2}\u001b[39;00m\u001b[38;5;124m fits\u001b[39m\u001b[38;5;124m\"\u001b[39m\u001b[38;5;241m.\u001b[39mformat(\n\u001b[0;32m    841\u001b[0m             n_splits, n_candidates, n_candidates \u001b[38;5;241m*\u001b[39m n_splits\n\u001b[0;32m    842\u001b[0m         )\n\u001b[0;32m    843\u001b[0m     )\n\u001b[1;32m--> 845\u001b[0m out \u001b[38;5;241m=\u001b[39m \u001b[43mparallel\u001b[49m\u001b[43m(\u001b[49m\n\u001b[0;32m    846\u001b[0m \u001b[43m    \u001b[49m\u001b[43mdelayed\u001b[49m\u001b[43m(\u001b[49m\u001b[43m_fit_and_score\u001b[49m\u001b[43m)\u001b[49m\u001b[43m(\u001b[49m\n\u001b[0;32m    847\u001b[0m \u001b[43m        \u001b[49m\u001b[43mclone\u001b[49m\u001b[43m(\u001b[49m\u001b[43mbase_estimator\u001b[49m\u001b[43m)\u001b[49m\u001b[43m,\u001b[49m\n\u001b[0;32m    848\u001b[0m \u001b[43m        \u001b[49m\u001b[43mX\u001b[49m\u001b[43m,\u001b[49m\n\u001b[0;32m    849\u001b[0m \u001b[43m        \u001b[49m\u001b[43my\u001b[49m\u001b[43m,\u001b[49m\n\u001b[0;32m    850\u001b[0m \u001b[43m        \u001b[49m\u001b[43mtrain\u001b[49m\u001b[38;5;241;43m=\u001b[39;49m\u001b[43mtrain\u001b[49m\u001b[43m,\u001b[49m\n\u001b[0;32m    851\u001b[0m \u001b[43m        \u001b[49m\u001b[43mtest\u001b[49m\u001b[38;5;241;43m=\u001b[39;49m\u001b[43mtest\u001b[49m\u001b[43m,\u001b[49m\n\u001b[0;32m    852\u001b[0m \u001b[43m        \u001b[49m\u001b[43mparameters\u001b[49m\u001b[38;5;241;43m=\u001b[39;49m\u001b[43mparameters\u001b[49m\u001b[43m,\u001b[49m\n\u001b[0;32m    853\u001b[0m \u001b[43m        \u001b[49m\u001b[43msplit_progress\u001b[49m\u001b[38;5;241;43m=\u001b[39;49m\u001b[43m(\u001b[49m\u001b[43msplit_idx\u001b[49m\u001b[43m,\u001b[49m\u001b[43m \u001b[49m\u001b[43mn_splits\u001b[49m\u001b[43m)\u001b[49m\u001b[43m,\u001b[49m\n\u001b[0;32m    854\u001b[0m \u001b[43m        \u001b[49m\u001b[43mcandidate_progress\u001b[49m\u001b[38;5;241;43m=\u001b[39;49m\u001b[43m(\u001b[49m\u001b[43mcand_idx\u001b[49m\u001b[43m,\u001b[49m\u001b[43m \u001b[49m\u001b[43mn_candidates\u001b[49m\u001b[43m)\u001b[49m\u001b[43m,\u001b[49m\n\u001b[0;32m    855\u001b[0m \u001b[43m        \u001b[49m\u001b[38;5;241;43m*\u001b[39;49m\u001b[38;5;241;43m*\u001b[39;49m\u001b[43mfit_and_score_kwargs\u001b[49m\u001b[43m,\u001b[49m\n\u001b[0;32m    856\u001b[0m \u001b[43m    \u001b[49m\u001b[43m)\u001b[49m\n\u001b[0;32m    857\u001b[0m \u001b[43m    \u001b[49m\u001b[38;5;28;43;01mfor\u001b[39;49;00m\u001b[43m \u001b[49m\u001b[43m(\u001b[49m\u001b[43mcand_idx\u001b[49m\u001b[43m,\u001b[49m\u001b[43m \u001b[49m\u001b[43mparameters\u001b[49m\u001b[43m)\u001b[49m\u001b[43m,\u001b[49m\u001b[43m \u001b[49m\u001b[43m(\u001b[49m\u001b[43msplit_idx\u001b[49m\u001b[43m,\u001b[49m\u001b[43m \u001b[49m\u001b[43m(\u001b[49m\u001b[43mtrain\u001b[49m\u001b[43m,\u001b[49m\u001b[43m \u001b[49m\u001b[43mtest\u001b[49m\u001b[43m)\u001b[49m\u001b[43m)\u001b[49m\u001b[43m \u001b[49m\u001b[38;5;129;43;01min\u001b[39;49;00m\u001b[43m \u001b[49m\u001b[43mproduct\u001b[49m\u001b[43m(\u001b[49m\n\u001b[0;32m    858\u001b[0m \u001b[43m        \u001b[49m\u001b[38;5;28;43menumerate\u001b[39;49m\u001b[43m(\u001b[49m\u001b[43mcandidate_params\u001b[49m\u001b[43m)\u001b[49m\u001b[43m,\u001b[49m\u001b[43m \u001b[49m\u001b[38;5;28;43menumerate\u001b[39;49m\u001b[43m(\u001b[49m\u001b[43mcv\u001b[49m\u001b[38;5;241;43m.\u001b[39;49m\u001b[43msplit\u001b[49m\u001b[43m(\u001b[49m\u001b[43mX\u001b[49m\u001b[43m,\u001b[49m\u001b[43m \u001b[49m\u001b[43my\u001b[49m\u001b[43m,\u001b[49m\u001b[43m \u001b[49m\u001b[43mgroups\u001b[49m\u001b[43m)\u001b[49m\u001b[43m)\u001b[49m\n\u001b[0;32m    859\u001b[0m \u001b[43m    \u001b[49m\u001b[43m)\u001b[49m\n\u001b[0;32m    860\u001b[0m \u001b[43m\u001b[49m\u001b[43m)\u001b[49m\n\u001b[0;32m    862\u001b[0m \u001b[38;5;28;01mif\u001b[39;00m \u001b[38;5;28mlen\u001b[39m(out) \u001b[38;5;241m<\u001b[39m \u001b[38;5;241m1\u001b[39m:\n\u001b[0;32m    863\u001b[0m     \u001b[38;5;28;01mraise\u001b[39;00m \u001b[38;5;167;01mValueError\u001b[39;00m(\n\u001b[0;32m    864\u001b[0m         \u001b[38;5;124m\"\u001b[39m\u001b[38;5;124mNo fits were performed. \u001b[39m\u001b[38;5;124m\"\u001b[39m\n\u001b[0;32m    865\u001b[0m         \u001b[38;5;124m\"\u001b[39m\u001b[38;5;124mWas the CV iterator empty? \u001b[39m\u001b[38;5;124m\"\u001b[39m\n\u001b[0;32m    866\u001b[0m         \u001b[38;5;124m\"\u001b[39m\u001b[38;5;124mWere there no candidates?\u001b[39m\u001b[38;5;124m\"\u001b[39m\n\u001b[0;32m    867\u001b[0m     )\n",
      "File \u001b[1;32m~\\anaconda3\\envs\\eyepro\\lib\\site-packages\\sklearn\\utils\\parallel.py:65\u001b[0m, in \u001b[0;36mParallel.__call__\u001b[1;34m(self, iterable)\u001b[0m\n\u001b[0;32m     60\u001b[0m config \u001b[38;5;241m=\u001b[39m get_config()\n\u001b[0;32m     61\u001b[0m iterable_with_config \u001b[38;5;241m=\u001b[39m (\n\u001b[0;32m     62\u001b[0m     (_with_config(delayed_func, config), args, kwargs)\n\u001b[0;32m     63\u001b[0m     \u001b[38;5;28;01mfor\u001b[39;00m delayed_func, args, kwargs \u001b[38;5;129;01min\u001b[39;00m iterable\n\u001b[0;32m     64\u001b[0m )\n\u001b[1;32m---> 65\u001b[0m \u001b[38;5;28;01mreturn\u001b[39;00m \u001b[38;5;28;43msuper\u001b[39;49m\u001b[43m(\u001b[49m\u001b[43m)\u001b[49m\u001b[38;5;241;43m.\u001b[39;49m\u001b[38;5;21;43m__call__\u001b[39;49m\u001b[43m(\u001b[49m\u001b[43miterable_with_config\u001b[49m\u001b[43m)\u001b[49m\n",
      "File \u001b[1;32m~\\anaconda3\\envs\\eyepro\\lib\\site-packages\\joblib\\parallel.py:1952\u001b[0m, in \u001b[0;36mParallel.__call__\u001b[1;34m(self, iterable)\u001b[0m\n\u001b[0;32m   1946\u001b[0m \u001b[38;5;66;03m# The first item from the output is blank, but it makes the interpreter\u001b[39;00m\n\u001b[0;32m   1947\u001b[0m \u001b[38;5;66;03m# progress until it enters the Try/Except block of the generator and\u001b[39;00m\n\u001b[0;32m   1948\u001b[0m \u001b[38;5;66;03m# reach the first `yield` statement. This starts the aynchronous\u001b[39;00m\n\u001b[0;32m   1949\u001b[0m \u001b[38;5;66;03m# dispatch of the tasks to the workers.\u001b[39;00m\n\u001b[0;32m   1950\u001b[0m \u001b[38;5;28mnext\u001b[39m(output)\n\u001b[1;32m-> 1952\u001b[0m \u001b[38;5;28;01mreturn\u001b[39;00m output \u001b[38;5;28;01mif\u001b[39;00m \u001b[38;5;28mself\u001b[39m\u001b[38;5;241m.\u001b[39mreturn_generator \u001b[38;5;28;01melse\u001b[39;00m \u001b[38;5;28;43mlist\u001b[39;49m\u001b[43m(\u001b[49m\u001b[43moutput\u001b[49m\u001b[43m)\u001b[49m\n",
      "File \u001b[1;32m~\\anaconda3\\envs\\eyepro\\lib\\site-packages\\joblib\\parallel.py:1595\u001b[0m, in \u001b[0;36mParallel._get_outputs\u001b[1;34m(self, iterator, pre_dispatch)\u001b[0m\n\u001b[0;32m   1592\u001b[0m     \u001b[38;5;28;01myield\u001b[39;00m\n\u001b[0;32m   1594\u001b[0m     \u001b[38;5;28;01mwith\u001b[39;00m \u001b[38;5;28mself\u001b[39m\u001b[38;5;241m.\u001b[39m_backend\u001b[38;5;241m.\u001b[39mretrieval_context():\n\u001b[1;32m-> 1595\u001b[0m         \u001b[38;5;28;01myield from\u001b[39;00m \u001b[38;5;28mself\u001b[39m\u001b[38;5;241m.\u001b[39m_retrieve()\n\u001b[0;32m   1597\u001b[0m \u001b[38;5;28;01mexcept\u001b[39;00m \u001b[38;5;167;01mGeneratorExit\u001b[39;00m:\n\u001b[0;32m   1598\u001b[0m     \u001b[38;5;66;03m# The generator has been garbage collected before being fully\u001b[39;00m\n\u001b[0;32m   1599\u001b[0m     \u001b[38;5;66;03m# consumed. This aborts the remaining tasks if possible and warn\u001b[39;00m\n\u001b[0;32m   1600\u001b[0m     \u001b[38;5;66;03m# the user if necessary.\u001b[39;00m\n\u001b[0;32m   1601\u001b[0m     \u001b[38;5;28mself\u001b[39m\u001b[38;5;241m.\u001b[39m_exception \u001b[38;5;241m=\u001b[39m \u001b[38;5;28;01mTrue\u001b[39;00m\n",
      "File \u001b[1;32m~\\anaconda3\\envs\\eyepro\\lib\\site-packages\\joblib\\parallel.py:1707\u001b[0m, in \u001b[0;36mParallel._retrieve\u001b[1;34m(self)\u001b[0m\n\u001b[0;32m   1702\u001b[0m \u001b[38;5;66;03m# If the next job is not ready for retrieval yet, we just wait for\u001b[39;00m\n\u001b[0;32m   1703\u001b[0m \u001b[38;5;66;03m# async callbacks to progress.\u001b[39;00m\n\u001b[0;32m   1704\u001b[0m \u001b[38;5;28;01mif\u001b[39;00m ((\u001b[38;5;28mlen\u001b[39m(\u001b[38;5;28mself\u001b[39m\u001b[38;5;241m.\u001b[39m_jobs) \u001b[38;5;241m==\u001b[39m \u001b[38;5;241m0\u001b[39m) \u001b[38;5;129;01mor\u001b[39;00m\n\u001b[0;32m   1705\u001b[0m     (\u001b[38;5;28mself\u001b[39m\u001b[38;5;241m.\u001b[39m_jobs[\u001b[38;5;241m0\u001b[39m]\u001b[38;5;241m.\u001b[39mget_status(\n\u001b[0;32m   1706\u001b[0m         timeout\u001b[38;5;241m=\u001b[39m\u001b[38;5;28mself\u001b[39m\u001b[38;5;241m.\u001b[39mtimeout) \u001b[38;5;241m==\u001b[39m TASK_PENDING)):\n\u001b[1;32m-> 1707\u001b[0m     \u001b[43mtime\u001b[49m\u001b[38;5;241;43m.\u001b[39;49m\u001b[43msleep\u001b[49m\u001b[43m(\u001b[49m\u001b[38;5;241;43m0.01\u001b[39;49m\u001b[43m)\u001b[49m\n\u001b[0;32m   1708\u001b[0m     \u001b[38;5;28;01mcontinue\u001b[39;00m\n\u001b[0;32m   1710\u001b[0m \u001b[38;5;66;03m# We need to be careful: the job list can be filling up as\u001b[39;00m\n\u001b[0;32m   1711\u001b[0m \u001b[38;5;66;03m# we empty it and Python list are not thread-safe by\u001b[39;00m\n\u001b[0;32m   1712\u001b[0m \u001b[38;5;66;03m# default hence the use of the lock\u001b[39;00m\n",
      "\u001b[1;31mKeyboardInterrupt\u001b[0m: "
     ]
    }
   ],
   "source": [
    "### 결정트리 교차검증\n",
    "from sklearn.tree import DecisionTreeClassifier\n",
    "params = {\"max_depth\" : range(5,20,1),\n",
    "          \"min_samples_split\" : range(2,100,1),\n",
    "          \"min_impurity_decrease\" : np.arange(0.0001, 0.001,0.0001)}\n",
    "### AutoML에 적용할 훈련모델 생성하기\n",
    "dt = DecisionTreeClassifier(random_state=42)\n",
    "\n",
    "### AutoML 클래스 생성하기\n",
    "gs = GridSearchCV(dt, params, n_jobs=-1)\n",
    "\n",
    "### AutoML 실행하기 : 하이퍼파라메터 튜닝 + 훈련(교차검증 수행)\n",
    "gs.fit(train_std_scaler, train_y)\n",
    "\n",
    "### 정확도 확인하기\n",
    "tr_score = gs.score(train_std_scaler, train_y)\n",
    "ts_score = gs.score(test_std_scaler, test_y)\n",
    "print(gs.best_params_)\n",
    "print(\"훈련데이터 정확도 :\", tr_score,\n",
    "      \"\\n테스트데이터 정확도 :\", ts_score)"
   ]
  },
  {
   "cell_type": "markdown",
   "id": "1d63e391",
   "metadata": {},
   "source": [
    "### 랜덤포레스트"
   ]
  },
  {
   "cell_type": "code",
   "execution_count": 354,
   "id": "6f6515be",
   "metadata": {},
   "outputs": [
    {
     "name": "stdout",
     "output_type": "stream",
     "text": [
      "훈련 정확도 : 0.9999687617143571\n",
      "테스트 정확도 : 0.9155369525832449\n"
     ]
    }
   ],
   "source": [
    "### 랜덤포레스트 훈련모델 라이브러리\n",
    "from sklearn.ensemble import RandomForestClassifier\n",
    "\n",
    "### 훈련모델 생성\n",
    "rf = RandomForestClassifier(n_jobs=-1,n_estimators=300,min_samples_split=3 ,random_state=42)\n",
    "\n",
    "### Std훈련 시키기\n",
    "rf.fit(train_std_scaler, train_y)\n",
    "\n",
    "### 훈련정확도 및 테스트 정확도\n",
    "tr_score = rf.score(train_std_scaler, train_y)\n",
    "ts_score = rf.score(test_std_scaler, test_y)\n",
    "# df_model.append(rf)\n",
    "# df_tr.append(tr_score)\n",
    "# df_te.append(ts_score)\n",
    "print('훈련 정확도 :', tr_score)\n",
    "print('테스트 정확도 :', ts_score)"
   ]
  },
  {
   "cell_type": "code",
   "execution_count": 193,
   "id": "eb27e981",
   "metadata": {},
   "outputs": [
    {
     "data": {
      "text/plain": [
       "0.9155369525832449"
      ]
     },
     "execution_count": 193,
     "metadata": {},
     "output_type": "execute_result"
    }
   ],
   "source": [
    "sum(y_pred==test_y)/len(test_y)"
   ]
  },
  {
   "cell_type": "code",
   "execution_count": 353,
   "id": "29b86437",
   "metadata": {
    "scrolled": true
   },
   "outputs": [
    {
     "ename": "KeyboardInterrupt",
     "evalue": "",
     "output_type": "error",
     "traceback": [
      "\u001b[1;31m---------------------------------------------------------------------------\u001b[0m",
      "\u001b[1;31mKeyboardInterrupt\u001b[0m                         Traceback (most recent call last)",
      "Cell \u001b[1;32mIn[353], line 14\u001b[0m\n\u001b[0;32m     11\u001b[0m gs \u001b[38;5;241m=\u001b[39m GridSearchCV(rf, params, n_jobs\u001b[38;5;241m=\u001b[39m\u001b[38;5;241m-\u001b[39m\u001b[38;5;241m1\u001b[39m)\n\u001b[0;32m     13\u001b[0m \u001b[38;5;66;03m### AutoML 실행하기 : 하이퍼파라메터 튜닝 + 훈련(교차검증 수행)\u001b[39;00m\n\u001b[1;32m---> 14\u001b[0m \u001b[43mgs\u001b[49m\u001b[38;5;241;43m.\u001b[39;49m\u001b[43mfit\u001b[49m\u001b[43m(\u001b[49m\u001b[43mtrain_std_scaler\u001b[49m\u001b[43m,\u001b[49m\u001b[43m \u001b[49m\u001b[43mtrain_y\u001b[49m\u001b[43m)\u001b[49m\n\u001b[0;32m     16\u001b[0m rf \u001b[38;5;241m=\u001b[39m gs\u001b[38;5;241m.\u001b[39mbest_estimator_\n\u001b[0;32m     18\u001b[0m \u001b[38;5;66;03m### 과적합 확인하기\u001b[39;00m\n",
      "File \u001b[1;32m~\\anaconda3\\envs\\eyepro\\lib\\site-packages\\sklearn\\base.py:1151\u001b[0m, in \u001b[0;36m_fit_context.<locals>.decorator.<locals>.wrapper\u001b[1;34m(estimator, *args, **kwargs)\u001b[0m\n\u001b[0;32m   1144\u001b[0m     estimator\u001b[38;5;241m.\u001b[39m_validate_params()\n\u001b[0;32m   1146\u001b[0m \u001b[38;5;28;01mwith\u001b[39;00m config_context(\n\u001b[0;32m   1147\u001b[0m     skip_parameter_validation\u001b[38;5;241m=\u001b[39m(\n\u001b[0;32m   1148\u001b[0m         prefer_skip_nested_validation \u001b[38;5;129;01mor\u001b[39;00m global_skip_validation\n\u001b[0;32m   1149\u001b[0m     )\n\u001b[0;32m   1150\u001b[0m ):\n\u001b[1;32m-> 1151\u001b[0m     \u001b[38;5;28;01mreturn\u001b[39;00m fit_method(estimator, \u001b[38;5;241m*\u001b[39margs, \u001b[38;5;241m*\u001b[39m\u001b[38;5;241m*\u001b[39mkwargs)\n",
      "File \u001b[1;32m~\\anaconda3\\envs\\eyepro\\lib\\site-packages\\sklearn\\model_selection\\_search.py:898\u001b[0m, in \u001b[0;36mBaseSearchCV.fit\u001b[1;34m(self, X, y, groups, **fit_params)\u001b[0m\n\u001b[0;32m    892\u001b[0m     results \u001b[38;5;241m=\u001b[39m \u001b[38;5;28mself\u001b[39m\u001b[38;5;241m.\u001b[39m_format_results(\n\u001b[0;32m    893\u001b[0m         all_candidate_params, n_splits, all_out, all_more_results\n\u001b[0;32m    894\u001b[0m     )\n\u001b[0;32m    896\u001b[0m     \u001b[38;5;28;01mreturn\u001b[39;00m results\n\u001b[1;32m--> 898\u001b[0m \u001b[38;5;28;43mself\u001b[39;49m\u001b[38;5;241;43m.\u001b[39;49m\u001b[43m_run_search\u001b[49m\u001b[43m(\u001b[49m\u001b[43mevaluate_candidates\u001b[49m\u001b[43m)\u001b[49m\n\u001b[0;32m    900\u001b[0m \u001b[38;5;66;03m# multimetric is determined here because in the case of a callable\u001b[39;00m\n\u001b[0;32m    901\u001b[0m \u001b[38;5;66;03m# self.scoring the return type is only known after calling\u001b[39;00m\n\u001b[0;32m    902\u001b[0m first_test_score \u001b[38;5;241m=\u001b[39m all_out[\u001b[38;5;241m0\u001b[39m][\u001b[38;5;124m\"\u001b[39m\u001b[38;5;124mtest_scores\u001b[39m\u001b[38;5;124m\"\u001b[39m]\n",
      "File \u001b[1;32m~\\anaconda3\\envs\\eyepro\\lib\\site-packages\\sklearn\\model_selection\\_search.py:1419\u001b[0m, in \u001b[0;36mGridSearchCV._run_search\u001b[1;34m(self, evaluate_candidates)\u001b[0m\n\u001b[0;32m   1417\u001b[0m \u001b[38;5;28;01mdef\u001b[39;00m \u001b[38;5;21m_run_search\u001b[39m(\u001b[38;5;28mself\u001b[39m, evaluate_candidates):\n\u001b[0;32m   1418\u001b[0m \u001b[38;5;250m    \u001b[39m\u001b[38;5;124;03m\"\"\"Search all candidates in param_grid\"\"\"\u001b[39;00m\n\u001b[1;32m-> 1419\u001b[0m     \u001b[43mevaluate_candidates\u001b[49m\u001b[43m(\u001b[49m\u001b[43mParameterGrid\u001b[49m\u001b[43m(\u001b[49m\u001b[38;5;28;43mself\u001b[39;49m\u001b[38;5;241;43m.\u001b[39;49m\u001b[43mparam_grid\u001b[49m\u001b[43m)\u001b[49m\u001b[43m)\u001b[49m\n",
      "File \u001b[1;32m~\\anaconda3\\envs\\eyepro\\lib\\site-packages\\sklearn\\model_selection\\_search.py:845\u001b[0m, in \u001b[0;36mBaseSearchCV.fit.<locals>.evaluate_candidates\u001b[1;34m(candidate_params, cv, more_results)\u001b[0m\n\u001b[0;32m    837\u001b[0m \u001b[38;5;28;01mif\u001b[39;00m \u001b[38;5;28mself\u001b[39m\u001b[38;5;241m.\u001b[39mverbose \u001b[38;5;241m>\u001b[39m \u001b[38;5;241m0\u001b[39m:\n\u001b[0;32m    838\u001b[0m     \u001b[38;5;28mprint\u001b[39m(\n\u001b[0;32m    839\u001b[0m         \u001b[38;5;124m\"\u001b[39m\u001b[38;5;124mFitting \u001b[39m\u001b[38;5;132;01m{0}\u001b[39;00m\u001b[38;5;124m folds for each of \u001b[39m\u001b[38;5;132;01m{1}\u001b[39;00m\u001b[38;5;124m candidates,\u001b[39m\u001b[38;5;124m\"\u001b[39m\n\u001b[0;32m    840\u001b[0m         \u001b[38;5;124m\"\u001b[39m\u001b[38;5;124m totalling \u001b[39m\u001b[38;5;132;01m{2}\u001b[39;00m\u001b[38;5;124m fits\u001b[39m\u001b[38;5;124m\"\u001b[39m\u001b[38;5;241m.\u001b[39mformat(\n\u001b[0;32m    841\u001b[0m             n_splits, n_candidates, n_candidates \u001b[38;5;241m*\u001b[39m n_splits\n\u001b[0;32m    842\u001b[0m         )\n\u001b[0;32m    843\u001b[0m     )\n\u001b[1;32m--> 845\u001b[0m out \u001b[38;5;241m=\u001b[39m \u001b[43mparallel\u001b[49m\u001b[43m(\u001b[49m\n\u001b[0;32m    846\u001b[0m \u001b[43m    \u001b[49m\u001b[43mdelayed\u001b[49m\u001b[43m(\u001b[49m\u001b[43m_fit_and_score\u001b[49m\u001b[43m)\u001b[49m\u001b[43m(\u001b[49m\n\u001b[0;32m    847\u001b[0m \u001b[43m        \u001b[49m\u001b[43mclone\u001b[49m\u001b[43m(\u001b[49m\u001b[43mbase_estimator\u001b[49m\u001b[43m)\u001b[49m\u001b[43m,\u001b[49m\n\u001b[0;32m    848\u001b[0m \u001b[43m        \u001b[49m\u001b[43mX\u001b[49m\u001b[43m,\u001b[49m\n\u001b[0;32m    849\u001b[0m \u001b[43m        \u001b[49m\u001b[43my\u001b[49m\u001b[43m,\u001b[49m\n\u001b[0;32m    850\u001b[0m \u001b[43m        \u001b[49m\u001b[43mtrain\u001b[49m\u001b[38;5;241;43m=\u001b[39;49m\u001b[43mtrain\u001b[49m\u001b[43m,\u001b[49m\n\u001b[0;32m    851\u001b[0m \u001b[43m        \u001b[49m\u001b[43mtest\u001b[49m\u001b[38;5;241;43m=\u001b[39;49m\u001b[43mtest\u001b[49m\u001b[43m,\u001b[49m\n\u001b[0;32m    852\u001b[0m \u001b[43m        \u001b[49m\u001b[43mparameters\u001b[49m\u001b[38;5;241;43m=\u001b[39;49m\u001b[43mparameters\u001b[49m\u001b[43m,\u001b[49m\n\u001b[0;32m    853\u001b[0m \u001b[43m        \u001b[49m\u001b[43msplit_progress\u001b[49m\u001b[38;5;241;43m=\u001b[39;49m\u001b[43m(\u001b[49m\u001b[43msplit_idx\u001b[49m\u001b[43m,\u001b[49m\u001b[43m \u001b[49m\u001b[43mn_splits\u001b[49m\u001b[43m)\u001b[49m\u001b[43m,\u001b[49m\n\u001b[0;32m    854\u001b[0m \u001b[43m        \u001b[49m\u001b[43mcandidate_progress\u001b[49m\u001b[38;5;241;43m=\u001b[39;49m\u001b[43m(\u001b[49m\u001b[43mcand_idx\u001b[49m\u001b[43m,\u001b[49m\u001b[43m \u001b[49m\u001b[43mn_candidates\u001b[49m\u001b[43m)\u001b[49m\u001b[43m,\u001b[49m\n\u001b[0;32m    855\u001b[0m \u001b[43m        \u001b[49m\u001b[38;5;241;43m*\u001b[39;49m\u001b[38;5;241;43m*\u001b[39;49m\u001b[43mfit_and_score_kwargs\u001b[49m\u001b[43m,\u001b[49m\n\u001b[0;32m    856\u001b[0m \u001b[43m    \u001b[49m\u001b[43m)\u001b[49m\n\u001b[0;32m    857\u001b[0m \u001b[43m    \u001b[49m\u001b[38;5;28;43;01mfor\u001b[39;49;00m\u001b[43m \u001b[49m\u001b[43m(\u001b[49m\u001b[43mcand_idx\u001b[49m\u001b[43m,\u001b[49m\u001b[43m \u001b[49m\u001b[43mparameters\u001b[49m\u001b[43m)\u001b[49m\u001b[43m,\u001b[49m\u001b[43m \u001b[49m\u001b[43m(\u001b[49m\u001b[43msplit_idx\u001b[49m\u001b[43m,\u001b[49m\u001b[43m \u001b[49m\u001b[43m(\u001b[49m\u001b[43mtrain\u001b[49m\u001b[43m,\u001b[49m\u001b[43m \u001b[49m\u001b[43mtest\u001b[49m\u001b[43m)\u001b[49m\u001b[43m)\u001b[49m\u001b[43m \u001b[49m\u001b[38;5;129;43;01min\u001b[39;49;00m\u001b[43m \u001b[49m\u001b[43mproduct\u001b[49m\u001b[43m(\u001b[49m\n\u001b[0;32m    858\u001b[0m \u001b[43m        \u001b[49m\u001b[38;5;28;43menumerate\u001b[39;49m\u001b[43m(\u001b[49m\u001b[43mcandidate_params\u001b[49m\u001b[43m)\u001b[49m\u001b[43m,\u001b[49m\u001b[43m \u001b[49m\u001b[38;5;28;43menumerate\u001b[39;49m\u001b[43m(\u001b[49m\u001b[43mcv\u001b[49m\u001b[38;5;241;43m.\u001b[39;49m\u001b[43msplit\u001b[49m\u001b[43m(\u001b[49m\u001b[43mX\u001b[49m\u001b[43m,\u001b[49m\u001b[43m \u001b[49m\u001b[43my\u001b[49m\u001b[43m,\u001b[49m\u001b[43m \u001b[49m\u001b[43mgroups\u001b[49m\u001b[43m)\u001b[49m\u001b[43m)\u001b[49m\n\u001b[0;32m    859\u001b[0m \u001b[43m    \u001b[49m\u001b[43m)\u001b[49m\n\u001b[0;32m    860\u001b[0m \u001b[43m\u001b[49m\u001b[43m)\u001b[49m\n\u001b[0;32m    862\u001b[0m \u001b[38;5;28;01mif\u001b[39;00m \u001b[38;5;28mlen\u001b[39m(out) \u001b[38;5;241m<\u001b[39m \u001b[38;5;241m1\u001b[39m:\n\u001b[0;32m    863\u001b[0m     \u001b[38;5;28;01mraise\u001b[39;00m \u001b[38;5;167;01mValueError\u001b[39;00m(\n\u001b[0;32m    864\u001b[0m         \u001b[38;5;124m\"\u001b[39m\u001b[38;5;124mNo fits were performed. \u001b[39m\u001b[38;5;124m\"\u001b[39m\n\u001b[0;32m    865\u001b[0m         \u001b[38;5;124m\"\u001b[39m\u001b[38;5;124mWas the CV iterator empty? \u001b[39m\u001b[38;5;124m\"\u001b[39m\n\u001b[0;32m    866\u001b[0m         \u001b[38;5;124m\"\u001b[39m\u001b[38;5;124mWere there no candidates?\u001b[39m\u001b[38;5;124m\"\u001b[39m\n\u001b[0;32m    867\u001b[0m     )\n",
      "File \u001b[1;32m~\\anaconda3\\envs\\eyepro\\lib\\site-packages\\sklearn\\utils\\parallel.py:65\u001b[0m, in \u001b[0;36mParallel.__call__\u001b[1;34m(self, iterable)\u001b[0m\n\u001b[0;32m     60\u001b[0m config \u001b[38;5;241m=\u001b[39m get_config()\n\u001b[0;32m     61\u001b[0m iterable_with_config \u001b[38;5;241m=\u001b[39m (\n\u001b[0;32m     62\u001b[0m     (_with_config(delayed_func, config), args, kwargs)\n\u001b[0;32m     63\u001b[0m     \u001b[38;5;28;01mfor\u001b[39;00m delayed_func, args, kwargs \u001b[38;5;129;01min\u001b[39;00m iterable\n\u001b[0;32m     64\u001b[0m )\n\u001b[1;32m---> 65\u001b[0m \u001b[38;5;28;01mreturn\u001b[39;00m \u001b[38;5;28;43msuper\u001b[39;49m\u001b[43m(\u001b[49m\u001b[43m)\u001b[49m\u001b[38;5;241;43m.\u001b[39;49m\u001b[38;5;21;43m__call__\u001b[39;49m\u001b[43m(\u001b[49m\u001b[43miterable_with_config\u001b[49m\u001b[43m)\u001b[49m\n",
      "File \u001b[1;32m~\\anaconda3\\envs\\eyepro\\lib\\site-packages\\joblib\\parallel.py:1952\u001b[0m, in \u001b[0;36mParallel.__call__\u001b[1;34m(self, iterable)\u001b[0m\n\u001b[0;32m   1946\u001b[0m \u001b[38;5;66;03m# The first item from the output is blank, but it makes the interpreter\u001b[39;00m\n\u001b[0;32m   1947\u001b[0m \u001b[38;5;66;03m# progress until it enters the Try/Except block of the generator and\u001b[39;00m\n\u001b[0;32m   1948\u001b[0m \u001b[38;5;66;03m# reach the first `yield` statement. This starts the aynchronous\u001b[39;00m\n\u001b[0;32m   1949\u001b[0m \u001b[38;5;66;03m# dispatch of the tasks to the workers.\u001b[39;00m\n\u001b[0;32m   1950\u001b[0m \u001b[38;5;28mnext\u001b[39m(output)\n\u001b[1;32m-> 1952\u001b[0m \u001b[38;5;28;01mreturn\u001b[39;00m output \u001b[38;5;28;01mif\u001b[39;00m \u001b[38;5;28mself\u001b[39m\u001b[38;5;241m.\u001b[39mreturn_generator \u001b[38;5;28;01melse\u001b[39;00m \u001b[38;5;28;43mlist\u001b[39;49m\u001b[43m(\u001b[49m\u001b[43moutput\u001b[49m\u001b[43m)\u001b[49m\n",
      "File \u001b[1;32m~\\anaconda3\\envs\\eyepro\\lib\\site-packages\\joblib\\parallel.py:1595\u001b[0m, in \u001b[0;36mParallel._get_outputs\u001b[1;34m(self, iterator, pre_dispatch)\u001b[0m\n\u001b[0;32m   1592\u001b[0m     \u001b[38;5;28;01myield\u001b[39;00m\n\u001b[0;32m   1594\u001b[0m     \u001b[38;5;28;01mwith\u001b[39;00m \u001b[38;5;28mself\u001b[39m\u001b[38;5;241m.\u001b[39m_backend\u001b[38;5;241m.\u001b[39mretrieval_context():\n\u001b[1;32m-> 1595\u001b[0m         \u001b[38;5;28;01myield from\u001b[39;00m \u001b[38;5;28mself\u001b[39m\u001b[38;5;241m.\u001b[39m_retrieve()\n\u001b[0;32m   1597\u001b[0m \u001b[38;5;28;01mexcept\u001b[39;00m \u001b[38;5;167;01mGeneratorExit\u001b[39;00m:\n\u001b[0;32m   1598\u001b[0m     \u001b[38;5;66;03m# The generator has been garbage collected before being fully\u001b[39;00m\n\u001b[0;32m   1599\u001b[0m     \u001b[38;5;66;03m# consumed. This aborts the remaining tasks if possible and warn\u001b[39;00m\n\u001b[0;32m   1600\u001b[0m     \u001b[38;5;66;03m# the user if necessary.\u001b[39;00m\n\u001b[0;32m   1601\u001b[0m     \u001b[38;5;28mself\u001b[39m\u001b[38;5;241m.\u001b[39m_exception \u001b[38;5;241m=\u001b[39m \u001b[38;5;28;01mTrue\u001b[39;00m\n",
      "File \u001b[1;32m~\\anaconda3\\envs\\eyepro\\lib\\site-packages\\joblib\\parallel.py:1707\u001b[0m, in \u001b[0;36mParallel._retrieve\u001b[1;34m(self)\u001b[0m\n\u001b[0;32m   1702\u001b[0m \u001b[38;5;66;03m# If the next job is not ready for retrieval yet, we just wait for\u001b[39;00m\n\u001b[0;32m   1703\u001b[0m \u001b[38;5;66;03m# async callbacks to progress.\u001b[39;00m\n\u001b[0;32m   1704\u001b[0m \u001b[38;5;28;01mif\u001b[39;00m ((\u001b[38;5;28mlen\u001b[39m(\u001b[38;5;28mself\u001b[39m\u001b[38;5;241m.\u001b[39m_jobs) \u001b[38;5;241m==\u001b[39m \u001b[38;5;241m0\u001b[39m) \u001b[38;5;129;01mor\u001b[39;00m\n\u001b[0;32m   1705\u001b[0m     (\u001b[38;5;28mself\u001b[39m\u001b[38;5;241m.\u001b[39m_jobs[\u001b[38;5;241m0\u001b[39m]\u001b[38;5;241m.\u001b[39mget_status(\n\u001b[0;32m   1706\u001b[0m         timeout\u001b[38;5;241m=\u001b[39m\u001b[38;5;28mself\u001b[39m\u001b[38;5;241m.\u001b[39mtimeout) \u001b[38;5;241m==\u001b[39m TASK_PENDING)):\n\u001b[1;32m-> 1707\u001b[0m     \u001b[43mtime\u001b[49m\u001b[38;5;241;43m.\u001b[39;49m\u001b[43msleep\u001b[49m\u001b[43m(\u001b[49m\u001b[38;5;241;43m0.01\u001b[39;49m\u001b[43m)\u001b[49m\n\u001b[0;32m   1708\u001b[0m     \u001b[38;5;28;01mcontinue\u001b[39;00m\n\u001b[0;32m   1710\u001b[0m \u001b[38;5;66;03m# We need to be careful: the job list can be filling up as\u001b[39;00m\n\u001b[0;32m   1711\u001b[0m \u001b[38;5;66;03m# we empty it and Python list are not thread-safe by\u001b[39;00m\n\u001b[0;32m   1712\u001b[0m \u001b[38;5;66;03m# default hence the use of the lock\u001b[39;00m\n",
      "\u001b[1;31mKeyboardInterrupt\u001b[0m: "
     ]
    }
   ],
   "source": [
    "### 랜덤포레스트 교차검증\n",
    "from sklearn.ensemble import RandomForestClassifier\n",
    "\n",
    "params = {\"max_depth\" : range(10,50,1),\n",
    "          \"n_estimators\" : range(10,50,1)}\n",
    "\n",
    "### 훈련모델 생성\n",
    "rf = RandomForestClassifier(random_state=42)\n",
    "\n",
    "### AutoML 클래스 생성하기\n",
    "gs = GridSearchCV(rf, params, n_jobs=-1)\n",
    "\n",
    "### AutoML 실행하기 : 하이퍼파라메터 튜닝 + 훈련(교차검증 수행)\n",
    "gs.fit(train_std_scaler, train_y)\n",
    "\n",
    "rf = gs.best_estimator_\n",
    "\n",
    "### 과적합 확인하기\n",
    "print(gs.best_params_)\n",
    "print(\"훈련 정확도 :\", rf.score(train_std_scaler, train_y))\n",
    "print(\"테스트 정확도 :\", rf.score(test_std_scaler, test_y))"
   ]
  },
  {
   "cell_type": "code",
   "execution_count": null,
   "id": "a55c731d",
   "metadata": {},
   "outputs": [],
   "source": [
    "### 엑스트라트리 교차검증\n",
    "from sklearn.ensemble import ExtraTreesClassifier\n",
    "\n",
    "params = {\"max_depth\" : range(10,100,1),\n",
    "          \"n_estimators\" : range(10,200,1)}\n",
    "\n",
    "### 훈련모델 생성\n",
    "et = ExtraTreesClassifier(random_state=42)\n",
    "\n",
    "### AutoML 클래스 생성하기\n",
    "gs = GridSearchCV(et, params, n_jobs=-1)\n",
    "\n",
    "### AutoML 실행하기 : 하이퍼파라메터 튜닝 + 훈련(교차검증 수행)\n",
    "gs.fit(train_std_scaler, train_y)\n",
    "\n",
    "et = gs.best_estimator_\n",
    "\n",
    "### 과적합 확인하기\n",
    "print(gs.best_params_)\n",
    "print(\"훈련 정확도 :\", et.score(train_std_scaler, train_y))\n",
    "print(\"테스트 정확도 :\", et.score(test_std_scaler, test_y))"
   ]
  },
  {
   "cell_type": "code",
   "execution_count": null,
   "id": "1d9b6dc8",
   "metadata": {},
   "outputs": [],
   "source": [
    "### HGB 교차검증\n",
    "from sklearn.ensemble import ExtraTreesClassifier\n",
    "\n",
    "params = {\"n_estimators\" : range(10,200,1),\n",
    "          \"max_depth\" : range(3,10,1)}\n",
    "\n",
    "### 훈련모델 생성\n",
    "hgb = HistGradientBoostingClassifier(random_state=42)\n",
    "\n",
    "### AutoML 클래스 생성하기\n",
    "gs = GridSearchCV(hgb, params, n_jobs=-1)\n",
    "\n",
    "### AutoML 실행하기 : 하이퍼파라메터 튜닝 + 훈련(교차검증 수행)\n",
    "gs.fit(train_std_scaler, train_y)\n",
    "\n",
    "hgb = gs.best_estimator_\n",
    "\n",
    "### 과적합 확인하기\n",
    "print(gs.best_params_)\n",
    "print(\"훈련 정확도 :\", hgb.score(train_std_scaler, train_y))\n",
    "print(\"테스트 정확도 :\", hgb.score(test_std_scaler, test_y))"
   ]
  },
  {
   "cell_type": "markdown",
   "id": "e88f973b",
   "metadata": {},
   "source": [
    "### 엑스트라트리 모델"
   ]
  },
  {
   "cell_type": "code",
   "execution_count": 136,
   "id": "252fad60",
   "metadata": {},
   "outputs": [
    {
     "name": "stdout",
     "output_type": "stream",
     "text": [
      "훈련 정확도 : 0.9999677722572848\n",
      "테스트 정확도 : 0.9150696115503609\n"
     ]
    }
   ],
   "source": [
    "from sklearn.ensemble import ExtraTreesClassifier\n",
    "### 모델 생성\n",
    "et = ExtraTreesClassifier(n_jobs=-1,max_depth=32,n_estimators=600, random_state=42)\n",
    "\n",
    "### 훈련시키기\n",
    "et.fit(train_std_scaler, train_y)\n",
    "\n",
    "### 정확도 확인\n",
    "tr_score = et.score(train_std_scaler, train_y)\n",
    "ts_score = et.score(test_std_scaler, test_y)\n",
    "# df_model[2] = et\n",
    "# df_tr[2] = tr_score\n",
    "# df_te[2] = ts_score\n",
    "print('훈련 정확도 :', tr_score)\n",
    "print('테스트 정확도 :', ts_score)"
   ]
  },
  {
   "cell_type": "code",
   "execution_count": 170,
   "id": "e5657bfa",
   "metadata": {},
   "outputs": [
    {
     "data": {
      "text/plain": [
       "[DecisionTreeClassifier(max_depth=42, random_state=42),\n",
       " RandomForestClassifier(n_jobs=-1, random_state=42),\n",
       " ExtraTreesClassifier(max_depth=29, n_estimators=276, n_jobs=-1, random_state=42),\n",
       " GradientBoostingClassifier(random_state=42),\n",
       " HistGradientBoostingClassifier(random_state=42),\n",
       " KNeighborsClassifier(n_neighbors=3),\n",
       " LogisticRegression(C=30, max_iter=400, n_jobs=-1),\n",
       " SGDClassifier(loss='log_loss', random_state=42)]"
      ]
     },
     "execution_count": 170,
     "metadata": {},
     "output_type": "execute_result"
    }
   ],
   "source": [
    "df_model"
   ]
  },
  {
   "cell_type": "code",
   "execution_count": 124,
   "id": "34dc9646",
   "metadata": {
    "collapsed": true
   },
   "outputs": [
    {
     "ename": "KeyboardInterrupt",
     "evalue": "",
     "output_type": "error",
     "traceback": [
      "\u001b[1;31m---------------------------------------------------------------------------\u001b[0m",
      "\u001b[1;31mKeyboardInterrupt\u001b[0m                         Traceback (most recent call last)",
      "Cell \u001b[1;32mIn[124], line 13\u001b[0m\n\u001b[0;32m     10\u001b[0m gs \u001b[38;5;241m=\u001b[39m GridSearchCV(et, params, n_jobs\u001b[38;5;241m=\u001b[39m\u001b[38;5;241m-\u001b[39m\u001b[38;5;241m1\u001b[39m)\n\u001b[0;32m     12\u001b[0m \u001b[38;5;66;03m### AutoML 실행하기 : 하이퍼파라메터 튜닝 + 훈련(교차검증 수행)\u001b[39;00m\n\u001b[1;32m---> 13\u001b[0m \u001b[43mgs\u001b[49m\u001b[38;5;241;43m.\u001b[39;49m\u001b[43mfit\u001b[49m\u001b[43m(\u001b[49m\u001b[43mtrain_std_scaler\u001b[49m\u001b[43m,\u001b[49m\u001b[43m \u001b[49m\u001b[43mtrain_y\u001b[49m\u001b[43m)\u001b[49m\n\u001b[0;32m     15\u001b[0m et \u001b[38;5;241m=\u001b[39m gs\u001b[38;5;241m.\u001b[39mbest_estimator_\n\u001b[0;32m     17\u001b[0m \u001b[38;5;66;03m### 과적합 확인하기\u001b[39;00m\n",
      "File \u001b[1;32m~\\anaconda3\\envs\\eyepro\\lib\\site-packages\\sklearn\\base.py:1151\u001b[0m, in \u001b[0;36m_fit_context.<locals>.decorator.<locals>.wrapper\u001b[1;34m(estimator, *args, **kwargs)\u001b[0m\n\u001b[0;32m   1144\u001b[0m     estimator\u001b[38;5;241m.\u001b[39m_validate_params()\n\u001b[0;32m   1146\u001b[0m \u001b[38;5;28;01mwith\u001b[39;00m config_context(\n\u001b[0;32m   1147\u001b[0m     skip_parameter_validation\u001b[38;5;241m=\u001b[39m(\n\u001b[0;32m   1148\u001b[0m         prefer_skip_nested_validation \u001b[38;5;129;01mor\u001b[39;00m global_skip_validation\n\u001b[0;32m   1149\u001b[0m     )\n\u001b[0;32m   1150\u001b[0m ):\n\u001b[1;32m-> 1151\u001b[0m     \u001b[38;5;28;01mreturn\u001b[39;00m fit_method(estimator, \u001b[38;5;241m*\u001b[39margs, \u001b[38;5;241m*\u001b[39m\u001b[38;5;241m*\u001b[39mkwargs)\n",
      "File \u001b[1;32m~\\anaconda3\\envs\\eyepro\\lib\\site-packages\\sklearn\\model_selection\\_search.py:898\u001b[0m, in \u001b[0;36mBaseSearchCV.fit\u001b[1;34m(self, X, y, groups, **fit_params)\u001b[0m\n\u001b[0;32m    892\u001b[0m     results \u001b[38;5;241m=\u001b[39m \u001b[38;5;28mself\u001b[39m\u001b[38;5;241m.\u001b[39m_format_results(\n\u001b[0;32m    893\u001b[0m         all_candidate_params, n_splits, all_out, all_more_results\n\u001b[0;32m    894\u001b[0m     )\n\u001b[0;32m    896\u001b[0m     \u001b[38;5;28;01mreturn\u001b[39;00m results\n\u001b[1;32m--> 898\u001b[0m \u001b[38;5;28;43mself\u001b[39;49m\u001b[38;5;241;43m.\u001b[39;49m\u001b[43m_run_search\u001b[49m\u001b[43m(\u001b[49m\u001b[43mevaluate_candidates\u001b[49m\u001b[43m)\u001b[49m\n\u001b[0;32m    900\u001b[0m \u001b[38;5;66;03m# multimetric is determined here because in the case of a callable\u001b[39;00m\n\u001b[0;32m    901\u001b[0m \u001b[38;5;66;03m# self.scoring the return type is only known after calling\u001b[39;00m\n\u001b[0;32m    902\u001b[0m first_test_score \u001b[38;5;241m=\u001b[39m all_out[\u001b[38;5;241m0\u001b[39m][\u001b[38;5;124m\"\u001b[39m\u001b[38;5;124mtest_scores\u001b[39m\u001b[38;5;124m\"\u001b[39m]\n",
      "File \u001b[1;32m~\\anaconda3\\envs\\eyepro\\lib\\site-packages\\sklearn\\model_selection\\_search.py:1419\u001b[0m, in \u001b[0;36mGridSearchCV._run_search\u001b[1;34m(self, evaluate_candidates)\u001b[0m\n\u001b[0;32m   1417\u001b[0m \u001b[38;5;28;01mdef\u001b[39;00m \u001b[38;5;21m_run_search\u001b[39m(\u001b[38;5;28mself\u001b[39m, evaluate_candidates):\n\u001b[0;32m   1418\u001b[0m \u001b[38;5;250m    \u001b[39m\u001b[38;5;124;03m\"\"\"Search all candidates in param_grid\"\"\"\u001b[39;00m\n\u001b[1;32m-> 1419\u001b[0m     \u001b[43mevaluate_candidates\u001b[49m\u001b[43m(\u001b[49m\u001b[43mParameterGrid\u001b[49m\u001b[43m(\u001b[49m\u001b[38;5;28;43mself\u001b[39;49m\u001b[38;5;241;43m.\u001b[39;49m\u001b[43mparam_grid\u001b[49m\u001b[43m)\u001b[49m\u001b[43m)\u001b[49m\n",
      "File \u001b[1;32m~\\anaconda3\\envs\\eyepro\\lib\\site-packages\\sklearn\\model_selection\\_search.py:845\u001b[0m, in \u001b[0;36mBaseSearchCV.fit.<locals>.evaluate_candidates\u001b[1;34m(candidate_params, cv, more_results)\u001b[0m\n\u001b[0;32m    837\u001b[0m \u001b[38;5;28;01mif\u001b[39;00m \u001b[38;5;28mself\u001b[39m\u001b[38;5;241m.\u001b[39mverbose \u001b[38;5;241m>\u001b[39m \u001b[38;5;241m0\u001b[39m:\n\u001b[0;32m    838\u001b[0m     \u001b[38;5;28mprint\u001b[39m(\n\u001b[0;32m    839\u001b[0m         \u001b[38;5;124m\"\u001b[39m\u001b[38;5;124mFitting \u001b[39m\u001b[38;5;132;01m{0}\u001b[39;00m\u001b[38;5;124m folds for each of \u001b[39m\u001b[38;5;132;01m{1}\u001b[39;00m\u001b[38;5;124m candidates,\u001b[39m\u001b[38;5;124m\"\u001b[39m\n\u001b[0;32m    840\u001b[0m         \u001b[38;5;124m\"\u001b[39m\u001b[38;5;124m totalling \u001b[39m\u001b[38;5;132;01m{2}\u001b[39;00m\u001b[38;5;124m fits\u001b[39m\u001b[38;5;124m\"\u001b[39m\u001b[38;5;241m.\u001b[39mformat(\n\u001b[0;32m    841\u001b[0m             n_splits, n_candidates, n_candidates \u001b[38;5;241m*\u001b[39m n_splits\n\u001b[0;32m    842\u001b[0m         )\n\u001b[0;32m    843\u001b[0m     )\n\u001b[1;32m--> 845\u001b[0m out \u001b[38;5;241m=\u001b[39m \u001b[43mparallel\u001b[49m\u001b[43m(\u001b[49m\n\u001b[0;32m    846\u001b[0m \u001b[43m    \u001b[49m\u001b[43mdelayed\u001b[49m\u001b[43m(\u001b[49m\u001b[43m_fit_and_score\u001b[49m\u001b[43m)\u001b[49m\u001b[43m(\u001b[49m\n\u001b[0;32m    847\u001b[0m \u001b[43m        \u001b[49m\u001b[43mclone\u001b[49m\u001b[43m(\u001b[49m\u001b[43mbase_estimator\u001b[49m\u001b[43m)\u001b[49m\u001b[43m,\u001b[49m\n\u001b[0;32m    848\u001b[0m \u001b[43m        \u001b[49m\u001b[43mX\u001b[49m\u001b[43m,\u001b[49m\n\u001b[0;32m    849\u001b[0m \u001b[43m        \u001b[49m\u001b[43my\u001b[49m\u001b[43m,\u001b[49m\n\u001b[0;32m    850\u001b[0m \u001b[43m        \u001b[49m\u001b[43mtrain\u001b[49m\u001b[38;5;241;43m=\u001b[39;49m\u001b[43mtrain\u001b[49m\u001b[43m,\u001b[49m\n\u001b[0;32m    851\u001b[0m \u001b[43m        \u001b[49m\u001b[43mtest\u001b[49m\u001b[38;5;241;43m=\u001b[39;49m\u001b[43mtest\u001b[49m\u001b[43m,\u001b[49m\n\u001b[0;32m    852\u001b[0m \u001b[43m        \u001b[49m\u001b[43mparameters\u001b[49m\u001b[38;5;241;43m=\u001b[39;49m\u001b[43mparameters\u001b[49m\u001b[43m,\u001b[49m\n\u001b[0;32m    853\u001b[0m \u001b[43m        \u001b[49m\u001b[43msplit_progress\u001b[49m\u001b[38;5;241;43m=\u001b[39;49m\u001b[43m(\u001b[49m\u001b[43msplit_idx\u001b[49m\u001b[43m,\u001b[49m\u001b[43m \u001b[49m\u001b[43mn_splits\u001b[49m\u001b[43m)\u001b[49m\u001b[43m,\u001b[49m\n\u001b[0;32m    854\u001b[0m \u001b[43m        \u001b[49m\u001b[43mcandidate_progress\u001b[49m\u001b[38;5;241;43m=\u001b[39;49m\u001b[43m(\u001b[49m\u001b[43mcand_idx\u001b[49m\u001b[43m,\u001b[49m\u001b[43m \u001b[49m\u001b[43mn_candidates\u001b[49m\u001b[43m)\u001b[49m\u001b[43m,\u001b[49m\n\u001b[0;32m    855\u001b[0m \u001b[43m        \u001b[49m\u001b[38;5;241;43m*\u001b[39;49m\u001b[38;5;241;43m*\u001b[39;49m\u001b[43mfit_and_score_kwargs\u001b[49m\u001b[43m,\u001b[49m\n\u001b[0;32m    856\u001b[0m \u001b[43m    \u001b[49m\u001b[43m)\u001b[49m\n\u001b[0;32m    857\u001b[0m \u001b[43m    \u001b[49m\u001b[38;5;28;43;01mfor\u001b[39;49;00m\u001b[43m \u001b[49m\u001b[43m(\u001b[49m\u001b[43mcand_idx\u001b[49m\u001b[43m,\u001b[49m\u001b[43m \u001b[49m\u001b[43mparameters\u001b[49m\u001b[43m)\u001b[49m\u001b[43m,\u001b[49m\u001b[43m \u001b[49m\u001b[43m(\u001b[49m\u001b[43msplit_idx\u001b[49m\u001b[43m,\u001b[49m\u001b[43m \u001b[49m\u001b[43m(\u001b[49m\u001b[43mtrain\u001b[49m\u001b[43m,\u001b[49m\u001b[43m \u001b[49m\u001b[43mtest\u001b[49m\u001b[43m)\u001b[49m\u001b[43m)\u001b[49m\u001b[43m \u001b[49m\u001b[38;5;129;43;01min\u001b[39;49;00m\u001b[43m \u001b[49m\u001b[43mproduct\u001b[49m\u001b[43m(\u001b[49m\n\u001b[0;32m    858\u001b[0m \u001b[43m        \u001b[49m\u001b[38;5;28;43menumerate\u001b[39;49m\u001b[43m(\u001b[49m\u001b[43mcandidate_params\u001b[49m\u001b[43m)\u001b[49m\u001b[43m,\u001b[49m\u001b[43m \u001b[49m\u001b[38;5;28;43menumerate\u001b[39;49m\u001b[43m(\u001b[49m\u001b[43mcv\u001b[49m\u001b[38;5;241;43m.\u001b[39;49m\u001b[43msplit\u001b[49m\u001b[43m(\u001b[49m\u001b[43mX\u001b[49m\u001b[43m,\u001b[49m\u001b[43m \u001b[49m\u001b[43my\u001b[49m\u001b[43m,\u001b[49m\u001b[43m \u001b[49m\u001b[43mgroups\u001b[49m\u001b[43m)\u001b[49m\u001b[43m)\u001b[49m\n\u001b[0;32m    859\u001b[0m \u001b[43m    \u001b[49m\u001b[43m)\u001b[49m\n\u001b[0;32m    860\u001b[0m \u001b[43m\u001b[49m\u001b[43m)\u001b[49m\n\u001b[0;32m    862\u001b[0m \u001b[38;5;28;01mif\u001b[39;00m \u001b[38;5;28mlen\u001b[39m(out) \u001b[38;5;241m<\u001b[39m \u001b[38;5;241m1\u001b[39m:\n\u001b[0;32m    863\u001b[0m     \u001b[38;5;28;01mraise\u001b[39;00m \u001b[38;5;167;01mValueError\u001b[39;00m(\n\u001b[0;32m    864\u001b[0m         \u001b[38;5;124m\"\u001b[39m\u001b[38;5;124mNo fits were performed. \u001b[39m\u001b[38;5;124m\"\u001b[39m\n\u001b[0;32m    865\u001b[0m         \u001b[38;5;124m\"\u001b[39m\u001b[38;5;124mWas the CV iterator empty? \u001b[39m\u001b[38;5;124m\"\u001b[39m\n\u001b[0;32m    866\u001b[0m         \u001b[38;5;124m\"\u001b[39m\u001b[38;5;124mWere there no candidates?\u001b[39m\u001b[38;5;124m\"\u001b[39m\n\u001b[0;32m    867\u001b[0m     )\n",
      "File \u001b[1;32m~\\anaconda3\\envs\\eyepro\\lib\\site-packages\\sklearn\\utils\\parallel.py:65\u001b[0m, in \u001b[0;36mParallel.__call__\u001b[1;34m(self, iterable)\u001b[0m\n\u001b[0;32m     60\u001b[0m config \u001b[38;5;241m=\u001b[39m get_config()\n\u001b[0;32m     61\u001b[0m iterable_with_config \u001b[38;5;241m=\u001b[39m (\n\u001b[0;32m     62\u001b[0m     (_with_config(delayed_func, config), args, kwargs)\n\u001b[0;32m     63\u001b[0m     \u001b[38;5;28;01mfor\u001b[39;00m delayed_func, args, kwargs \u001b[38;5;129;01min\u001b[39;00m iterable\n\u001b[0;32m     64\u001b[0m )\n\u001b[1;32m---> 65\u001b[0m \u001b[38;5;28;01mreturn\u001b[39;00m \u001b[38;5;28;43msuper\u001b[39;49m\u001b[43m(\u001b[49m\u001b[43m)\u001b[49m\u001b[38;5;241;43m.\u001b[39;49m\u001b[38;5;21;43m__call__\u001b[39;49m\u001b[43m(\u001b[49m\u001b[43miterable_with_config\u001b[49m\u001b[43m)\u001b[49m\n",
      "File \u001b[1;32m~\\anaconda3\\envs\\eyepro\\lib\\site-packages\\joblib\\parallel.py:1952\u001b[0m, in \u001b[0;36mParallel.__call__\u001b[1;34m(self, iterable)\u001b[0m\n\u001b[0;32m   1946\u001b[0m \u001b[38;5;66;03m# The first item from the output is blank, but it makes the interpreter\u001b[39;00m\n\u001b[0;32m   1947\u001b[0m \u001b[38;5;66;03m# progress until it enters the Try/Except block of the generator and\u001b[39;00m\n\u001b[0;32m   1948\u001b[0m \u001b[38;5;66;03m# reach the first `yield` statement. This starts the aynchronous\u001b[39;00m\n\u001b[0;32m   1949\u001b[0m \u001b[38;5;66;03m# dispatch of the tasks to the workers.\u001b[39;00m\n\u001b[0;32m   1950\u001b[0m \u001b[38;5;28mnext\u001b[39m(output)\n\u001b[1;32m-> 1952\u001b[0m \u001b[38;5;28;01mreturn\u001b[39;00m output \u001b[38;5;28;01mif\u001b[39;00m \u001b[38;5;28mself\u001b[39m\u001b[38;5;241m.\u001b[39mreturn_generator \u001b[38;5;28;01melse\u001b[39;00m \u001b[38;5;28;43mlist\u001b[39;49m\u001b[43m(\u001b[49m\u001b[43moutput\u001b[49m\u001b[43m)\u001b[49m\n",
      "File \u001b[1;32m~\\anaconda3\\envs\\eyepro\\lib\\site-packages\\joblib\\parallel.py:1595\u001b[0m, in \u001b[0;36mParallel._get_outputs\u001b[1;34m(self, iterator, pre_dispatch)\u001b[0m\n\u001b[0;32m   1592\u001b[0m     \u001b[38;5;28;01myield\u001b[39;00m\n\u001b[0;32m   1594\u001b[0m     \u001b[38;5;28;01mwith\u001b[39;00m \u001b[38;5;28mself\u001b[39m\u001b[38;5;241m.\u001b[39m_backend\u001b[38;5;241m.\u001b[39mretrieval_context():\n\u001b[1;32m-> 1595\u001b[0m         \u001b[38;5;28;01myield from\u001b[39;00m \u001b[38;5;28mself\u001b[39m\u001b[38;5;241m.\u001b[39m_retrieve()\n\u001b[0;32m   1597\u001b[0m \u001b[38;5;28;01mexcept\u001b[39;00m \u001b[38;5;167;01mGeneratorExit\u001b[39;00m:\n\u001b[0;32m   1598\u001b[0m     \u001b[38;5;66;03m# The generator has been garbage collected before being fully\u001b[39;00m\n\u001b[0;32m   1599\u001b[0m     \u001b[38;5;66;03m# consumed. This aborts the remaining tasks if possible and warn\u001b[39;00m\n\u001b[0;32m   1600\u001b[0m     \u001b[38;5;66;03m# the user if necessary.\u001b[39;00m\n\u001b[0;32m   1601\u001b[0m     \u001b[38;5;28mself\u001b[39m\u001b[38;5;241m.\u001b[39m_exception \u001b[38;5;241m=\u001b[39m \u001b[38;5;28;01mTrue\u001b[39;00m\n",
      "File \u001b[1;32m~\\anaconda3\\envs\\eyepro\\lib\\site-packages\\joblib\\parallel.py:1707\u001b[0m, in \u001b[0;36mParallel._retrieve\u001b[1;34m(self)\u001b[0m\n\u001b[0;32m   1702\u001b[0m \u001b[38;5;66;03m# If the next job is not ready for retrieval yet, we just wait for\u001b[39;00m\n\u001b[0;32m   1703\u001b[0m \u001b[38;5;66;03m# async callbacks to progress.\u001b[39;00m\n\u001b[0;32m   1704\u001b[0m \u001b[38;5;28;01mif\u001b[39;00m ((\u001b[38;5;28mlen\u001b[39m(\u001b[38;5;28mself\u001b[39m\u001b[38;5;241m.\u001b[39m_jobs) \u001b[38;5;241m==\u001b[39m \u001b[38;5;241m0\u001b[39m) \u001b[38;5;129;01mor\u001b[39;00m\n\u001b[0;32m   1705\u001b[0m     (\u001b[38;5;28mself\u001b[39m\u001b[38;5;241m.\u001b[39m_jobs[\u001b[38;5;241m0\u001b[39m]\u001b[38;5;241m.\u001b[39mget_status(\n\u001b[0;32m   1706\u001b[0m         timeout\u001b[38;5;241m=\u001b[39m\u001b[38;5;28mself\u001b[39m\u001b[38;5;241m.\u001b[39mtimeout) \u001b[38;5;241m==\u001b[39m TASK_PENDING)):\n\u001b[1;32m-> 1707\u001b[0m     \u001b[43mtime\u001b[49m\u001b[38;5;241;43m.\u001b[39;49m\u001b[43msleep\u001b[49m\u001b[43m(\u001b[49m\u001b[38;5;241;43m0.01\u001b[39;49m\u001b[43m)\u001b[49m\n\u001b[0;32m   1708\u001b[0m     \u001b[38;5;28;01mcontinue\u001b[39;00m\n\u001b[0;32m   1710\u001b[0m \u001b[38;5;66;03m# We need to be careful: the job list can be filling up as\u001b[39;00m\n\u001b[0;32m   1711\u001b[0m \u001b[38;5;66;03m# we empty it and Python list are not thread-safe by\u001b[39;00m\n\u001b[0;32m   1712\u001b[0m \u001b[38;5;66;03m# default hence the use of the lock\u001b[39;00m\n",
      "\u001b[1;31mKeyboardInterrupt\u001b[0m: "
     ]
    }
   ],
   "source": [
    "### 엑스트라 교차검증\n",
    "\n",
    "params = {\"max_depth\" : range(1,25,1),\n",
    "          \"n_estimators\" : range(2,40,1)}\n",
    "\n",
    "### 훈련모델 생성\n",
    "et = ExtraTreesClassifier(random_state=42)\n",
    "\n",
    "### AutoML 클래스 생성하기\n",
    "gs = GridSearchCV(et, params, n_jobs=-1)\n",
    "\n",
    "### AutoML 실행하기 : 하이퍼파라메터 튜닝 + 훈련(교차검증 수행)\n",
    "gs.fit(train_std_scaler, train_y)\n",
    "\n",
    "et = gs.best_estimator_\n",
    "\n",
    "### 과적합 확인하기\n",
    "print(gs.best_params_)\n",
    "print(\"훈련 정확도 :\", et.score(train_std_scaler, train_y))\n",
    "print(\"테스트 정확도 :\", et.score(test_std_scaler, test_y))"
   ]
  },
  {
   "cell_type": "markdown",
   "id": "7957df52",
   "metadata": {},
   "source": [
    "### 그레디언트 부스팅"
   ]
  },
  {
   "cell_type": "code",
   "execution_count": 355,
   "id": "9970a796",
   "metadata": {
    "collapsed": true
   },
   "outputs": [
    {
     "ename": "KeyboardInterrupt",
     "evalue": "",
     "output_type": "error",
     "traceback": [
      "\u001b[1;31m---------------------------------------------------------------------------\u001b[0m",
      "\u001b[1;31mKeyboardInterrupt\u001b[0m                         Traceback (most recent call last)",
      "Cell \u001b[1;32mIn[355], line 6\u001b[0m\n\u001b[0;32m      3\u001b[0m gb \u001b[38;5;241m=\u001b[39m GradientBoostingClassifier(random_state\u001b[38;5;241m=\u001b[39m\u001b[38;5;241m42\u001b[39m,n_estimators\u001b[38;5;241m=\u001b[39m\u001b[38;5;241m100\u001b[39m,max_depth\u001b[38;5;241m=\u001b[39m\u001b[38;5;241m3\u001b[39m,learning_rate\u001b[38;5;241m=\u001b[39m\u001b[38;5;241m0.01\u001b[39m)\n\u001b[0;32m      5\u001b[0m \u001b[38;5;66;03m### 훈련\u001b[39;00m\n\u001b[1;32m----> 6\u001b[0m \u001b[43mgb\u001b[49m\u001b[38;5;241;43m.\u001b[39;49m\u001b[43mfit\u001b[49m\u001b[43m(\u001b[49m\u001b[43mtrain_std_scaler\u001b[49m\u001b[43m,\u001b[49m\u001b[43m \u001b[49m\u001b[43mtrain_y\u001b[49m\u001b[43m)\u001b[49m\n\u001b[0;32m      8\u001b[0m \u001b[38;5;66;03m### 정확도\u001b[39;00m\n\u001b[0;32m      9\u001b[0m tr_score \u001b[38;5;241m=\u001b[39m gb\u001b[38;5;241m.\u001b[39mscore(train_std_scaler, train_y)\n",
      "File \u001b[1;32m~\\anaconda3\\envs\\eyepro\\lib\\site-packages\\sklearn\\base.py:1151\u001b[0m, in \u001b[0;36m_fit_context.<locals>.decorator.<locals>.wrapper\u001b[1;34m(estimator, *args, **kwargs)\u001b[0m\n\u001b[0;32m   1144\u001b[0m     estimator\u001b[38;5;241m.\u001b[39m_validate_params()\n\u001b[0;32m   1146\u001b[0m \u001b[38;5;28;01mwith\u001b[39;00m config_context(\n\u001b[0;32m   1147\u001b[0m     skip_parameter_validation\u001b[38;5;241m=\u001b[39m(\n\u001b[0;32m   1148\u001b[0m         prefer_skip_nested_validation \u001b[38;5;129;01mor\u001b[39;00m global_skip_validation\n\u001b[0;32m   1149\u001b[0m     )\n\u001b[0;32m   1150\u001b[0m ):\n\u001b[1;32m-> 1151\u001b[0m     \u001b[38;5;28;01mreturn\u001b[39;00m fit_method(estimator, \u001b[38;5;241m*\u001b[39margs, \u001b[38;5;241m*\u001b[39m\u001b[38;5;241m*\u001b[39mkwargs)\n",
      "File \u001b[1;32m~\\anaconda3\\envs\\eyepro\\lib\\site-packages\\sklearn\\ensemble\\_gb.py:525\u001b[0m, in \u001b[0;36mBaseGradientBoosting.fit\u001b[1;34m(self, X, y, sample_weight, monitor)\u001b[0m\n\u001b[0;32m    522\u001b[0m     \u001b[38;5;28mself\u001b[39m\u001b[38;5;241m.\u001b[39m_resize_state()\n\u001b[0;32m    524\u001b[0m \u001b[38;5;66;03m# fit the boosting stages\u001b[39;00m\n\u001b[1;32m--> 525\u001b[0m n_stages \u001b[38;5;241m=\u001b[39m \u001b[38;5;28;43mself\u001b[39;49m\u001b[38;5;241;43m.\u001b[39;49m\u001b[43m_fit_stages\u001b[49m\u001b[43m(\u001b[49m\n\u001b[0;32m    526\u001b[0m \u001b[43m    \u001b[49m\u001b[43mX\u001b[49m\u001b[43m,\u001b[49m\n\u001b[0;32m    527\u001b[0m \u001b[43m    \u001b[49m\u001b[43my\u001b[49m\u001b[43m,\u001b[49m\n\u001b[0;32m    528\u001b[0m \u001b[43m    \u001b[49m\u001b[43mraw_predictions\u001b[49m\u001b[43m,\u001b[49m\n\u001b[0;32m    529\u001b[0m \u001b[43m    \u001b[49m\u001b[43msample_weight\u001b[49m\u001b[43m,\u001b[49m\n\u001b[0;32m    530\u001b[0m \u001b[43m    \u001b[49m\u001b[38;5;28;43mself\u001b[39;49m\u001b[38;5;241;43m.\u001b[39;49m\u001b[43m_rng\u001b[49m\u001b[43m,\u001b[49m\n\u001b[0;32m    531\u001b[0m \u001b[43m    \u001b[49m\u001b[43mX_val\u001b[49m\u001b[43m,\u001b[49m\n\u001b[0;32m    532\u001b[0m \u001b[43m    \u001b[49m\u001b[43my_val\u001b[49m\u001b[43m,\u001b[49m\n\u001b[0;32m    533\u001b[0m \u001b[43m    \u001b[49m\u001b[43msample_weight_val\u001b[49m\u001b[43m,\u001b[49m\n\u001b[0;32m    534\u001b[0m \u001b[43m    \u001b[49m\u001b[43mbegin_at_stage\u001b[49m\u001b[43m,\u001b[49m\n\u001b[0;32m    535\u001b[0m \u001b[43m    \u001b[49m\u001b[43mmonitor\u001b[49m\u001b[43m,\u001b[49m\n\u001b[0;32m    536\u001b[0m \u001b[43m\u001b[49m\u001b[43m)\u001b[49m\n\u001b[0;32m    538\u001b[0m \u001b[38;5;66;03m# change shape of arrays after fit (early-stopping or additional ests)\u001b[39;00m\n\u001b[0;32m    539\u001b[0m \u001b[38;5;28;01mif\u001b[39;00m n_stages \u001b[38;5;241m!=\u001b[39m \u001b[38;5;28mself\u001b[39m\u001b[38;5;241m.\u001b[39mestimators_\u001b[38;5;241m.\u001b[39mshape[\u001b[38;5;241m0\u001b[39m]:\n",
      "File \u001b[1;32m~\\anaconda3\\envs\\eyepro\\lib\\site-packages\\sklearn\\ensemble\\_gb.py:603\u001b[0m, in \u001b[0;36mBaseGradientBoosting._fit_stages\u001b[1;34m(self, X, y, raw_predictions, sample_weight, random_state, X_val, y_val, sample_weight_val, begin_at_stage, monitor)\u001b[0m\n\u001b[0;32m    596\u001b[0m         initial_loss \u001b[38;5;241m=\u001b[39m loss_(\n\u001b[0;32m    597\u001b[0m             y[\u001b[38;5;241m~\u001b[39msample_mask],\n\u001b[0;32m    598\u001b[0m             raw_predictions[\u001b[38;5;241m~\u001b[39msample_mask],\n\u001b[0;32m    599\u001b[0m             sample_weight[\u001b[38;5;241m~\u001b[39msample_mask],\n\u001b[0;32m    600\u001b[0m         )\n\u001b[0;32m    602\u001b[0m \u001b[38;5;66;03m# fit next stage of trees\u001b[39;00m\n\u001b[1;32m--> 603\u001b[0m raw_predictions \u001b[38;5;241m=\u001b[39m \u001b[38;5;28;43mself\u001b[39;49m\u001b[38;5;241;43m.\u001b[39;49m\u001b[43m_fit_stage\u001b[49m\u001b[43m(\u001b[49m\n\u001b[0;32m    604\u001b[0m \u001b[43m    \u001b[49m\u001b[43mi\u001b[49m\u001b[43m,\u001b[49m\n\u001b[0;32m    605\u001b[0m \u001b[43m    \u001b[49m\u001b[43mX\u001b[49m\u001b[43m,\u001b[49m\n\u001b[0;32m    606\u001b[0m \u001b[43m    \u001b[49m\u001b[43my\u001b[49m\u001b[43m,\u001b[49m\n\u001b[0;32m    607\u001b[0m \u001b[43m    \u001b[49m\u001b[43mraw_predictions\u001b[49m\u001b[43m,\u001b[49m\n\u001b[0;32m    608\u001b[0m \u001b[43m    \u001b[49m\u001b[43msample_weight\u001b[49m\u001b[43m,\u001b[49m\n\u001b[0;32m    609\u001b[0m \u001b[43m    \u001b[49m\u001b[43msample_mask\u001b[49m\u001b[43m,\u001b[49m\n\u001b[0;32m    610\u001b[0m \u001b[43m    \u001b[49m\u001b[43mrandom_state\u001b[49m\u001b[43m,\u001b[49m\n\u001b[0;32m    611\u001b[0m \u001b[43m    \u001b[49m\u001b[43mX_csc\u001b[49m\u001b[43m,\u001b[49m\n\u001b[0;32m    612\u001b[0m \u001b[43m    \u001b[49m\u001b[43mX_csr\u001b[49m\u001b[43m,\u001b[49m\n\u001b[0;32m    613\u001b[0m \u001b[43m\u001b[49m\u001b[43m)\u001b[49m\n\u001b[0;32m    615\u001b[0m \u001b[38;5;66;03m# track loss\u001b[39;00m\n\u001b[0;32m    616\u001b[0m \u001b[38;5;28;01mif\u001b[39;00m do_oob:\n",
      "File \u001b[1;32m~\\anaconda3\\envs\\eyepro\\lib\\site-packages\\sklearn\\ensemble\\_gb.py:245\u001b[0m, in \u001b[0;36mBaseGradientBoosting._fit_stage\u001b[1;34m(self, i, X, y, raw_predictions, sample_weight, sample_mask, random_state, X_csc, X_csr)\u001b[0m\n\u001b[0;32m    242\u001b[0m     sample_weight \u001b[38;5;241m=\u001b[39m sample_weight \u001b[38;5;241m*\u001b[39m sample_mask\u001b[38;5;241m.\u001b[39mastype(np\u001b[38;5;241m.\u001b[39mfloat64)\n\u001b[0;32m    244\u001b[0m X \u001b[38;5;241m=\u001b[39m X_csr \u001b[38;5;28;01mif\u001b[39;00m X_csr \u001b[38;5;129;01mis\u001b[39;00m \u001b[38;5;129;01mnot\u001b[39;00m \u001b[38;5;28;01mNone\u001b[39;00m \u001b[38;5;28;01melse\u001b[39;00m X\n\u001b[1;32m--> 245\u001b[0m \u001b[43mtree\u001b[49m\u001b[38;5;241;43m.\u001b[39;49m\u001b[43mfit\u001b[49m\u001b[43m(\u001b[49m\u001b[43mX\u001b[49m\u001b[43m,\u001b[49m\u001b[43m \u001b[49m\u001b[43mresidual\u001b[49m\u001b[43m,\u001b[49m\u001b[43m \u001b[49m\u001b[43msample_weight\u001b[49m\u001b[38;5;241;43m=\u001b[39;49m\u001b[43msample_weight\u001b[49m\u001b[43m,\u001b[49m\u001b[43m \u001b[49m\u001b[43mcheck_input\u001b[49m\u001b[38;5;241;43m=\u001b[39;49m\u001b[38;5;28;43;01mFalse\u001b[39;49;00m\u001b[43m)\u001b[49m\n\u001b[0;32m    247\u001b[0m \u001b[38;5;66;03m# update tree leaves\u001b[39;00m\n\u001b[0;32m    248\u001b[0m loss\u001b[38;5;241m.\u001b[39mupdate_terminal_regions(\n\u001b[0;32m    249\u001b[0m     tree\u001b[38;5;241m.\u001b[39mtree_,\n\u001b[0;32m    250\u001b[0m     X,\n\u001b[1;32m   (...)\u001b[0m\n\u001b[0;32m    257\u001b[0m     k\u001b[38;5;241m=\u001b[39mk,\n\u001b[0;32m    258\u001b[0m )\n",
      "File \u001b[1;32m~\\anaconda3\\envs\\eyepro\\lib\\site-packages\\sklearn\\base.py:1151\u001b[0m, in \u001b[0;36m_fit_context.<locals>.decorator.<locals>.wrapper\u001b[1;34m(estimator, *args, **kwargs)\u001b[0m\n\u001b[0;32m   1144\u001b[0m     estimator\u001b[38;5;241m.\u001b[39m_validate_params()\n\u001b[0;32m   1146\u001b[0m \u001b[38;5;28;01mwith\u001b[39;00m config_context(\n\u001b[0;32m   1147\u001b[0m     skip_parameter_validation\u001b[38;5;241m=\u001b[39m(\n\u001b[0;32m   1148\u001b[0m         prefer_skip_nested_validation \u001b[38;5;129;01mor\u001b[39;00m global_skip_validation\n\u001b[0;32m   1149\u001b[0m     )\n\u001b[0;32m   1150\u001b[0m ):\n\u001b[1;32m-> 1151\u001b[0m     \u001b[38;5;28;01mreturn\u001b[39;00m fit_method(estimator, \u001b[38;5;241m*\u001b[39margs, \u001b[38;5;241m*\u001b[39m\u001b[38;5;241m*\u001b[39mkwargs)\n",
      "File \u001b[1;32m~\\anaconda3\\envs\\eyepro\\lib\\site-packages\\sklearn\\tree\\_classes.py:1320\u001b[0m, in \u001b[0;36mDecisionTreeRegressor.fit\u001b[1;34m(self, X, y, sample_weight, check_input)\u001b[0m\n\u001b[0;32m   1290\u001b[0m \u001b[38;5;129m@_fit_context\u001b[39m(prefer_skip_nested_validation\u001b[38;5;241m=\u001b[39m\u001b[38;5;28;01mTrue\u001b[39;00m)\n\u001b[0;32m   1291\u001b[0m \u001b[38;5;28;01mdef\u001b[39;00m \u001b[38;5;21mfit\u001b[39m(\u001b[38;5;28mself\u001b[39m, X, y, sample_weight\u001b[38;5;241m=\u001b[39m\u001b[38;5;28;01mNone\u001b[39;00m, check_input\u001b[38;5;241m=\u001b[39m\u001b[38;5;28;01mTrue\u001b[39;00m):\n\u001b[0;32m   1292\u001b[0m \u001b[38;5;250m    \u001b[39m\u001b[38;5;124;03m\"\"\"Build a decision tree regressor from the training set (X, y).\u001b[39;00m\n\u001b[0;32m   1293\u001b[0m \n\u001b[0;32m   1294\u001b[0m \u001b[38;5;124;03m    Parameters\u001b[39;00m\n\u001b[1;32m   (...)\u001b[0m\n\u001b[0;32m   1317\u001b[0m \u001b[38;5;124;03m        Fitted estimator.\u001b[39;00m\n\u001b[0;32m   1318\u001b[0m \u001b[38;5;124;03m    \"\"\"\u001b[39;00m\n\u001b[1;32m-> 1320\u001b[0m     \u001b[38;5;28;43msuper\u001b[39;49m\u001b[43m(\u001b[49m\u001b[43m)\u001b[49m\u001b[38;5;241;43m.\u001b[39;49m\u001b[43m_fit\u001b[49m\u001b[43m(\u001b[49m\n\u001b[0;32m   1321\u001b[0m \u001b[43m        \u001b[49m\u001b[43mX\u001b[49m\u001b[43m,\u001b[49m\n\u001b[0;32m   1322\u001b[0m \u001b[43m        \u001b[49m\u001b[43my\u001b[49m\u001b[43m,\u001b[49m\n\u001b[0;32m   1323\u001b[0m \u001b[43m        \u001b[49m\u001b[43msample_weight\u001b[49m\u001b[38;5;241;43m=\u001b[39;49m\u001b[43msample_weight\u001b[49m\u001b[43m,\u001b[49m\n\u001b[0;32m   1324\u001b[0m \u001b[43m        \u001b[49m\u001b[43mcheck_input\u001b[49m\u001b[38;5;241;43m=\u001b[39;49m\u001b[43mcheck_input\u001b[49m\u001b[43m,\u001b[49m\n\u001b[0;32m   1325\u001b[0m \u001b[43m    \u001b[49m\u001b[43m)\u001b[49m\n\u001b[0;32m   1326\u001b[0m     \u001b[38;5;28;01mreturn\u001b[39;00m \u001b[38;5;28mself\u001b[39m\n",
      "File \u001b[1;32m~\\anaconda3\\envs\\eyepro\\lib\\site-packages\\sklearn\\tree\\_classes.py:443\u001b[0m, in \u001b[0;36mBaseDecisionTree._fit\u001b[1;34m(self, X, y, sample_weight, check_input, missing_values_in_feature_mask)\u001b[0m\n\u001b[0;32m    432\u001b[0m \u001b[38;5;28;01melse\u001b[39;00m:\n\u001b[0;32m    433\u001b[0m     builder \u001b[38;5;241m=\u001b[39m BestFirstTreeBuilder(\n\u001b[0;32m    434\u001b[0m         splitter,\n\u001b[0;32m    435\u001b[0m         min_samples_split,\n\u001b[1;32m   (...)\u001b[0m\n\u001b[0;32m    440\u001b[0m         \u001b[38;5;28mself\u001b[39m\u001b[38;5;241m.\u001b[39mmin_impurity_decrease,\n\u001b[0;32m    441\u001b[0m     )\n\u001b[1;32m--> 443\u001b[0m \u001b[43mbuilder\u001b[49m\u001b[38;5;241;43m.\u001b[39;49m\u001b[43mbuild\u001b[49m\u001b[43m(\u001b[49m\u001b[38;5;28;43mself\u001b[39;49m\u001b[38;5;241;43m.\u001b[39;49m\u001b[43mtree_\u001b[49m\u001b[43m,\u001b[49m\u001b[43m \u001b[49m\u001b[43mX\u001b[49m\u001b[43m,\u001b[49m\u001b[43m \u001b[49m\u001b[43my\u001b[49m\u001b[43m,\u001b[49m\u001b[43m \u001b[49m\u001b[43msample_weight\u001b[49m\u001b[43m,\u001b[49m\u001b[43m \u001b[49m\u001b[43mmissing_values_in_feature_mask\u001b[49m\u001b[43m)\u001b[49m\n\u001b[0;32m    445\u001b[0m \u001b[38;5;28;01mif\u001b[39;00m \u001b[38;5;28mself\u001b[39m\u001b[38;5;241m.\u001b[39mn_outputs_ \u001b[38;5;241m==\u001b[39m \u001b[38;5;241m1\u001b[39m \u001b[38;5;129;01mand\u001b[39;00m is_classifier(\u001b[38;5;28mself\u001b[39m):\n\u001b[0;32m    446\u001b[0m     \u001b[38;5;28mself\u001b[39m\u001b[38;5;241m.\u001b[39mn_classes_ \u001b[38;5;241m=\u001b[39m \u001b[38;5;28mself\u001b[39m\u001b[38;5;241m.\u001b[39mn_classes_[\u001b[38;5;241m0\u001b[39m]\n",
      "\u001b[1;31mKeyboardInterrupt\u001b[0m: "
     ]
    }
   ],
   "source": [
    "from sklearn.ensemble import GradientBoostingClassifier\n",
    "### 모델 생성\n",
    "gb = GradientBoostingClassifier(random_state=42,n_estimators=100,max_depth=3,learning_rate=0.01)\n",
    "\n",
    "### 훈련\n",
    "gb.fit(train_std_scaler, train_y)\n",
    "\n",
    "### 정확도\n",
    "tr_score = gb.score(train_std_scaler, train_y)\n",
    "ts_score = gb.score(test_std_scaler, test_y)\n",
    "# df_model.append(gb)\n",
    "# df_tr.append(tr_score)\n",
    "# df_te.append(ts_score)\n",
    "print('훈련 정확도 :', tr_score)\n",
    "print('테스트 정확도 :', ts_score)"
   ]
  },
  {
   "cell_type": "markdown",
   "id": "4d564f07",
   "metadata": {},
   "source": [
    "### Histogram-base Gradient Boosting"
   ]
  },
  {
   "cell_type": "code",
   "execution_count": 380,
   "id": "ea9c5b38",
   "metadata": {},
   "outputs": [
    {
     "name": "stdout",
     "output_type": "stream",
     "text": [
      "훈련 정확도 : 0.9795701611895539\n",
      "테스트 정확도 : 0.8866745798713063\n"
     ]
    }
   ],
   "source": [
    "from sklearn.ensemble import HistGradientBoostingClassifier\n",
    "### 모델 생성\n",
    "hgb = HistGradientBoostingClassifier(random_state=42,max_depth=40,learning_rate=0.1,max_iter=3000)\n",
    "\n",
    "### 훈련\n",
    "hgb.fit(train_std_scaler, train_y)\n",
    "\n",
    "### 정확도\n",
    "tr_score = hgb.score(train_std_scaler, train_y)\n",
    "ts_score = hgb.score(test_std_scaler, test_y)\n",
    "df_model.append(hgb)\n",
    "df_tr.append(tr_score)\n",
    "df_te.append(ts_score)\n",
    "print('훈련 정확도 :', tr_score)\n",
    "print('테스트 정확도 :', ts_score)"
   ]
  },
  {
   "cell_type": "code",
   "execution_count": 381,
   "id": "4cd0b028",
   "metadata": {},
   "outputs": [
    {
     "data": {
      "text/plain": [
       "0.0928955813182476"
      ]
     },
     "execution_count": 381,
     "metadata": {},
     "output_type": "execute_result"
    }
   ],
   "source": [
    "0.9795701611895539-0.8866745798713063"
   ]
  },
  {
   "cell_type": "code",
   "execution_count": 184,
   "id": "0efc8877",
   "metadata": {},
   "outputs": [],
   "source": [
    "df_re = pd.DataFrame({'모델':df_model,'훈련정확도':df_tr,'테스트정확도':df_te})\n",
    "df_re.to_csv(\"./data/model_score.csv\",index=False)"
   ]
  },
  {
   "cell_type": "code",
   "execution_count": 182,
   "id": "e7b90e29",
   "metadata": {},
   "outputs": [
    {
     "data": {
      "text/plain": [
       "[DecisionTreeClassifier(max_depth=42, random_state=42),\n",
       " RandomForestClassifier(n_jobs=-1, random_state=42),\n",
       " ExtraTreesClassifier(max_depth=29, n_estimators=276, n_jobs=-1, random_state=42),\n",
       " GradientBoostingClassifier(random_state=42),\n",
       " HistGradientBoostingClassifier(random_state=42),\n",
       " KNeighborsClassifier(n_neighbors=3),\n",
       " LogisticRegression(C=30, max_iter=400, n_jobs=-1),\n",
       " SGDClassifier(loss='log_loss', random_state=42)]"
      ]
     },
     "execution_count": 182,
     "metadata": {},
     "output_type": "execute_result"
    }
   ],
   "source": [
    "df_model"
   ]
  },
  {
   "cell_type": "code",
   "execution_count": 15,
   "id": "0740a7df",
   "metadata": {},
   "outputs": [
    {
     "ename": "NameError",
     "evalue": "name 'df_re' is not defined",
     "output_type": "error",
     "traceback": [
      "\u001b[1;31m---------------------------------------------------------------------------\u001b[0m",
      "\u001b[1;31mNameError\u001b[0m                                 Traceback (most recent call last)",
      "Cell \u001b[1;32mIn[15], line 1\u001b[0m\n\u001b[1;32m----> 1\u001b[0m \u001b[43mdf_re\u001b[49m\n",
      "\u001b[1;31mNameError\u001b[0m: name 'df_re' is not defined"
     ]
    }
   ],
   "source": [
    "df_re"
   ]
  },
  {
   "cell_type": "code",
   "execution_count": 90,
   "id": "f159aaec",
   "metadata": {},
   "outputs": [],
   "source": [
    "df_model.append(kn)\n",
    "df_tr.append(0.943134)\n",
    "df_te.append(0.886666)"
   ]
  },
  {
   "cell_type": "code",
   "execution_count": 122,
   "id": "25c6eee3",
   "metadata": {},
   "outputs": [
    {
     "name": "stdout",
     "output_type": "stream",
     "text": [
      "훈련 정확도 : 0.26654067224790706\n",
      "테스트 정확도 : 0.25938651839820076\n"
     ]
    }
   ],
   "source": [
    "from sklearn.linear_model import LogisticRegression\n",
    "lr = LogisticRegression(C=30,max_iter=400,n_jobs=-1)\n",
    "### 훈련시키기\n",
    "lr.fit(train_std_scaler, train_y)\n",
    "### 정확도\n",
    "tr_score = lr.score(train_std_scaler, train_y)\n",
    "ts_score = lr.score(test_std_scaler, test_y)\n",
    "df_model.append(lr)\n",
    "df_tr.append(tr_score)\n",
    "df_te.append(ts_score)\n",
    "print('훈련 정확도 :', tr_score)\n",
    "print('테스트 정확도 :', ts_score)"
   ]
  },
  {
   "cell_type": "code",
   "execution_count": 315,
   "id": "abc84222",
   "metadata": {},
   "outputs": [
    {
     "name": "stderr",
     "output_type": "stream",
     "text": [
      "C:\\Users\\USER\\anaconda3\\envs\\eyepro\\lib\\site-packages\\sklearn\\linear_model\\_logistic.py:460: ConvergenceWarning:\n",
      "\n",
      "lbfgs failed to converge (status=1):\n",
      "STOP: TOTAL NO. of ITERATIONS REACHED LIMIT.\n",
      "\n",
      "Increase the number of iterations (max_iter) or scale the data as shown in:\n",
      "    https://scikit-learn.org/stable/modules/preprocessing.html\n",
      "Please also refer to the documentation for alternative solver options:\n",
      "    https://scikit-learn.org/stable/modules/linear_model.html#logistic-regression\n",
      "\n",
      "C:\\Users\\USER\\anaconda3\\envs\\eyepro\\lib\\site-packages\\sklearn\\model_selection\\_validation.py:425: FitFailedWarning:\n",
      "\n",
      "\n",
      "2940 fits failed out of a total of 5880.\n",
      "The score on these train-test partitions for these parameters will be set to nan.\n",
      "If these failures are not expected, you can try to debug them by setting error_score='raise'.\n",
      "\n",
      "Below are more details about the failures:\n",
      "--------------------------------------------------------------------------------\n",
      "2940 fits failed with the following error:\n",
      "Traceback (most recent call last):\n",
      "  File \"C:\\Users\\USER\\anaconda3\\envs\\eyepro\\lib\\site-packages\\sklearn\\model_selection\\_validation.py\", line 732, in _fit_and_score\n",
      "    estimator.fit(X_train, y_train, **fit_params)\n",
      "  File \"C:\\Users\\USER\\anaconda3\\envs\\eyepro\\lib\\site-packages\\sklearn\\base.py\", line 1151, in wrapper\n",
      "    return fit_method(estimator, *args, **kwargs)\n",
      "  File \"C:\\Users\\USER\\anaconda3\\envs\\eyepro\\lib\\site-packages\\sklearn\\linear_model\\_logistic.py\", line 1168, in fit\n",
      "    solver = _check_solver(self.solver, self.penalty, self.dual)\n",
      "  File \"C:\\Users\\USER\\anaconda3\\envs\\eyepro\\lib\\site-packages\\sklearn\\linear_model\\_logistic.py\", line 56, in _check_solver\n",
      "    raise ValueError(\n",
      "ValueError: Solver lbfgs supports only 'l2' or 'none' penalties, got l1 penalty.\n",
      "\n",
      "\n",
      "C:\\Users\\USER\\anaconda3\\envs\\eyepro\\lib\\site-packages\\sklearn\\model_selection\\_search.py:976: UserWarning:\n",
      "\n",
      "One or more of the test scores are non-finite: [       nan 0.24679811        nan ... 0.26647817        nan 0.26652502]\n",
      "\n"
     ]
    },
    {
     "name": "stdout",
     "output_type": "stream",
     "text": [
      "{'C': 100, 'max_iter': 97, 'penalty': 'l2'}\n",
      "훈련 정확도 : 0.2660252405347994\n",
      "테스트 정확도 : 0.25713750234272503\n"
     ]
    },
    {
     "name": "stderr",
     "output_type": "stream",
     "text": [
      "C:\\Users\\USER\\anaconda3\\envs\\eyepro\\lib\\site-packages\\sklearn\\linear_model\\_logistic.py:460: ConvergenceWarning:\n",
      "\n",
      "lbfgs failed to converge (status=1):\n",
      "STOP: TOTAL NO. of ITERATIONS REACHED LIMIT.\n",
      "\n",
      "Increase the number of iterations (max_iter) or scale the data as shown in:\n",
      "    https://scikit-learn.org/stable/modules/preprocessing.html\n",
      "Please also refer to the documentation for alternative solver options:\n",
      "    https://scikit-learn.org/stable/modules/linear_model.html#logistic-regression\n",
      "\n"
     ]
    }
   ],
   "source": [
    "### 엑스트라 교차검증\n",
    "\n",
    "params = {\"C\" : [ 0.001, 0.01, 0.1, 1, 10, 100],\n",
    "          \"max_iter\" : range(2,100,1),\n",
    "          \"penalty\" : ['l1','l2']}\n",
    "\n",
    "### 훈련모델 생성\n",
    "lr = LogisticRegression()\n",
    "\n",
    "### 훈련시키기\n",
    "lr.fit(train_std_scaler, train_y)\n",
    "\n",
    "### AutoML 클래스 생성하기\n",
    "gs = GridSearchCV(lr, params, n_jobs=-1)\n",
    "\n",
    "### AutoML 실행하기 : 하이퍼파라메터 튜닝 + 훈련(교차검증 수행)\n",
    "gs.fit(train_std_scaler, train_y)\n",
    "\n",
    "et = gs.best_estimator_\n",
    "\n",
    "### 과적합 확인하기\n",
    "print(gs.best_params_)\n",
    "print(\"훈련 정확도 :\", et.score(train_std_scaler, train_y))\n",
    "print(\"테스트 정확도 :\", et.score(test_std_scaler, test_y))"
   ]
  },
  {
   "cell_type": "code",
   "execution_count": 129,
   "id": "c245df93",
   "metadata": {},
   "outputs": [
    {
     "name": "stdout",
     "output_type": "stream",
     "text": [
      "훈련 정확도 : 0.2375671623141322\n",
      "테스트 정확도 : 0.23377272443306055\n"
     ]
    }
   ],
   "source": [
    "from sklearn.linear_model import SGDClassifier\n",
    "\n",
    "sc = SGDClassifier(loss = \"log_loss\",max_iter=1000,random_state=42)\n",
    "\n",
    "sc.fit(train_std_scaler, train_y)\n",
    "\n",
    "tr_score = sc.score(train_std_scaler, train_y)\n",
    "ts_score = sc.score(test_std_scaler, test_y)\n",
    "df_model.append(sc)\n",
    "df_tr.append(tr_score)\n",
    "df_te.append(ts_score)\n",
    "print('훈련 정확도 :', tr_score)\n",
    "print('테스트 정확도 :', ts_score)"
   ]
  },
  {
   "cell_type": "code",
   "execution_count": 106,
   "id": "2b874e33",
   "metadata": {},
   "outputs": [],
   "source": [
    "del df_model[6]"
   ]
  },
  {
   "cell_type": "code",
   "execution_count": 107,
   "id": "89e9b249",
   "metadata": {},
   "outputs": [],
   "source": [
    "del df_tr[6]"
   ]
  },
  {
   "cell_type": "code",
   "execution_count": 108,
   "id": "daa3a6dc",
   "metadata": {},
   "outputs": [],
   "source": [
    "del df_te[6]"
   ]
  },
  {
   "cell_type": "code",
   "execution_count": 213,
   "id": "0d3f92c4",
   "metadata": {
    "collapsed": true
   },
   "outputs": [
    {
     "name": "stderr",
     "output_type": "stream",
     "text": [
      "C:\\Users\\USER\\anaconda3\\envs\\eyepro\\lib\\site-packages\\sklearn\\linear_model\\_logistic.py:460: ConvergenceWarning: lbfgs failed to converge (status=1):\n",
      "STOP: TOTAL NO. of ITERATIONS REACHED LIMIT.\n",
      "\n",
      "Increase the number of iterations (max_iter) or scale the data as shown in:\n",
      "    https://scikit-learn.org/stable/modules/preprocessing.html\n",
      "Please also refer to the documentation for alternative solver options:\n",
      "    https://scikit-learn.org/stable/modules/linear_model.html#logistic-regression\n",
      "  n_iter_i = _check_optimize_result(\n",
      "C:\\Users\\USER\\anaconda3\\envs\\eyepro\\lib\\site-packages\\sklearn\\linear_model\\_logistic.py:460: ConvergenceWarning: lbfgs failed to converge (status=1):\n",
      "STOP: TOTAL NO. of ITERATIONS REACHED LIMIT.\n",
      "\n",
      "Increase the number of iterations (max_iter) or scale the data as shown in:\n",
      "    https://scikit-learn.org/stable/modules/preprocessing.html\n",
      "Please also refer to the documentation for alternative solver options:\n",
      "    https://scikit-learn.org/stable/modules/linear_model.html#logistic-regression\n",
      "  n_iter_i = _check_optimize_result(\n",
      "C:\\Users\\USER\\anaconda3\\envs\\eyepro\\lib\\site-packages\\sklearn\\linear_model\\_logistic.py:460: ConvergenceWarning: lbfgs failed to converge (status=1):\n",
      "STOP: TOTAL NO. of ITERATIONS REACHED LIMIT.\n",
      "\n",
      "Increase the number of iterations (max_iter) or scale the data as shown in:\n",
      "    https://scikit-learn.org/stable/modules/preprocessing.html\n",
      "Please also refer to the documentation for alternative solver options:\n",
      "    https://scikit-learn.org/stable/modules/linear_model.html#logistic-regression\n",
      "  n_iter_i = _check_optimize_result(\n",
      "C:\\Users\\USER\\anaconda3\\envs\\eyepro\\lib\\site-packages\\sklearn\\linear_model\\_logistic.py:460: ConvergenceWarning: lbfgs failed to converge (status=1):\n",
      "STOP: TOTAL NO. of ITERATIONS REACHED LIMIT.\n",
      "\n",
      "Increase the number of iterations (max_iter) or scale the data as shown in:\n",
      "    https://scikit-learn.org/stable/modules/preprocessing.html\n",
      "Please also refer to the documentation for alternative solver options:\n",
      "    https://scikit-learn.org/stable/modules/linear_model.html#logistic-regression\n",
      "  n_iter_i = _check_optimize_result(\n",
      "C:\\Users\\USER\\anaconda3\\envs\\eyepro\\lib\\site-packages\\sklearn\\linear_model\\_logistic.py:460: ConvergenceWarning: lbfgs failed to converge (status=1):\n",
      "STOP: TOTAL NO. of ITERATIONS REACHED LIMIT.\n",
      "\n",
      "Increase the number of iterations (max_iter) or scale the data as shown in:\n",
      "    https://scikit-learn.org/stable/modules/preprocessing.html\n",
      "Please also refer to the documentation for alternative solver options:\n",
      "    https://scikit-learn.org/stable/modules/linear_model.html#logistic-regression\n",
      "  n_iter_i = _check_optimize_result(\n",
      "C:\\Users\\USER\\anaconda3\\envs\\eyepro\\lib\\site-packages\\sklearn\\linear_model\\_logistic.py:460: ConvergenceWarning: lbfgs failed to converge (status=1):\n",
      "STOP: TOTAL NO. of ITERATIONS REACHED LIMIT.\n",
      "\n",
      "Increase the number of iterations (max_iter) or scale the data as shown in:\n",
      "    https://scikit-learn.org/stable/modules/preprocessing.html\n",
      "Please also refer to the documentation for alternative solver options:\n",
      "    https://scikit-learn.org/stable/modules/linear_model.html#logistic-regression\n",
      "  n_iter_i = _check_optimize_result(\n",
      "C:\\Users\\USER\\anaconda3\\envs\\eyepro\\lib\\site-packages\\sklearn\\linear_model\\_logistic.py:460: ConvergenceWarning: lbfgs failed to converge (status=1):\n",
      "STOP: TOTAL NO. of ITERATIONS REACHED LIMIT.\n",
      "\n",
      "Increase the number of iterations (max_iter) or scale the data as shown in:\n",
      "    https://scikit-learn.org/stable/modules/preprocessing.html\n",
      "Please also refer to the documentation for alternative solver options:\n",
      "    https://scikit-learn.org/stable/modules/linear_model.html#logistic-regression\n",
      "  n_iter_i = _check_optimize_result(\n",
      "C:\\Users\\USER\\anaconda3\\envs\\eyepro\\lib\\site-packages\\sklearn\\linear_model\\_logistic.py:460: ConvergenceWarning: lbfgs failed to converge (status=1):\n",
      "STOP: TOTAL NO. of ITERATIONS REACHED LIMIT.\n",
      "\n",
      "Increase the number of iterations (max_iter) or scale the data as shown in:\n",
      "    https://scikit-learn.org/stable/modules/preprocessing.html\n",
      "Please also refer to the documentation for alternative solver options:\n",
      "    https://scikit-learn.org/stable/modules/linear_model.html#logistic-regression\n",
      "  n_iter_i = _check_optimize_result(\n",
      "C:\\Users\\USER\\anaconda3\\envs\\eyepro\\lib\\site-packages\\sklearn\\linear_model\\_logistic.py:460: ConvergenceWarning: lbfgs failed to converge (status=1):\n",
      "STOP: TOTAL NO. of ITERATIONS REACHED LIMIT.\n",
      "\n",
      "Increase the number of iterations (max_iter) or scale the data as shown in:\n",
      "    https://scikit-learn.org/stable/modules/preprocessing.html\n",
      "Please also refer to the documentation for alternative solver options:\n",
      "    https://scikit-learn.org/stable/modules/linear_model.html#logistic-regression\n",
      "  n_iter_i = _check_optimize_result(\n",
      "C:\\Users\\USER\\anaconda3\\envs\\eyepro\\lib\\site-packages\\sklearn\\linear_model\\_logistic.py:460: ConvergenceWarning: lbfgs failed to converge (status=1):\n",
      "STOP: TOTAL NO. of ITERATIONS REACHED LIMIT.\n",
      "\n",
      "Increase the number of iterations (max_iter) or scale the data as shown in:\n",
      "    https://scikit-learn.org/stable/modules/preprocessing.html\n",
      "Please also refer to the documentation for alternative solver options:\n",
      "    https://scikit-learn.org/stable/modules/linear_model.html#logistic-regression\n",
      "  n_iter_i = _check_optimize_result(\n"
     ]
    }
   ],
   "source": [
    "spliter = StratifiedKFold(n_splits=10, shuffle=True, random_state=42)\n",
    "dt = DecisionTreeClassifier(random_state=42)\n",
    "rf = RandomForestClassifier(random_state=42)\n",
    "et = ExtraTreesClassifier(random_state=42)\n",
    "gb = GradientBoostingClassifier(random_state=42)\n",
    "hgb = HistGradientBoostingClassifier(random_state=42)\n",
    "kn = KNeighborsClassifier()\n",
    "lr = LogisticRegression()\n",
    "sc = SGDClassifier(loss = \"log_loss\",random_state=42)\n",
    "scores_list=[]\n",
    "for models in [dt,rf,et,gb,hgb,kn,lr,sc]:\n",
    "    scores = cross_validate(models, train_std_scaler, train_y, cv= spliter)\n",
    "    scores_list.append(scores['test_score'])"
   ]
  },
  {
   "cell_type": "code",
   "execution_count": 65,
   "id": "4bcf5ad0",
   "metadata": {},
   "outputs": [],
   "source": [
    "df_scores = pd.read_csv('./data/model_score.csv')\n",
    "df_scores['모델'] = ['DT','RF','ET','GB','HGB','KNN','LR','SGD']\n",
    "df_scores = df_scores.drop(index=[3,6,7]).reset_index(drop=True)\n",
    "df_scores_sort = df_scores.sort_values(by=['훈련정확도','테스트정확도'],ascending=False)\n",
    "df_scores_sort.to_csv(\"./data/5model_acc_sort.csv\",index=False)"
   ]
  },
  {
   "cell_type": "code",
   "execution_count": 58,
   "id": "10f8c0b3",
   "metadata": {},
   "outputs": [
    {
     "data": {
      "application/vnd.plotly.v1+json": {
       "config": {
        "plotlyServerURL": "https://plot.ly"
       },
       "data": [
        {
         "marker": {
          "color": [
           "#B195DD",
           "#DC9790",
           "#A3ADF8",
           "#72DCC6",
           "#F2C6A8"
          ]
         },
         "name": "훈련정확도",
         "type": "bar",
         "x": [
          "ET",
          "RF",
          "DT",
          "KNN",
          "HGB"
         ],
         "y": [
          0.9999843808571786,
          0.9999843808571786,
          0.9999843808571786,
          0.943134,
          0.741518805447957
         ]
        },
        {
         "mode": "lines+markers",
         "name": "테스트정확도",
         "type": "scatter",
         "x": [
          "ET",
          "RF",
          "DT",
          "KNN",
          "HGB"
         ],
         "y": [
          0.9284687949022302,
          0.9159117885924908,
          0.836321609295933,
          0.886666,
          0.6919472730680327
         ]
        }
       ],
       "layout": {
        "template": {
         "data": {
          "bar": [
           {
            "error_x": {
             "color": "#2a3f5f"
            },
            "error_y": {
             "color": "#2a3f5f"
            },
            "marker": {
             "line": {
              "color": "#E5ECF6",
              "width": 0.5
             },
             "pattern": {
              "fillmode": "overlay",
              "size": 10,
              "solidity": 0.2
             }
            },
            "type": "bar"
           }
          ],
          "barpolar": [
           {
            "marker": {
             "line": {
              "color": "#E5ECF6",
              "width": 0.5
             },
             "pattern": {
              "fillmode": "overlay",
              "size": 10,
              "solidity": 0.2
             }
            },
            "type": "barpolar"
           }
          ],
          "carpet": [
           {
            "aaxis": {
             "endlinecolor": "#2a3f5f",
             "gridcolor": "white",
             "linecolor": "white",
             "minorgridcolor": "white",
             "startlinecolor": "#2a3f5f"
            },
            "baxis": {
             "endlinecolor": "#2a3f5f",
             "gridcolor": "white",
             "linecolor": "white",
             "minorgridcolor": "white",
             "startlinecolor": "#2a3f5f"
            },
            "type": "carpet"
           }
          ],
          "choropleth": [
           {
            "colorbar": {
             "outlinewidth": 0,
             "ticks": ""
            },
            "type": "choropleth"
           }
          ],
          "contour": [
           {
            "colorbar": {
             "outlinewidth": 0,
             "ticks": ""
            },
            "colorscale": [
             [
              0,
              "#0d0887"
             ],
             [
              0.1111111111111111,
              "#46039f"
             ],
             [
              0.2222222222222222,
              "#7201a8"
             ],
             [
              0.3333333333333333,
              "#9c179e"
             ],
             [
              0.4444444444444444,
              "#bd3786"
             ],
             [
              0.5555555555555556,
              "#d8576b"
             ],
             [
              0.6666666666666666,
              "#ed7953"
             ],
             [
              0.7777777777777778,
              "#fb9f3a"
             ],
             [
              0.8888888888888888,
              "#fdca26"
             ],
             [
              1,
              "#f0f921"
             ]
            ],
            "type": "contour"
           }
          ],
          "contourcarpet": [
           {
            "colorbar": {
             "outlinewidth": 0,
             "ticks": ""
            },
            "type": "contourcarpet"
           }
          ],
          "heatmap": [
           {
            "colorbar": {
             "outlinewidth": 0,
             "ticks": ""
            },
            "colorscale": [
             [
              0,
              "#0d0887"
             ],
             [
              0.1111111111111111,
              "#46039f"
             ],
             [
              0.2222222222222222,
              "#7201a8"
             ],
             [
              0.3333333333333333,
              "#9c179e"
             ],
             [
              0.4444444444444444,
              "#bd3786"
             ],
             [
              0.5555555555555556,
              "#d8576b"
             ],
             [
              0.6666666666666666,
              "#ed7953"
             ],
             [
              0.7777777777777778,
              "#fb9f3a"
             ],
             [
              0.8888888888888888,
              "#fdca26"
             ],
             [
              1,
              "#f0f921"
             ]
            ],
            "type": "heatmap"
           }
          ],
          "heatmapgl": [
           {
            "colorbar": {
             "outlinewidth": 0,
             "ticks": ""
            },
            "colorscale": [
             [
              0,
              "#0d0887"
             ],
             [
              0.1111111111111111,
              "#46039f"
             ],
             [
              0.2222222222222222,
              "#7201a8"
             ],
             [
              0.3333333333333333,
              "#9c179e"
             ],
             [
              0.4444444444444444,
              "#bd3786"
             ],
             [
              0.5555555555555556,
              "#d8576b"
             ],
             [
              0.6666666666666666,
              "#ed7953"
             ],
             [
              0.7777777777777778,
              "#fb9f3a"
             ],
             [
              0.8888888888888888,
              "#fdca26"
             ],
             [
              1,
              "#f0f921"
             ]
            ],
            "type": "heatmapgl"
           }
          ],
          "histogram": [
           {
            "marker": {
             "pattern": {
              "fillmode": "overlay",
              "size": 10,
              "solidity": 0.2
             }
            },
            "type": "histogram"
           }
          ],
          "histogram2d": [
           {
            "colorbar": {
             "outlinewidth": 0,
             "ticks": ""
            },
            "colorscale": [
             [
              0,
              "#0d0887"
             ],
             [
              0.1111111111111111,
              "#46039f"
             ],
             [
              0.2222222222222222,
              "#7201a8"
             ],
             [
              0.3333333333333333,
              "#9c179e"
             ],
             [
              0.4444444444444444,
              "#bd3786"
             ],
             [
              0.5555555555555556,
              "#d8576b"
             ],
             [
              0.6666666666666666,
              "#ed7953"
             ],
             [
              0.7777777777777778,
              "#fb9f3a"
             ],
             [
              0.8888888888888888,
              "#fdca26"
             ],
             [
              1,
              "#f0f921"
             ]
            ],
            "type": "histogram2d"
           }
          ],
          "histogram2dcontour": [
           {
            "colorbar": {
             "outlinewidth": 0,
             "ticks": ""
            },
            "colorscale": [
             [
              0,
              "#0d0887"
             ],
             [
              0.1111111111111111,
              "#46039f"
             ],
             [
              0.2222222222222222,
              "#7201a8"
             ],
             [
              0.3333333333333333,
              "#9c179e"
             ],
             [
              0.4444444444444444,
              "#bd3786"
             ],
             [
              0.5555555555555556,
              "#d8576b"
             ],
             [
              0.6666666666666666,
              "#ed7953"
             ],
             [
              0.7777777777777778,
              "#fb9f3a"
             ],
             [
              0.8888888888888888,
              "#fdca26"
             ],
             [
              1,
              "#f0f921"
             ]
            ],
            "type": "histogram2dcontour"
           }
          ],
          "mesh3d": [
           {
            "colorbar": {
             "outlinewidth": 0,
             "ticks": ""
            },
            "type": "mesh3d"
           }
          ],
          "parcoords": [
           {
            "line": {
             "colorbar": {
              "outlinewidth": 0,
              "ticks": ""
             }
            },
            "type": "parcoords"
           }
          ],
          "pie": [
           {
            "automargin": true,
            "type": "pie"
           }
          ],
          "scatter": [
           {
            "fillpattern": {
             "fillmode": "overlay",
             "size": 10,
             "solidity": 0.2
            },
            "type": "scatter"
           }
          ],
          "scatter3d": [
           {
            "line": {
             "colorbar": {
              "outlinewidth": 0,
              "ticks": ""
             }
            },
            "marker": {
             "colorbar": {
              "outlinewidth": 0,
              "ticks": ""
             }
            },
            "type": "scatter3d"
           }
          ],
          "scattercarpet": [
           {
            "marker": {
             "colorbar": {
              "outlinewidth": 0,
              "ticks": ""
             }
            },
            "type": "scattercarpet"
           }
          ],
          "scattergeo": [
           {
            "marker": {
             "colorbar": {
              "outlinewidth": 0,
              "ticks": ""
             }
            },
            "type": "scattergeo"
           }
          ],
          "scattergl": [
           {
            "marker": {
             "colorbar": {
              "outlinewidth": 0,
              "ticks": ""
             }
            },
            "type": "scattergl"
           }
          ],
          "scattermapbox": [
           {
            "marker": {
             "colorbar": {
              "outlinewidth": 0,
              "ticks": ""
             }
            },
            "type": "scattermapbox"
           }
          ],
          "scatterpolar": [
           {
            "marker": {
             "colorbar": {
              "outlinewidth": 0,
              "ticks": ""
             }
            },
            "type": "scatterpolar"
           }
          ],
          "scatterpolargl": [
           {
            "marker": {
             "colorbar": {
              "outlinewidth": 0,
              "ticks": ""
             }
            },
            "type": "scatterpolargl"
           }
          ],
          "scatterternary": [
           {
            "marker": {
             "colorbar": {
              "outlinewidth": 0,
              "ticks": ""
             }
            },
            "type": "scatterternary"
           }
          ],
          "surface": [
           {
            "colorbar": {
             "outlinewidth": 0,
             "ticks": ""
            },
            "colorscale": [
             [
              0,
              "#0d0887"
             ],
             [
              0.1111111111111111,
              "#46039f"
             ],
             [
              0.2222222222222222,
              "#7201a8"
             ],
             [
              0.3333333333333333,
              "#9c179e"
             ],
             [
              0.4444444444444444,
              "#bd3786"
             ],
             [
              0.5555555555555556,
              "#d8576b"
             ],
             [
              0.6666666666666666,
              "#ed7953"
             ],
             [
              0.7777777777777778,
              "#fb9f3a"
             ],
             [
              0.8888888888888888,
              "#fdca26"
             ],
             [
              1,
              "#f0f921"
             ]
            ],
            "type": "surface"
           }
          ],
          "table": [
           {
            "cells": {
             "fill": {
              "color": "#EBF0F8"
             },
             "line": {
              "color": "white"
             }
            },
            "header": {
             "fill": {
              "color": "#C8D4E3"
             },
             "line": {
              "color": "white"
             }
            },
            "type": "table"
           }
          ]
         },
         "layout": {
          "annotationdefaults": {
           "arrowcolor": "#2a3f5f",
           "arrowhead": 0,
           "arrowwidth": 1
          },
          "autotypenumbers": "strict",
          "coloraxis": {
           "colorbar": {
            "outlinewidth": 0,
            "ticks": ""
           }
          },
          "colorscale": {
           "diverging": [
            [
             0,
             "#8e0152"
            ],
            [
             0.1,
             "#c51b7d"
            ],
            [
             0.2,
             "#de77ae"
            ],
            [
             0.3,
             "#f1b6da"
            ],
            [
             0.4,
             "#fde0ef"
            ],
            [
             0.5,
             "#f7f7f7"
            ],
            [
             0.6,
             "#e6f5d0"
            ],
            [
             0.7,
             "#b8e186"
            ],
            [
             0.8,
             "#7fbc41"
            ],
            [
             0.9,
             "#4d9221"
            ],
            [
             1,
             "#276419"
            ]
           ],
           "sequential": [
            [
             0,
             "#0d0887"
            ],
            [
             0.1111111111111111,
             "#46039f"
            ],
            [
             0.2222222222222222,
             "#7201a8"
            ],
            [
             0.3333333333333333,
             "#9c179e"
            ],
            [
             0.4444444444444444,
             "#bd3786"
            ],
            [
             0.5555555555555556,
             "#d8576b"
            ],
            [
             0.6666666666666666,
             "#ed7953"
            ],
            [
             0.7777777777777778,
             "#fb9f3a"
            ],
            [
             0.8888888888888888,
             "#fdca26"
            ],
            [
             1,
             "#f0f921"
            ]
           ],
           "sequentialminus": [
            [
             0,
             "#0d0887"
            ],
            [
             0.1111111111111111,
             "#46039f"
            ],
            [
             0.2222222222222222,
             "#7201a8"
            ],
            [
             0.3333333333333333,
             "#9c179e"
            ],
            [
             0.4444444444444444,
             "#bd3786"
            ],
            [
             0.5555555555555556,
             "#d8576b"
            ],
            [
             0.6666666666666666,
             "#ed7953"
            ],
            [
             0.7777777777777778,
             "#fb9f3a"
            ],
            [
             0.8888888888888888,
             "#fdca26"
            ],
            [
             1,
             "#f0f921"
            ]
           ]
          },
          "colorway": [
           "#636efa",
           "#EF553B",
           "#00cc96",
           "#ab63fa",
           "#FFA15A",
           "#19d3f3",
           "#FF6692",
           "#B6E880",
           "#FF97FF",
           "#FECB52"
          ],
          "font": {
           "color": "#2a3f5f"
          },
          "geo": {
           "bgcolor": "white",
           "lakecolor": "white",
           "landcolor": "#E5ECF6",
           "showlakes": true,
           "showland": true,
           "subunitcolor": "white"
          },
          "hoverlabel": {
           "align": "left"
          },
          "hovermode": "closest",
          "mapbox": {
           "style": "light"
          },
          "paper_bgcolor": "white",
          "plot_bgcolor": "#E5ECF6",
          "polar": {
           "angularaxis": {
            "gridcolor": "white",
            "linecolor": "white",
            "ticks": ""
           },
           "bgcolor": "#E5ECF6",
           "radialaxis": {
            "gridcolor": "white",
            "linecolor": "white",
            "ticks": ""
           }
          },
          "scene": {
           "xaxis": {
            "backgroundcolor": "#E5ECF6",
            "gridcolor": "white",
            "gridwidth": 2,
            "linecolor": "white",
            "showbackground": true,
            "ticks": "",
            "zerolinecolor": "white"
           },
           "yaxis": {
            "backgroundcolor": "#E5ECF6",
            "gridcolor": "white",
            "gridwidth": 2,
            "linecolor": "white",
            "showbackground": true,
            "ticks": "",
            "zerolinecolor": "white"
           },
           "zaxis": {
            "backgroundcolor": "#E5ECF6",
            "gridcolor": "white",
            "gridwidth": 2,
            "linecolor": "white",
            "showbackground": true,
            "ticks": "",
            "zerolinecolor": "white"
           }
          },
          "shapedefaults": {
           "line": {
            "color": "#2a3f5f"
           }
          },
          "ternary": {
           "aaxis": {
            "gridcolor": "white",
            "linecolor": "white",
            "ticks": ""
           },
           "baxis": {
            "gridcolor": "white",
            "linecolor": "white",
            "ticks": ""
           },
           "bgcolor": "#E5ECF6",
           "caxis": {
            "gridcolor": "white",
            "linecolor": "white",
            "ticks": ""
           }
          },
          "title": {
           "x": 0.05
          },
          "xaxis": {
           "automargin": true,
           "gridcolor": "white",
           "linecolor": "white",
           "ticks": "",
           "title": {
            "standoff": 15
           },
           "zerolinecolor": "white",
           "zerolinewidth": 2
          },
          "yaxis": {
           "automargin": true,
           "gridcolor": "white",
           "linecolor": "white",
           "ticks": "",
           "title": {
            "standoff": 15
           },
           "zerolinecolor": "white",
           "zerolinewidth": 2
          }
         }
        },
        "title": {
         "text": "Model Accuracy Comparison"
        },
        "xaxis": {
         "title": {
          "text": "models"
         }
        },
        "yaxis": {
         "title": {
          "text": "Accuracy"
         }
        }
       }
      },
      "text/html": [
       "<div>                            <div id=\"8c422bbc-da7a-4430-9c5a-8020fce99002\" class=\"plotly-graph-div\" style=\"height:525px; width:100%;\"></div>            <script type=\"text/javascript\">                require([\"plotly\"], function(Plotly) {                    window.PLOTLYENV=window.PLOTLYENV || {};                                    if (document.getElementById(\"8c422bbc-da7a-4430-9c5a-8020fce99002\")) {                    Plotly.newPlot(                        \"8c422bbc-da7a-4430-9c5a-8020fce99002\",                        [{\"marker\":{\"color\":[\"#B195DD\",\"#DC9790\",\"#A3ADF8\",\"#72DCC6\",\"#F2C6A8\"]},\"name\":\"\\ud6c8\\ub828\\uc815\\ud655\\ub3c4\",\"x\":[\"ET\",\"RF\",\"DT\",\"KNN\",\"HGB\"],\"y\":[0.9999843808571786,0.9999843808571786,0.9999843808571786,0.943134,0.741518805447957],\"type\":\"bar\"},{\"mode\":\"lines+markers\",\"name\":\"\\ud14c\\uc2a4\\ud2b8\\uc815\\ud655\\ub3c4\",\"x\":[\"ET\",\"RF\",\"DT\",\"KNN\",\"HGB\"],\"y\":[0.9284687949022302,0.9159117885924908,0.836321609295933,0.886666,0.6919472730680327],\"type\":\"scatter\"}],                        {\"template\":{\"data\":{\"histogram2dcontour\":[{\"type\":\"histogram2dcontour\",\"colorbar\":{\"outlinewidth\":0,\"ticks\":\"\"},\"colorscale\":[[0.0,\"#0d0887\"],[0.1111111111111111,\"#46039f\"],[0.2222222222222222,\"#7201a8\"],[0.3333333333333333,\"#9c179e\"],[0.4444444444444444,\"#bd3786\"],[0.5555555555555556,\"#d8576b\"],[0.6666666666666666,\"#ed7953\"],[0.7777777777777778,\"#fb9f3a\"],[0.8888888888888888,\"#fdca26\"],[1.0,\"#f0f921\"]]}],\"choropleth\":[{\"type\":\"choropleth\",\"colorbar\":{\"outlinewidth\":0,\"ticks\":\"\"}}],\"histogram2d\":[{\"type\":\"histogram2d\",\"colorbar\":{\"outlinewidth\":0,\"ticks\":\"\"},\"colorscale\":[[0.0,\"#0d0887\"],[0.1111111111111111,\"#46039f\"],[0.2222222222222222,\"#7201a8\"],[0.3333333333333333,\"#9c179e\"],[0.4444444444444444,\"#bd3786\"],[0.5555555555555556,\"#d8576b\"],[0.6666666666666666,\"#ed7953\"],[0.7777777777777778,\"#fb9f3a\"],[0.8888888888888888,\"#fdca26\"],[1.0,\"#f0f921\"]]}],\"heatmap\":[{\"type\":\"heatmap\",\"colorbar\":{\"outlinewidth\":0,\"ticks\":\"\"},\"colorscale\":[[0.0,\"#0d0887\"],[0.1111111111111111,\"#46039f\"],[0.2222222222222222,\"#7201a8\"],[0.3333333333333333,\"#9c179e\"],[0.4444444444444444,\"#bd3786\"],[0.5555555555555556,\"#d8576b\"],[0.6666666666666666,\"#ed7953\"],[0.7777777777777778,\"#fb9f3a\"],[0.8888888888888888,\"#fdca26\"],[1.0,\"#f0f921\"]]}],\"heatmapgl\":[{\"type\":\"heatmapgl\",\"colorbar\":{\"outlinewidth\":0,\"ticks\":\"\"},\"colorscale\":[[0.0,\"#0d0887\"],[0.1111111111111111,\"#46039f\"],[0.2222222222222222,\"#7201a8\"],[0.3333333333333333,\"#9c179e\"],[0.4444444444444444,\"#bd3786\"],[0.5555555555555556,\"#d8576b\"],[0.6666666666666666,\"#ed7953\"],[0.7777777777777778,\"#fb9f3a\"],[0.8888888888888888,\"#fdca26\"],[1.0,\"#f0f921\"]]}],\"contourcarpet\":[{\"type\":\"contourcarpet\",\"colorbar\":{\"outlinewidth\":0,\"ticks\":\"\"}}],\"contour\":[{\"type\":\"contour\",\"colorbar\":{\"outlinewidth\":0,\"ticks\":\"\"},\"colorscale\":[[0.0,\"#0d0887\"],[0.1111111111111111,\"#46039f\"],[0.2222222222222222,\"#7201a8\"],[0.3333333333333333,\"#9c179e\"],[0.4444444444444444,\"#bd3786\"],[0.5555555555555556,\"#d8576b\"],[0.6666666666666666,\"#ed7953\"],[0.7777777777777778,\"#fb9f3a\"],[0.8888888888888888,\"#fdca26\"],[1.0,\"#f0f921\"]]}],\"surface\":[{\"type\":\"surface\",\"colorbar\":{\"outlinewidth\":0,\"ticks\":\"\"},\"colorscale\":[[0.0,\"#0d0887\"],[0.1111111111111111,\"#46039f\"],[0.2222222222222222,\"#7201a8\"],[0.3333333333333333,\"#9c179e\"],[0.4444444444444444,\"#bd3786\"],[0.5555555555555556,\"#d8576b\"],[0.6666666666666666,\"#ed7953\"],[0.7777777777777778,\"#fb9f3a\"],[0.8888888888888888,\"#fdca26\"],[1.0,\"#f0f921\"]]}],\"mesh3d\":[{\"type\":\"mesh3d\",\"colorbar\":{\"outlinewidth\":0,\"ticks\":\"\"}}],\"scatter\":[{\"fillpattern\":{\"fillmode\":\"overlay\",\"size\":10,\"solidity\":0.2},\"type\":\"scatter\"}],\"parcoords\":[{\"type\":\"parcoords\",\"line\":{\"colorbar\":{\"outlinewidth\":0,\"ticks\":\"\"}}}],\"scatterpolargl\":[{\"type\":\"scatterpolargl\",\"marker\":{\"colorbar\":{\"outlinewidth\":0,\"ticks\":\"\"}}}],\"bar\":[{\"error_x\":{\"color\":\"#2a3f5f\"},\"error_y\":{\"color\":\"#2a3f5f\"},\"marker\":{\"line\":{\"color\":\"#E5ECF6\",\"width\":0.5},\"pattern\":{\"fillmode\":\"overlay\",\"size\":10,\"solidity\":0.2}},\"type\":\"bar\"}],\"scattergeo\":[{\"type\":\"scattergeo\",\"marker\":{\"colorbar\":{\"outlinewidth\":0,\"ticks\":\"\"}}}],\"scatterpolar\":[{\"type\":\"scatterpolar\",\"marker\":{\"colorbar\":{\"outlinewidth\":0,\"ticks\":\"\"}}}],\"histogram\":[{\"marker\":{\"pattern\":{\"fillmode\":\"overlay\",\"size\":10,\"solidity\":0.2}},\"type\":\"histogram\"}],\"scattergl\":[{\"type\":\"scattergl\",\"marker\":{\"colorbar\":{\"outlinewidth\":0,\"ticks\":\"\"}}}],\"scatter3d\":[{\"type\":\"scatter3d\",\"line\":{\"colorbar\":{\"outlinewidth\":0,\"ticks\":\"\"}},\"marker\":{\"colorbar\":{\"outlinewidth\":0,\"ticks\":\"\"}}}],\"scattermapbox\":[{\"type\":\"scattermapbox\",\"marker\":{\"colorbar\":{\"outlinewidth\":0,\"ticks\":\"\"}}}],\"scatterternary\":[{\"type\":\"scatterternary\",\"marker\":{\"colorbar\":{\"outlinewidth\":0,\"ticks\":\"\"}}}],\"scattercarpet\":[{\"type\":\"scattercarpet\",\"marker\":{\"colorbar\":{\"outlinewidth\":0,\"ticks\":\"\"}}}],\"carpet\":[{\"aaxis\":{\"endlinecolor\":\"#2a3f5f\",\"gridcolor\":\"white\",\"linecolor\":\"white\",\"minorgridcolor\":\"white\",\"startlinecolor\":\"#2a3f5f\"},\"baxis\":{\"endlinecolor\":\"#2a3f5f\",\"gridcolor\":\"white\",\"linecolor\":\"white\",\"minorgridcolor\":\"white\",\"startlinecolor\":\"#2a3f5f\"},\"type\":\"carpet\"}],\"table\":[{\"cells\":{\"fill\":{\"color\":\"#EBF0F8\"},\"line\":{\"color\":\"white\"}},\"header\":{\"fill\":{\"color\":\"#C8D4E3\"},\"line\":{\"color\":\"white\"}},\"type\":\"table\"}],\"barpolar\":[{\"marker\":{\"line\":{\"color\":\"#E5ECF6\",\"width\":0.5},\"pattern\":{\"fillmode\":\"overlay\",\"size\":10,\"solidity\":0.2}},\"type\":\"barpolar\"}],\"pie\":[{\"automargin\":true,\"type\":\"pie\"}]},\"layout\":{\"autotypenumbers\":\"strict\",\"colorway\":[\"#636efa\",\"#EF553B\",\"#00cc96\",\"#ab63fa\",\"#FFA15A\",\"#19d3f3\",\"#FF6692\",\"#B6E880\",\"#FF97FF\",\"#FECB52\"],\"font\":{\"color\":\"#2a3f5f\"},\"hovermode\":\"closest\",\"hoverlabel\":{\"align\":\"left\"},\"paper_bgcolor\":\"white\",\"plot_bgcolor\":\"#E5ECF6\",\"polar\":{\"bgcolor\":\"#E5ECF6\",\"angularaxis\":{\"gridcolor\":\"white\",\"linecolor\":\"white\",\"ticks\":\"\"},\"radialaxis\":{\"gridcolor\":\"white\",\"linecolor\":\"white\",\"ticks\":\"\"}},\"ternary\":{\"bgcolor\":\"#E5ECF6\",\"aaxis\":{\"gridcolor\":\"white\",\"linecolor\":\"white\",\"ticks\":\"\"},\"baxis\":{\"gridcolor\":\"white\",\"linecolor\":\"white\",\"ticks\":\"\"},\"caxis\":{\"gridcolor\":\"white\",\"linecolor\":\"white\",\"ticks\":\"\"}},\"coloraxis\":{\"colorbar\":{\"outlinewidth\":0,\"ticks\":\"\"}},\"colorscale\":{\"sequential\":[[0.0,\"#0d0887\"],[0.1111111111111111,\"#46039f\"],[0.2222222222222222,\"#7201a8\"],[0.3333333333333333,\"#9c179e\"],[0.4444444444444444,\"#bd3786\"],[0.5555555555555556,\"#d8576b\"],[0.6666666666666666,\"#ed7953\"],[0.7777777777777778,\"#fb9f3a\"],[0.8888888888888888,\"#fdca26\"],[1.0,\"#f0f921\"]],\"sequentialminus\":[[0.0,\"#0d0887\"],[0.1111111111111111,\"#46039f\"],[0.2222222222222222,\"#7201a8\"],[0.3333333333333333,\"#9c179e\"],[0.4444444444444444,\"#bd3786\"],[0.5555555555555556,\"#d8576b\"],[0.6666666666666666,\"#ed7953\"],[0.7777777777777778,\"#fb9f3a\"],[0.8888888888888888,\"#fdca26\"],[1.0,\"#f0f921\"]],\"diverging\":[[0,\"#8e0152\"],[0.1,\"#c51b7d\"],[0.2,\"#de77ae\"],[0.3,\"#f1b6da\"],[0.4,\"#fde0ef\"],[0.5,\"#f7f7f7\"],[0.6,\"#e6f5d0\"],[0.7,\"#b8e186\"],[0.8,\"#7fbc41\"],[0.9,\"#4d9221\"],[1,\"#276419\"]]},\"xaxis\":{\"gridcolor\":\"white\",\"linecolor\":\"white\",\"ticks\":\"\",\"title\":{\"standoff\":15},\"zerolinecolor\":\"white\",\"automargin\":true,\"zerolinewidth\":2},\"yaxis\":{\"gridcolor\":\"white\",\"linecolor\":\"white\",\"ticks\":\"\",\"title\":{\"standoff\":15},\"zerolinecolor\":\"white\",\"automargin\":true,\"zerolinewidth\":2},\"scene\":{\"xaxis\":{\"backgroundcolor\":\"#E5ECF6\",\"gridcolor\":\"white\",\"linecolor\":\"white\",\"showbackground\":true,\"ticks\":\"\",\"zerolinecolor\":\"white\",\"gridwidth\":2},\"yaxis\":{\"backgroundcolor\":\"#E5ECF6\",\"gridcolor\":\"white\",\"linecolor\":\"white\",\"showbackground\":true,\"ticks\":\"\",\"zerolinecolor\":\"white\",\"gridwidth\":2},\"zaxis\":{\"backgroundcolor\":\"#E5ECF6\",\"gridcolor\":\"white\",\"linecolor\":\"white\",\"showbackground\":true,\"ticks\":\"\",\"zerolinecolor\":\"white\",\"gridwidth\":2}},\"shapedefaults\":{\"line\":{\"color\":\"#2a3f5f\"}},\"annotationdefaults\":{\"arrowcolor\":\"#2a3f5f\",\"arrowhead\":0,\"arrowwidth\":1},\"geo\":{\"bgcolor\":\"white\",\"landcolor\":\"#E5ECF6\",\"subunitcolor\":\"white\",\"showland\":true,\"showlakes\":true,\"lakecolor\":\"white\"},\"title\":{\"x\":0.05},\"mapbox\":{\"style\":\"light\"}}},\"title\":{\"text\":\"Model Accuracy Comparison\"},\"xaxis\":{\"title\":{\"text\":\"models\"}},\"yaxis\":{\"title\":{\"text\":\"Accuracy\"}}},                        {\"responsive\": true}                    ).then(function(){\n",
       "                            \n",
       "var gd = document.getElementById('8c422bbc-da7a-4430-9c5a-8020fce99002');\n",
       "var x = new MutationObserver(function (mutations, observer) {{\n",
       "        var display = window.getComputedStyle(gd).display;\n",
       "        if (!display || display === 'none') {{\n",
       "            console.log([gd, 'removed!']);\n",
       "            Plotly.purge(gd);\n",
       "            observer.disconnect();\n",
       "        }}\n",
       "}});\n",
       "\n",
       "// Listen for the removal of the full notebook cells\n",
       "var notebookContainer = gd.closest('#notebook-container');\n",
       "if (notebookContainer) {{\n",
       "    x.observe(notebookContainer, {childList: true});\n",
       "}}\n",
       "\n",
       "// Listen for the clearing of the current output cell\n",
       "var outputEl = gd.closest('.output');\n",
       "if (outputEl) {{\n",
       "    x.observe(outputEl, {childList: true});\n",
       "}}\n",
       "\n",
       "                        })                };                });            </script>        </div>"
      ]
     },
     "metadata": {},
     "output_type": "display_data"
    }
   ],
   "source": []
  },
  {
   "cell_type": "code",
   "execution_count": 33,
   "id": "eaab483d",
   "metadata": {},
   "outputs": [],
   "source": [
    "# scores_list = \n",
    "arr1 = np.array([0.82289552, 0.82195846, 0.82664376, 0.82664376, 0.82161824,\n",
    "        0.82286785, 0.82442987, 0.83302093, 0.83458294, 0.81818182])\n",
    "arr2 = np.array([0.91097923, 0.90957364, 0.91535218, 0.90801187, 0.91283974,\n",
    "        0.90424867, 0.90893471, 0.91112152, 0.91237113, 0.9084661 ])\n",
    "arr3 = np.array([0.92893956, 0.92441043, 0.92550367, 0.91972513, 0.92549203,\n",
    "        0.91986879, 0.92486723, 0.92439863, 0.92908466, 0.921587  ])\n",
    "arr4 = np.array([0.39856317, 0.38809933, 0.38107137, 0.38809933, 0.37378944,\n",
    "        0.37425804, 0.37988129, 0.37925648, 0.3947204 , 0.37644486])\n",
    "arr5 = np.array([0.69982821, 0.68061846, 0.67687022, 0.68311729, 0.67728835,\n",
    "        0.67307092, 0.67947516, 0.6841612 , 0.69040925, 0.66885348])\n",
    "arr6 = np.array([0.86834296, 0.8694362 , 0.86693737, 0.86490707, 0.86519838,\n",
    "        0.86629178, 0.8689472 , 0.86660419, 0.87347704, 0.86504217])\n",
    "arr7 = np.array([0.2523817 , 0.25175699, 0.25816024, 0.25222552, 0.25445173,\n",
    "        0.25242112, 0.25866917, 0.25788816, 0.25523274, 0.25476414])\n",
    "arr8 = np.array([0.2348899 , 0.2334843 , 0.22645635, 0.2503514 , 0.24008122,\n",
    "        0.22258669, 0.22118088, 0.24023743, 0.22914714, 0.23867541])\n",
    "scores_list = [arr1,arr2,arr3,arr4,arr5]"
   ]
  },
  {
   "cell_type": "code",
   "execution_count": 73,
   "id": "28419f70",
   "metadata": {},
   "outputs": [],
   "source": [
    "np.savetxt('./data/5model_10fold_acc.csv',scores_list)\n"
   ]
  },
  {
   "cell_type": "code",
   "execution_count": 254,
   "id": "dd344e40",
   "metadata": {},
   "outputs": [
    {
     "data": {
      "application/vnd.plotly.v1+json": {
       "config": {
        "plotlyServerURL": "https://plot.ly"
       },
       "data": [
        {
         "alignmentgroup": "True",
         "hovertemplate": "Models=%{x}<br>Rank=%{y}<extra></extra>",
         "legendgroup": "",
         "marker": {
          "color": "#636efa"
         },
         "name": "",
         "notched": false,
         "offsetgroup": "",
         "orientation": "v",
         "showlegend": false,
         "type": "box",
         "x": [
          "DT",
          "DT",
          "DT",
          "DT",
          "DT",
          "DT",
          "DT",
          "DT",
          "DT",
          "DT",
          "RF",
          "RF",
          "RF",
          "RF",
          "RF",
          "RF",
          "RF",
          "RF",
          "RF",
          "RF",
          "ET",
          "ET",
          "ET",
          "ET",
          "ET",
          "ET",
          "ET",
          "ET",
          "ET",
          "ET",
          "GB",
          "GB",
          "GB",
          "GB",
          "GB",
          "GB",
          "GB",
          "GB",
          "GB",
          "GB",
          "HGB",
          "HGB",
          "HGB",
          "HGB",
          "HGB",
          "HGB",
          "HGB",
          "HGB",
          "HGB",
          "HGB",
          "KNN",
          "KNN",
          "KNN",
          "KNN",
          "KNN",
          "KNN",
          "KNN",
          "KNN",
          "KNN",
          "KNN",
          "LR",
          "LR",
          "LR",
          "LR",
          "LR",
          "LR",
          "LR",
          "LR",
          "LR",
          "LR",
          "SGD",
          "SGD",
          "SGD",
          "SGD",
          "SGD",
          "SGD",
          "SGD",
          "SGD",
          "SGD",
          "SGD"
         ],
         "x0": " ",
         "xaxis": "x",
         "y": [
          3,
          3,
          3,
          3,
          3,
          3,
          3,
          3,
          3,
          3,
          2,
          2,
          2,
          2,
          2,
          2,
          2,
          2,
          2,
          2,
          6,
          6,
          6,
          6,
          6,
          6,
          6,
          6,
          6,
          6,
          1,
          1,
          1,
          1,
          1,
          1,
          1,
          1,
          1,
          1,
          5,
          5,
          5,
          5,
          5,
          5,
          5,
          5,
          5,
          5,
          4,
          4,
          4,
          4,
          4,
          4,
          4,
          4,
          4,
          4,
          7,
          7,
          7,
          7,
          7,
          7,
          7,
          7,
          7,
          7,
          8,
          8,
          8,
          8,
          8,
          8,
          8,
          8,
          8,
          8
         ],
         "y0": " ",
         "yaxis": "y"
        }
       ],
       "layout": {
        "boxmode": "group",
        "legend": {
         "tracegroupgap": 0
        },
        "template": {
         "data": {
          "bar": [
           {
            "error_x": {
             "color": "#2a3f5f"
            },
            "error_y": {
             "color": "#2a3f5f"
            },
            "marker": {
             "line": {
              "color": "#E5ECF6",
              "width": 0.5
             },
             "pattern": {
              "fillmode": "overlay",
              "size": 10,
              "solidity": 0.2
             }
            },
            "type": "bar"
           }
          ],
          "barpolar": [
           {
            "marker": {
             "line": {
              "color": "#E5ECF6",
              "width": 0.5
             },
             "pattern": {
              "fillmode": "overlay",
              "size": 10,
              "solidity": 0.2
             }
            },
            "type": "barpolar"
           }
          ],
          "carpet": [
           {
            "aaxis": {
             "endlinecolor": "#2a3f5f",
             "gridcolor": "white",
             "linecolor": "white",
             "minorgridcolor": "white",
             "startlinecolor": "#2a3f5f"
            },
            "baxis": {
             "endlinecolor": "#2a3f5f",
             "gridcolor": "white",
             "linecolor": "white",
             "minorgridcolor": "white",
             "startlinecolor": "#2a3f5f"
            },
            "type": "carpet"
           }
          ],
          "choropleth": [
           {
            "colorbar": {
             "outlinewidth": 0,
             "ticks": ""
            },
            "type": "choropleth"
           }
          ],
          "contour": [
           {
            "colorbar": {
             "outlinewidth": 0,
             "ticks": ""
            },
            "colorscale": [
             [
              0,
              "#0d0887"
             ],
             [
              0.1111111111111111,
              "#46039f"
             ],
             [
              0.2222222222222222,
              "#7201a8"
             ],
             [
              0.3333333333333333,
              "#9c179e"
             ],
             [
              0.4444444444444444,
              "#bd3786"
             ],
             [
              0.5555555555555556,
              "#d8576b"
             ],
             [
              0.6666666666666666,
              "#ed7953"
             ],
             [
              0.7777777777777778,
              "#fb9f3a"
             ],
             [
              0.8888888888888888,
              "#fdca26"
             ],
             [
              1,
              "#f0f921"
             ]
            ],
            "type": "contour"
           }
          ],
          "contourcarpet": [
           {
            "colorbar": {
             "outlinewidth": 0,
             "ticks": ""
            },
            "type": "contourcarpet"
           }
          ],
          "heatmap": [
           {
            "colorbar": {
             "outlinewidth": 0,
             "ticks": ""
            },
            "colorscale": [
             [
              0,
              "#0d0887"
             ],
             [
              0.1111111111111111,
              "#46039f"
             ],
             [
              0.2222222222222222,
              "#7201a8"
             ],
             [
              0.3333333333333333,
              "#9c179e"
             ],
             [
              0.4444444444444444,
              "#bd3786"
             ],
             [
              0.5555555555555556,
              "#d8576b"
             ],
             [
              0.6666666666666666,
              "#ed7953"
             ],
             [
              0.7777777777777778,
              "#fb9f3a"
             ],
             [
              0.8888888888888888,
              "#fdca26"
             ],
             [
              1,
              "#f0f921"
             ]
            ],
            "type": "heatmap"
           }
          ],
          "heatmapgl": [
           {
            "colorbar": {
             "outlinewidth": 0,
             "ticks": ""
            },
            "colorscale": [
             [
              0,
              "#0d0887"
             ],
             [
              0.1111111111111111,
              "#46039f"
             ],
             [
              0.2222222222222222,
              "#7201a8"
             ],
             [
              0.3333333333333333,
              "#9c179e"
             ],
             [
              0.4444444444444444,
              "#bd3786"
             ],
             [
              0.5555555555555556,
              "#d8576b"
             ],
             [
              0.6666666666666666,
              "#ed7953"
             ],
             [
              0.7777777777777778,
              "#fb9f3a"
             ],
             [
              0.8888888888888888,
              "#fdca26"
             ],
             [
              1,
              "#f0f921"
             ]
            ],
            "type": "heatmapgl"
           }
          ],
          "histogram": [
           {
            "marker": {
             "pattern": {
              "fillmode": "overlay",
              "size": 10,
              "solidity": 0.2
             }
            },
            "type": "histogram"
           }
          ],
          "histogram2d": [
           {
            "colorbar": {
             "outlinewidth": 0,
             "ticks": ""
            },
            "colorscale": [
             [
              0,
              "#0d0887"
             ],
             [
              0.1111111111111111,
              "#46039f"
             ],
             [
              0.2222222222222222,
              "#7201a8"
             ],
             [
              0.3333333333333333,
              "#9c179e"
             ],
             [
              0.4444444444444444,
              "#bd3786"
             ],
             [
              0.5555555555555556,
              "#d8576b"
             ],
             [
              0.6666666666666666,
              "#ed7953"
             ],
             [
              0.7777777777777778,
              "#fb9f3a"
             ],
             [
              0.8888888888888888,
              "#fdca26"
             ],
             [
              1,
              "#f0f921"
             ]
            ],
            "type": "histogram2d"
           }
          ],
          "histogram2dcontour": [
           {
            "colorbar": {
             "outlinewidth": 0,
             "ticks": ""
            },
            "colorscale": [
             [
              0,
              "#0d0887"
             ],
             [
              0.1111111111111111,
              "#46039f"
             ],
             [
              0.2222222222222222,
              "#7201a8"
             ],
             [
              0.3333333333333333,
              "#9c179e"
             ],
             [
              0.4444444444444444,
              "#bd3786"
             ],
             [
              0.5555555555555556,
              "#d8576b"
             ],
             [
              0.6666666666666666,
              "#ed7953"
             ],
             [
              0.7777777777777778,
              "#fb9f3a"
             ],
             [
              0.8888888888888888,
              "#fdca26"
             ],
             [
              1,
              "#f0f921"
             ]
            ],
            "type": "histogram2dcontour"
           }
          ],
          "mesh3d": [
           {
            "colorbar": {
             "outlinewidth": 0,
             "ticks": ""
            },
            "type": "mesh3d"
           }
          ],
          "parcoords": [
           {
            "line": {
             "colorbar": {
              "outlinewidth": 0,
              "ticks": ""
             }
            },
            "type": "parcoords"
           }
          ],
          "pie": [
           {
            "automargin": true,
            "type": "pie"
           }
          ],
          "scatter": [
           {
            "fillpattern": {
             "fillmode": "overlay",
             "size": 10,
             "solidity": 0.2
            },
            "type": "scatter"
           }
          ],
          "scatter3d": [
           {
            "line": {
             "colorbar": {
              "outlinewidth": 0,
              "ticks": ""
             }
            },
            "marker": {
             "colorbar": {
              "outlinewidth": 0,
              "ticks": ""
             }
            },
            "type": "scatter3d"
           }
          ],
          "scattercarpet": [
           {
            "marker": {
             "colorbar": {
              "outlinewidth": 0,
              "ticks": ""
             }
            },
            "type": "scattercarpet"
           }
          ],
          "scattergeo": [
           {
            "marker": {
             "colorbar": {
              "outlinewidth": 0,
              "ticks": ""
             }
            },
            "type": "scattergeo"
           }
          ],
          "scattergl": [
           {
            "marker": {
             "colorbar": {
              "outlinewidth": 0,
              "ticks": ""
             }
            },
            "type": "scattergl"
           }
          ],
          "scattermapbox": [
           {
            "marker": {
             "colorbar": {
              "outlinewidth": 0,
              "ticks": ""
             }
            },
            "type": "scattermapbox"
           }
          ],
          "scatterpolar": [
           {
            "marker": {
             "colorbar": {
              "outlinewidth": 0,
              "ticks": ""
             }
            },
            "type": "scatterpolar"
           }
          ],
          "scatterpolargl": [
           {
            "marker": {
             "colorbar": {
              "outlinewidth": 0,
              "ticks": ""
             }
            },
            "type": "scatterpolargl"
           }
          ],
          "scatterternary": [
           {
            "marker": {
             "colorbar": {
              "outlinewidth": 0,
              "ticks": ""
             }
            },
            "type": "scatterternary"
           }
          ],
          "surface": [
           {
            "colorbar": {
             "outlinewidth": 0,
             "ticks": ""
            },
            "colorscale": [
             [
              0,
              "#0d0887"
             ],
             [
              0.1111111111111111,
              "#46039f"
             ],
             [
              0.2222222222222222,
              "#7201a8"
             ],
             [
              0.3333333333333333,
              "#9c179e"
             ],
             [
              0.4444444444444444,
              "#bd3786"
             ],
             [
              0.5555555555555556,
              "#d8576b"
             ],
             [
              0.6666666666666666,
              "#ed7953"
             ],
             [
              0.7777777777777778,
              "#fb9f3a"
             ],
             [
              0.8888888888888888,
              "#fdca26"
             ],
             [
              1,
              "#f0f921"
             ]
            ],
            "type": "surface"
           }
          ],
          "table": [
           {
            "cells": {
             "fill": {
              "color": "#EBF0F8"
             },
             "line": {
              "color": "white"
             }
            },
            "header": {
             "fill": {
              "color": "#C8D4E3"
             },
             "line": {
              "color": "white"
             }
            },
            "type": "table"
           }
          ]
         },
         "layout": {
          "annotationdefaults": {
           "arrowcolor": "#2a3f5f",
           "arrowhead": 0,
           "arrowwidth": 1
          },
          "autotypenumbers": "strict",
          "coloraxis": {
           "colorbar": {
            "outlinewidth": 0,
            "ticks": ""
           }
          },
          "colorscale": {
           "diverging": [
            [
             0,
             "#8e0152"
            ],
            [
             0.1,
             "#c51b7d"
            ],
            [
             0.2,
             "#de77ae"
            ],
            [
             0.3,
             "#f1b6da"
            ],
            [
             0.4,
             "#fde0ef"
            ],
            [
             0.5,
             "#f7f7f7"
            ],
            [
             0.6,
             "#e6f5d0"
            ],
            [
             0.7,
             "#b8e186"
            ],
            [
             0.8,
             "#7fbc41"
            ],
            [
             0.9,
             "#4d9221"
            ],
            [
             1,
             "#276419"
            ]
           ],
           "sequential": [
            [
             0,
             "#0d0887"
            ],
            [
             0.1111111111111111,
             "#46039f"
            ],
            [
             0.2222222222222222,
             "#7201a8"
            ],
            [
             0.3333333333333333,
             "#9c179e"
            ],
            [
             0.4444444444444444,
             "#bd3786"
            ],
            [
             0.5555555555555556,
             "#d8576b"
            ],
            [
             0.6666666666666666,
             "#ed7953"
            ],
            [
             0.7777777777777778,
             "#fb9f3a"
            ],
            [
             0.8888888888888888,
             "#fdca26"
            ],
            [
             1,
             "#f0f921"
            ]
           ],
           "sequentialminus": [
            [
             0,
             "#0d0887"
            ],
            [
             0.1111111111111111,
             "#46039f"
            ],
            [
             0.2222222222222222,
             "#7201a8"
            ],
            [
             0.3333333333333333,
             "#9c179e"
            ],
            [
             0.4444444444444444,
             "#bd3786"
            ],
            [
             0.5555555555555556,
             "#d8576b"
            ],
            [
             0.6666666666666666,
             "#ed7953"
            ],
            [
             0.7777777777777778,
             "#fb9f3a"
            ],
            [
             0.8888888888888888,
             "#fdca26"
            ],
            [
             1,
             "#f0f921"
            ]
           ]
          },
          "colorway": [
           "#636efa",
           "#EF553B",
           "#00cc96",
           "#ab63fa",
           "#FFA15A",
           "#19d3f3",
           "#FF6692",
           "#B6E880",
           "#FF97FF",
           "#FECB52"
          ],
          "font": {
           "color": "#2a3f5f"
          },
          "geo": {
           "bgcolor": "white",
           "lakecolor": "white",
           "landcolor": "#E5ECF6",
           "showlakes": true,
           "showland": true,
           "subunitcolor": "white"
          },
          "hoverlabel": {
           "align": "left"
          },
          "hovermode": "closest",
          "mapbox": {
           "style": "light"
          },
          "paper_bgcolor": "white",
          "plot_bgcolor": "#E5ECF6",
          "polar": {
           "angularaxis": {
            "gridcolor": "white",
            "linecolor": "white",
            "ticks": ""
           },
           "bgcolor": "#E5ECF6",
           "radialaxis": {
            "gridcolor": "white",
            "linecolor": "white",
            "ticks": ""
           }
          },
          "scene": {
           "xaxis": {
            "backgroundcolor": "#E5ECF6",
            "gridcolor": "white",
            "gridwidth": 2,
            "linecolor": "white",
            "showbackground": true,
            "ticks": "",
            "zerolinecolor": "white"
           },
           "yaxis": {
            "backgroundcolor": "#E5ECF6",
            "gridcolor": "white",
            "gridwidth": 2,
            "linecolor": "white",
            "showbackground": true,
            "ticks": "",
            "zerolinecolor": "white"
           },
           "zaxis": {
            "backgroundcolor": "#E5ECF6",
            "gridcolor": "white",
            "gridwidth": 2,
            "linecolor": "white",
            "showbackground": true,
            "ticks": "",
            "zerolinecolor": "white"
           }
          },
          "shapedefaults": {
           "line": {
            "color": "#2a3f5f"
           }
          },
          "ternary": {
           "aaxis": {
            "gridcolor": "white",
            "linecolor": "white",
            "ticks": ""
           },
           "baxis": {
            "gridcolor": "white",
            "linecolor": "white",
            "ticks": ""
           },
           "bgcolor": "#E5ECF6",
           "caxis": {
            "gridcolor": "white",
            "linecolor": "white",
            "ticks": ""
           }
          },
          "title": {
           "x": 0.05
          },
          "xaxis": {
           "automargin": true,
           "gridcolor": "white",
           "linecolor": "white",
           "ticks": "",
           "title": {
            "standoff": 15
           },
           "zerolinecolor": "white",
           "zerolinewidth": 2
          },
          "yaxis": {
           "automargin": true,
           "gridcolor": "white",
           "linecolor": "white",
           "ticks": "",
           "title": {
            "standoff": 15
           },
           "zerolinecolor": "white",
           "zerolinewidth": 2
          }
         }
        },
        "title": {
         "text": "Boxplot of Model Ranks based on Average Accuracy"
        },
        "xaxis": {
         "anchor": "y",
         "categoryarray": [
          "DT",
          "RF",
          "ET",
          "GB",
          "HGB",
          "KNN",
          "LR",
          "SGD"
         ],
         "categoryorder": "array",
         "domain": [
          0,
          1
         ],
         "title": {
          "text": "Models"
         }
        },
        "yaxis": {
         "anchor": "x",
         "domain": [
          0,
          1
         ],
         "range": [
          0,
          9
         ],
         "title": {
          "text": "Rank"
         }
        }
       }
      },
      "text/html": [
       "<div>                            <div id=\"1be977dd-a97e-47bd-b3f2-d8658304e579\" class=\"plotly-graph-div\" style=\"height:525px; width:100%;\"></div>            <script type=\"text/javascript\">                require([\"plotly\"], function(Plotly) {                    window.PLOTLYENV=window.PLOTLYENV || {};                                    if (document.getElementById(\"1be977dd-a97e-47bd-b3f2-d8658304e579\")) {                    Plotly.newPlot(                        \"1be977dd-a97e-47bd-b3f2-d8658304e579\",                        [{\"alignmentgroup\":\"True\",\"hovertemplate\":\"Models=%{x}\\u003cbr\\u003eRank=%{y}\\u003cextra\\u003e\\u003c\\u002fextra\\u003e\",\"legendgroup\":\"\",\"marker\":{\"color\":\"#636efa\"},\"name\":\"\",\"notched\":false,\"offsetgroup\":\"\",\"orientation\":\"v\",\"showlegend\":false,\"x\":[\"DT\",\"DT\",\"DT\",\"DT\",\"DT\",\"DT\",\"DT\",\"DT\",\"DT\",\"DT\",\"RF\",\"RF\",\"RF\",\"RF\",\"RF\",\"RF\",\"RF\",\"RF\",\"RF\",\"RF\",\"ET\",\"ET\",\"ET\",\"ET\",\"ET\",\"ET\",\"ET\",\"ET\",\"ET\",\"ET\",\"GB\",\"GB\",\"GB\",\"GB\",\"GB\",\"GB\",\"GB\",\"GB\",\"GB\",\"GB\",\"HGB\",\"HGB\",\"HGB\",\"HGB\",\"HGB\",\"HGB\",\"HGB\",\"HGB\",\"HGB\",\"HGB\",\"KNN\",\"KNN\",\"KNN\",\"KNN\",\"KNN\",\"KNN\",\"KNN\",\"KNN\",\"KNN\",\"KNN\",\"LR\",\"LR\",\"LR\",\"LR\",\"LR\",\"LR\",\"LR\",\"LR\",\"LR\",\"LR\",\"SGD\",\"SGD\",\"SGD\",\"SGD\",\"SGD\",\"SGD\",\"SGD\",\"SGD\",\"SGD\",\"SGD\"],\"x0\":\" \",\"xaxis\":\"x\",\"y\":[3,3,3,3,3,3,3,3,3,3,2,2,2,2,2,2,2,2,2,2,6,6,6,6,6,6,6,6,6,6,1,1,1,1,1,1,1,1,1,1,5,5,5,5,5,5,5,5,5,5,4,4,4,4,4,4,4,4,4,4,7,7,7,7,7,7,7,7,7,7,8,8,8,8,8,8,8,8,8,8],\"y0\":\" \",\"yaxis\":\"y\",\"type\":\"box\"}],                        {\"template\":{\"data\":{\"histogram2dcontour\":[{\"type\":\"histogram2dcontour\",\"colorbar\":{\"outlinewidth\":0,\"ticks\":\"\"},\"colorscale\":[[0.0,\"#0d0887\"],[0.1111111111111111,\"#46039f\"],[0.2222222222222222,\"#7201a8\"],[0.3333333333333333,\"#9c179e\"],[0.4444444444444444,\"#bd3786\"],[0.5555555555555556,\"#d8576b\"],[0.6666666666666666,\"#ed7953\"],[0.7777777777777778,\"#fb9f3a\"],[0.8888888888888888,\"#fdca26\"],[1.0,\"#f0f921\"]]}],\"choropleth\":[{\"type\":\"choropleth\",\"colorbar\":{\"outlinewidth\":0,\"ticks\":\"\"}}],\"histogram2d\":[{\"type\":\"histogram2d\",\"colorbar\":{\"outlinewidth\":0,\"ticks\":\"\"},\"colorscale\":[[0.0,\"#0d0887\"],[0.1111111111111111,\"#46039f\"],[0.2222222222222222,\"#7201a8\"],[0.3333333333333333,\"#9c179e\"],[0.4444444444444444,\"#bd3786\"],[0.5555555555555556,\"#d8576b\"],[0.6666666666666666,\"#ed7953\"],[0.7777777777777778,\"#fb9f3a\"],[0.8888888888888888,\"#fdca26\"],[1.0,\"#f0f921\"]]}],\"heatmap\":[{\"type\":\"heatmap\",\"colorbar\":{\"outlinewidth\":0,\"ticks\":\"\"},\"colorscale\":[[0.0,\"#0d0887\"],[0.1111111111111111,\"#46039f\"],[0.2222222222222222,\"#7201a8\"],[0.3333333333333333,\"#9c179e\"],[0.4444444444444444,\"#bd3786\"],[0.5555555555555556,\"#d8576b\"],[0.6666666666666666,\"#ed7953\"],[0.7777777777777778,\"#fb9f3a\"],[0.8888888888888888,\"#fdca26\"],[1.0,\"#f0f921\"]]}],\"heatmapgl\":[{\"type\":\"heatmapgl\",\"colorbar\":{\"outlinewidth\":0,\"ticks\":\"\"},\"colorscale\":[[0.0,\"#0d0887\"],[0.1111111111111111,\"#46039f\"],[0.2222222222222222,\"#7201a8\"],[0.3333333333333333,\"#9c179e\"],[0.4444444444444444,\"#bd3786\"],[0.5555555555555556,\"#d8576b\"],[0.6666666666666666,\"#ed7953\"],[0.7777777777777778,\"#fb9f3a\"],[0.8888888888888888,\"#fdca26\"],[1.0,\"#f0f921\"]]}],\"contourcarpet\":[{\"type\":\"contourcarpet\",\"colorbar\":{\"outlinewidth\":0,\"ticks\":\"\"}}],\"contour\":[{\"type\":\"contour\",\"colorbar\":{\"outlinewidth\":0,\"ticks\":\"\"},\"colorscale\":[[0.0,\"#0d0887\"],[0.1111111111111111,\"#46039f\"],[0.2222222222222222,\"#7201a8\"],[0.3333333333333333,\"#9c179e\"],[0.4444444444444444,\"#bd3786\"],[0.5555555555555556,\"#d8576b\"],[0.6666666666666666,\"#ed7953\"],[0.7777777777777778,\"#fb9f3a\"],[0.8888888888888888,\"#fdca26\"],[1.0,\"#f0f921\"]]}],\"surface\":[{\"type\":\"surface\",\"colorbar\":{\"outlinewidth\":0,\"ticks\":\"\"},\"colorscale\":[[0.0,\"#0d0887\"],[0.1111111111111111,\"#46039f\"],[0.2222222222222222,\"#7201a8\"],[0.3333333333333333,\"#9c179e\"],[0.4444444444444444,\"#bd3786\"],[0.5555555555555556,\"#d8576b\"],[0.6666666666666666,\"#ed7953\"],[0.7777777777777778,\"#fb9f3a\"],[0.8888888888888888,\"#fdca26\"],[1.0,\"#f0f921\"]]}],\"mesh3d\":[{\"type\":\"mesh3d\",\"colorbar\":{\"outlinewidth\":0,\"ticks\":\"\"}}],\"scatter\":[{\"fillpattern\":{\"fillmode\":\"overlay\",\"size\":10,\"solidity\":0.2},\"type\":\"scatter\"}],\"parcoords\":[{\"type\":\"parcoords\",\"line\":{\"colorbar\":{\"outlinewidth\":0,\"ticks\":\"\"}}}],\"scatterpolargl\":[{\"type\":\"scatterpolargl\",\"marker\":{\"colorbar\":{\"outlinewidth\":0,\"ticks\":\"\"}}}],\"bar\":[{\"error_x\":{\"color\":\"#2a3f5f\"},\"error_y\":{\"color\":\"#2a3f5f\"},\"marker\":{\"line\":{\"color\":\"#E5ECF6\",\"width\":0.5},\"pattern\":{\"fillmode\":\"overlay\",\"size\":10,\"solidity\":0.2}},\"type\":\"bar\"}],\"scattergeo\":[{\"type\":\"scattergeo\",\"marker\":{\"colorbar\":{\"outlinewidth\":0,\"ticks\":\"\"}}}],\"scatterpolar\":[{\"type\":\"scatterpolar\",\"marker\":{\"colorbar\":{\"outlinewidth\":0,\"ticks\":\"\"}}}],\"histogram\":[{\"marker\":{\"pattern\":{\"fillmode\":\"overlay\",\"size\":10,\"solidity\":0.2}},\"type\":\"histogram\"}],\"scattergl\":[{\"type\":\"scattergl\",\"marker\":{\"colorbar\":{\"outlinewidth\":0,\"ticks\":\"\"}}}],\"scatter3d\":[{\"type\":\"scatter3d\",\"line\":{\"colorbar\":{\"outlinewidth\":0,\"ticks\":\"\"}},\"marker\":{\"colorbar\":{\"outlinewidth\":0,\"ticks\":\"\"}}}],\"scattermapbox\":[{\"type\":\"scattermapbox\",\"marker\":{\"colorbar\":{\"outlinewidth\":0,\"ticks\":\"\"}}}],\"scatterternary\":[{\"type\":\"scatterternary\",\"marker\":{\"colorbar\":{\"outlinewidth\":0,\"ticks\":\"\"}}}],\"scattercarpet\":[{\"type\":\"scattercarpet\",\"marker\":{\"colorbar\":{\"outlinewidth\":0,\"ticks\":\"\"}}}],\"carpet\":[{\"aaxis\":{\"endlinecolor\":\"#2a3f5f\",\"gridcolor\":\"white\",\"linecolor\":\"white\",\"minorgridcolor\":\"white\",\"startlinecolor\":\"#2a3f5f\"},\"baxis\":{\"endlinecolor\":\"#2a3f5f\",\"gridcolor\":\"white\",\"linecolor\":\"white\",\"minorgridcolor\":\"white\",\"startlinecolor\":\"#2a3f5f\"},\"type\":\"carpet\"}],\"table\":[{\"cells\":{\"fill\":{\"color\":\"#EBF0F8\"},\"line\":{\"color\":\"white\"}},\"header\":{\"fill\":{\"color\":\"#C8D4E3\"},\"line\":{\"color\":\"white\"}},\"type\":\"table\"}],\"barpolar\":[{\"marker\":{\"line\":{\"color\":\"#E5ECF6\",\"width\":0.5},\"pattern\":{\"fillmode\":\"overlay\",\"size\":10,\"solidity\":0.2}},\"type\":\"barpolar\"}],\"pie\":[{\"automargin\":true,\"type\":\"pie\"}]},\"layout\":{\"autotypenumbers\":\"strict\",\"colorway\":[\"#636efa\",\"#EF553B\",\"#00cc96\",\"#ab63fa\",\"#FFA15A\",\"#19d3f3\",\"#FF6692\",\"#B6E880\",\"#FF97FF\",\"#FECB52\"],\"font\":{\"color\":\"#2a3f5f\"},\"hovermode\":\"closest\",\"hoverlabel\":{\"align\":\"left\"},\"paper_bgcolor\":\"white\",\"plot_bgcolor\":\"#E5ECF6\",\"polar\":{\"bgcolor\":\"#E5ECF6\",\"angularaxis\":{\"gridcolor\":\"white\",\"linecolor\":\"white\",\"ticks\":\"\"},\"radialaxis\":{\"gridcolor\":\"white\",\"linecolor\":\"white\",\"ticks\":\"\"}},\"ternary\":{\"bgcolor\":\"#E5ECF6\",\"aaxis\":{\"gridcolor\":\"white\",\"linecolor\":\"white\",\"ticks\":\"\"},\"baxis\":{\"gridcolor\":\"white\",\"linecolor\":\"white\",\"ticks\":\"\"},\"caxis\":{\"gridcolor\":\"white\",\"linecolor\":\"white\",\"ticks\":\"\"}},\"coloraxis\":{\"colorbar\":{\"outlinewidth\":0,\"ticks\":\"\"}},\"colorscale\":{\"sequential\":[[0.0,\"#0d0887\"],[0.1111111111111111,\"#46039f\"],[0.2222222222222222,\"#7201a8\"],[0.3333333333333333,\"#9c179e\"],[0.4444444444444444,\"#bd3786\"],[0.5555555555555556,\"#d8576b\"],[0.6666666666666666,\"#ed7953\"],[0.7777777777777778,\"#fb9f3a\"],[0.8888888888888888,\"#fdca26\"],[1.0,\"#f0f921\"]],\"sequentialminus\":[[0.0,\"#0d0887\"],[0.1111111111111111,\"#46039f\"],[0.2222222222222222,\"#7201a8\"],[0.3333333333333333,\"#9c179e\"],[0.4444444444444444,\"#bd3786\"],[0.5555555555555556,\"#d8576b\"],[0.6666666666666666,\"#ed7953\"],[0.7777777777777778,\"#fb9f3a\"],[0.8888888888888888,\"#fdca26\"],[1.0,\"#f0f921\"]],\"diverging\":[[0,\"#8e0152\"],[0.1,\"#c51b7d\"],[0.2,\"#de77ae\"],[0.3,\"#f1b6da\"],[0.4,\"#fde0ef\"],[0.5,\"#f7f7f7\"],[0.6,\"#e6f5d0\"],[0.7,\"#b8e186\"],[0.8,\"#7fbc41\"],[0.9,\"#4d9221\"],[1,\"#276419\"]]},\"xaxis\":{\"gridcolor\":\"white\",\"linecolor\":\"white\",\"ticks\":\"\",\"title\":{\"standoff\":15},\"zerolinecolor\":\"white\",\"automargin\":true,\"zerolinewidth\":2},\"yaxis\":{\"gridcolor\":\"white\",\"linecolor\":\"white\",\"ticks\":\"\",\"title\":{\"standoff\":15},\"zerolinecolor\":\"white\",\"automargin\":true,\"zerolinewidth\":2},\"scene\":{\"xaxis\":{\"backgroundcolor\":\"#E5ECF6\",\"gridcolor\":\"white\",\"linecolor\":\"white\",\"showbackground\":true,\"ticks\":\"\",\"zerolinecolor\":\"white\",\"gridwidth\":2},\"yaxis\":{\"backgroundcolor\":\"#E5ECF6\",\"gridcolor\":\"white\",\"linecolor\":\"white\",\"showbackground\":true,\"ticks\":\"\",\"zerolinecolor\":\"white\",\"gridwidth\":2},\"zaxis\":{\"backgroundcolor\":\"#E5ECF6\",\"gridcolor\":\"white\",\"linecolor\":\"white\",\"showbackground\":true,\"ticks\":\"\",\"zerolinecolor\":\"white\",\"gridwidth\":2}},\"shapedefaults\":{\"line\":{\"color\":\"#2a3f5f\"}},\"annotationdefaults\":{\"arrowcolor\":\"#2a3f5f\",\"arrowhead\":0,\"arrowwidth\":1},\"geo\":{\"bgcolor\":\"white\",\"landcolor\":\"#E5ECF6\",\"subunitcolor\":\"white\",\"showland\":true,\"showlakes\":true,\"lakecolor\":\"white\"},\"title\":{\"x\":0.05},\"mapbox\":{\"style\":\"light\"}}},\"xaxis\":{\"anchor\":\"y\",\"domain\":[0.0,1.0],\"title\":{\"text\":\"Models\"},\"categoryorder\":\"array\",\"categoryarray\":[\"DT\",\"RF\",\"ET\",\"GB\",\"HGB\",\"KNN\",\"LR\",\"SGD\"]},\"yaxis\":{\"anchor\":\"x\",\"domain\":[0.0,1.0],\"title\":{\"text\":\"Rank\"},\"range\":[0,9]},\"legend\":{\"tracegroupgap\":0},\"title\":{\"text\":\"Boxplot of Model Ranks based on Average Accuracy\"},\"boxmode\":\"group\"},                        {\"responsive\": true}                    ).then(function(){\n",
       "                            \n",
       "var gd = document.getElementById('1be977dd-a97e-47bd-b3f2-d8658304e579');\n",
       "var x = new MutationObserver(function (mutations, observer) {{\n",
       "        var display = window.getComputedStyle(gd).display;\n",
       "        if (!display || display === 'none') {{\n",
       "            console.log([gd, 'removed!']);\n",
       "            Plotly.purge(gd);\n",
       "            observer.disconnect();\n",
       "        }}\n",
       "}});\n",
       "\n",
       "// Listen for the removal of the full notebook cells\n",
       "var notebookContainer = gd.closest('#notebook-container');\n",
       "if (notebookContainer) {{\n",
       "    x.observe(notebookContainer, {childList: true});\n",
       "}}\n",
       "\n",
       "// Listen for the clearing of the current output cell\n",
       "var outputEl = gd.closest('.output');\n",
       "if (outputEl) {{\n",
       "    x.observe(outputEl, {childList: true});\n",
       "}}\n",
       "\n",
       "                        })                };                });            </script>        </div>"
      ]
     },
     "metadata": {},
     "output_type": "display_data"
    }
   ],
   "source": []
  },
  {
   "cell_type": "code",
   "execution_count": 295,
   "id": "c31e5366",
   "metadata": {},
   "outputs": [
    {
     "data": {
      "text/plain": [
       "array([[0, 0, 0, 0, 0, 0, 0, 0],\n",
       "       [0, 0, 0, 0, 0, 0, 0, 0],\n",
       "       [0, 0, 0, 0, 0, 0, 0, 0],\n",
       "       [4, 4, 2, 3, 1, 3, 1, 2],\n",
       "       [4, 4, 2, 3, 1, 3, 1, 2],\n",
       "       [4, 4, 2, 3, 1, 3, 1, 2],\n",
       "       [4, 4, 2, 3, 1, 3, 1, 2],\n",
       "       [8, 7, 4, 5, 1, 6, 2, 3],\n",
       "       [8, 7, 4, 5, 1, 6, 2, 3],\n",
       "       [8, 7, 4, 5, 1, 6, 2, 3]], dtype=int64)"
      ]
     },
     "execution_count": 295,
     "metadata": {},
     "output_type": "execute_result"
    }
   ],
   "source": [
    "ranks[0] = [0,0,0,0,0,0,0,0]\n",
    "ranks[1] = [0,0,0,0,0,0,0,0]\n",
    "ranks[2] = [0,0,0,0,0,0,0,0]\n",
    "ranks[3] = [4,4,2,3,1,3,1,2]\n",
    "ranks[4] = [4,4,2,3,1,3,1,2]\n",
    "ranks[5] = [4,4,2,3,1,3,1,2]\n",
    "ranks[6] = [4,4,2,3,1,3,1,2]\n",
    "ranks"
   ]
  },
  {
   "cell_type": "code",
   "execution_count": 320,
   "id": "9e901be6",
   "metadata": {},
   "outputs": [
    {
     "data": {
      "text/plain": [
       "array([8, 7, 4, 5, 1, 6, 2, 3], dtype=int64)"
      ]
     },
     "execution_count": 320,
     "metadata": {},
     "output_type": "execute_result"
    }
   ],
   "source": [
    "# for i in range(8):\n",
    "#     scores_list[i] = np.delete(scores_list[i],10)\n",
    "scores_list\n",
    "ranks = []\n",
    "for i in range(10): # fold 수 만큼 반복\n",
    "    rank = np.argsort([s[i] for s in scores_list]) +1 # 작은 값부터 큰 값까지 오름차순으로 인덱스 반환 후 +1 (순위는 일반적으로 작은 값부터 시작)\n",
    "    ranks.append(rank)\n",
    "ranks = np.array(ranks)\n",
    "ranks\n",
    "scores_list\n"
   ]
  },
  {
   "cell_type": "code",
   "execution_count": 346,
   "id": "7504caba",
   "metadata": {},
   "outputs": [
    {
     "data": {
      "text/plain": [
       "[array([0.82289552, 0.82195846, 0.82664376, 0.82664376, 0.82161824,\n",
       "        0.82286785, 0.82442987, 0.83302093, 0.83458294, 0.81818182]),\n",
       " array([0.91097923, 0.90957364, 0.91535218, 0.90801187, 0.91283974,\n",
       "        0.90424867, 0.90893471, 0.91112152, 0.91237113, 0.9084661 ]),\n",
       " array([0.92893956, 0.92441043, 0.92550367, 0.91972513, 0.92549203,\n",
       "        0.91986879, 0.92486723, 0.92439863, 0.92908466, 0.921587  ]),\n",
       " array([0.39856317, 0.38809933, 0.38107137, 0.38809933, 0.37378944,\n",
       "        0.37425804, 0.37988129, 0.37925648, 0.3947204 , 0.37644486]),\n",
       " array([0.69982821, 0.68061846, 0.67687022, 0.68311729, 0.67728835,\n",
       "        0.67307092, 0.67947516, 0.6841612 , 0.69040925, 0.66885348]),\n",
       " array([0.86834296, 0.8694362 , 0.86693737, 0.86490707, 0.86519838,\n",
       "        0.86629178, 0.8689472 , 0.86660419, 0.87347704, 0.86504217]),\n",
       " array([0.2523817 , 0.25175699, 0.25816024, 0.25222552, 0.25445173,\n",
       "        0.25242112, 0.25866917, 0.25788816, 0.25523274, 0.25476414]),\n",
       " array([0.2348899 , 0.2334843 , 0.22645635, 0.2503514 , 0.24008122,\n",
       "        0.22258669, 0.22118088, 0.24023743, 0.22914714, 0.23867541])]"
      ]
     },
     "execution_count": 346,
     "metadata": {},
     "output_type": "execute_result"
    }
   ],
   "source": [
    "# np.delete(scores_list[0],10)\n",
    "np.argsort([-arr[0] for arr in scores_list])+1\n",
    "[arr[0] for arr in scores_list]\n",
    "scores_list"
   ]
  },
  {
   "cell_type": "code",
   "execution_count": 200,
   "id": "13016ad1",
   "metadata": {},
   "outputs": [
    {
     "data": {
      "text/html": [
       "<div>\n",
       "<style scoped>\n",
       "    .dataframe tbody tr th:only-of-type {\n",
       "        vertical-align: middle;\n",
       "    }\n",
       "\n",
       "    .dataframe tbody tr th {\n",
       "        vertical-align: top;\n",
       "    }\n",
       "\n",
       "    .dataframe thead th {\n",
       "        text-align: right;\n",
       "    }\n",
       "</style>\n",
       "<table border=\"1\" class=\"dataframe\">\n",
       "  <thead>\n",
       "    <tr style=\"text-align: right;\">\n",
       "      <th></th>\n",
       "      <th>ID</th>\n",
       "      <th>point</th>\n",
       "      <th>condition</th>\n",
       "      <th>r_iris_x</th>\n",
       "      <th>r_iris_y</th>\n",
       "      <th>l_iris_x</th>\n",
       "      <th>l_iris_y</th>\n",
       "      <th>r_eyelid_x</th>\n",
       "      <th>r_eyelid_y</th>\n",
       "      <th>l_eyelid_x</th>\n",
       "      <th>l_eyelid_y</th>\n",
       "      <th>l_center_x</th>\n",
       "      <th>l_center_y</th>\n",
       "      <th>r_center_x</th>\n",
       "      <th>r_center_y</th>\n",
       "    </tr>\n",
       "  </thead>\n",
       "  <tbody>\n",
       "    <tr>\n",
       "      <th>0</th>\n",
       "      <td>1</td>\n",
       "      <td>[1020, 782]</td>\n",
       "      <td>A</td>\n",
       "      <td>987.5</td>\n",
       "      <td>362.0</td>\n",
       "      <td>816.0</td>\n",
       "      <td>386.5</td>\n",
       "      <td>991.6875</td>\n",
       "      <td>365.2500</td>\n",
       "      <td>818.0625</td>\n",
       "      <td>390.5000</td>\n",
       "      <td>816.0</td>\n",
       "      <td>386.5</td>\n",
       "      <td>987.5</td>\n",
       "      <td>362.0</td>\n",
       "    </tr>\n",
       "    <tr>\n",
       "      <th>1</th>\n",
       "      <td>1</td>\n",
       "      <td>[1020, 782]</td>\n",
       "      <td>A</td>\n",
       "      <td>989.0</td>\n",
       "      <td>363.0</td>\n",
       "      <td>818.0</td>\n",
       "      <td>388.0</td>\n",
       "      <td>993.1875</td>\n",
       "      <td>366.8750</td>\n",
       "      <td>818.9375</td>\n",
       "      <td>392.6875</td>\n",
       "      <td>818.0</td>\n",
       "      <td>388.0</td>\n",
       "      <td>989.0</td>\n",
       "      <td>363.0</td>\n",
       "    </tr>\n",
       "    <tr>\n",
       "      <th>2</th>\n",
       "      <td>1</td>\n",
       "      <td>[1020, 782]</td>\n",
       "      <td>A</td>\n",
       "      <td>989.5</td>\n",
       "      <td>362.5</td>\n",
       "      <td>819.0</td>\n",
       "      <td>388.0</td>\n",
       "      <td>993.0000</td>\n",
       "      <td>366.9375</td>\n",
       "      <td>819.5625</td>\n",
       "      <td>392.4375</td>\n",
       "      <td>819.0</td>\n",
       "      <td>388.0</td>\n",
       "      <td>989.5</td>\n",
       "      <td>362.5</td>\n",
       "    </tr>\n",
       "    <tr>\n",
       "      <th>3</th>\n",
       "      <td>1</td>\n",
       "      <td>[1020, 782]</td>\n",
       "      <td>A</td>\n",
       "      <td>988.5</td>\n",
       "      <td>363.0</td>\n",
       "      <td>817.0</td>\n",
       "      <td>388.0</td>\n",
       "      <td>990.5625</td>\n",
       "      <td>366.3750</td>\n",
       "      <td>819.3750</td>\n",
       "      <td>391.2500</td>\n",
       "      <td>817.0</td>\n",
       "      <td>388.0</td>\n",
       "      <td>988.5</td>\n",
       "      <td>363.0</td>\n",
       "    </tr>\n",
       "    <tr>\n",
       "      <th>4</th>\n",
       "      <td>1</td>\n",
       "      <td>[1020, 782]</td>\n",
       "      <td>A</td>\n",
       "      <td>986.0</td>\n",
       "      <td>362.0</td>\n",
       "      <td>814.5</td>\n",
       "      <td>387.0</td>\n",
       "      <td>990.4375</td>\n",
       "      <td>365.3125</td>\n",
       "      <td>815.3125</td>\n",
       "      <td>390.7500</td>\n",
       "      <td>814.5</td>\n",
       "      <td>387.0</td>\n",
       "      <td>986.0</td>\n",
       "      <td>362.0</td>\n",
       "    </tr>\n",
       "    <tr>\n",
       "      <th>...</th>\n",
       "      <td>...</td>\n",
       "      <td>...</td>\n",
       "      <td>...</td>\n",
       "      <td>...</td>\n",
       "      <td>...</td>\n",
       "      <td>...</td>\n",
       "      <td>...</td>\n",
       "      <td>...</td>\n",
       "      <td>...</td>\n",
       "      <td>...</td>\n",
       "      <td>...</td>\n",
       "      <td>...</td>\n",
       "      <td>...</td>\n",
       "      <td>...</td>\n",
       "      <td>...</td>\n",
       "    </tr>\n",
       "    <tr>\n",
       "      <th>80026</th>\n",
       "      <td>29</td>\n",
       "      <td>[500, 803]</td>\n",
       "      <td>S</td>\n",
       "      <td>743.0</td>\n",
       "      <td>767.5</td>\n",
       "      <td>465.5</td>\n",
       "      <td>754.5</td>\n",
       "      <td>742.1250</td>\n",
       "      <td>770.9375</td>\n",
       "      <td>464.5000</td>\n",
       "      <td>758.3125</td>\n",
       "      <td>465.5</td>\n",
       "      <td>754.5</td>\n",
       "      <td>743.0</td>\n",
       "      <td>767.5</td>\n",
       "    </tr>\n",
       "    <tr>\n",
       "      <th>80027</th>\n",
       "      <td>29</td>\n",
       "      <td>[500, 803]</td>\n",
       "      <td>S</td>\n",
       "      <td>747.5</td>\n",
       "      <td>767.0</td>\n",
       "      <td>468.5</td>\n",
       "      <td>752.0</td>\n",
       "      <td>743.8750</td>\n",
       "      <td>769.9375</td>\n",
       "      <td>464.0000</td>\n",
       "      <td>755.5625</td>\n",
       "      <td>468.5</td>\n",
       "      <td>752.0</td>\n",
       "      <td>747.5</td>\n",
       "      <td>767.0</td>\n",
       "    </tr>\n",
       "    <tr>\n",
       "      <th>80028</th>\n",
       "      <td>29</td>\n",
       "      <td>[500, 803]</td>\n",
       "      <td>S</td>\n",
       "      <td>746.0</td>\n",
       "      <td>767.0</td>\n",
       "      <td>468.5</td>\n",
       "      <td>753.0</td>\n",
       "      <td>744.6875</td>\n",
       "      <td>769.8750</td>\n",
       "      <td>464.4375</td>\n",
       "      <td>756.4375</td>\n",
       "      <td>468.5</td>\n",
       "      <td>753.0</td>\n",
       "      <td>746.0</td>\n",
       "      <td>767.0</td>\n",
       "    </tr>\n",
       "    <tr>\n",
       "      <th>80029</th>\n",
       "      <td>29</td>\n",
       "      <td>[500, 803]</td>\n",
       "      <td>S</td>\n",
       "      <td>745.5</td>\n",
       "      <td>767.0</td>\n",
       "      <td>467.5</td>\n",
       "      <td>752.5</td>\n",
       "      <td>744.3125</td>\n",
       "      <td>770.1250</td>\n",
       "      <td>464.2500</td>\n",
       "      <td>756.1250</td>\n",
       "      <td>467.5</td>\n",
       "      <td>752.5</td>\n",
       "      <td>745.5</td>\n",
       "      <td>767.0</td>\n",
       "    </tr>\n",
       "    <tr>\n",
       "      <th>80030</th>\n",
       "      <td>29</td>\n",
       "      <td>[500, 803]</td>\n",
       "      <td>S</td>\n",
       "      <td>727.0</td>\n",
       "      <td>773.5</td>\n",
       "      <td>477.5</td>\n",
       "      <td>764.0</td>\n",
       "      <td>739.9375</td>\n",
       "      <td>777.3125</td>\n",
       "      <td>467.3750</td>\n",
       "      <td>764.2500</td>\n",
       "      <td>477.5</td>\n",
       "      <td>764.0</td>\n",
       "      <td>727.0</td>\n",
       "      <td>773.5</td>\n",
       "    </tr>\n",
       "  </tbody>\n",
       "</table>\n",
       "<p>80031 rows × 15 columns</p>\n",
       "</div>"
      ],
      "text/plain": [
       "       ID        point condition  r_iris_x  r_iris_y  l_iris_x  l_iris_y  \\\n",
       "0       1  [1020, 782]         A     987.5     362.0     816.0     386.5   \n",
       "1       1  [1020, 782]         A     989.0     363.0     818.0     388.0   \n",
       "2       1  [1020, 782]         A     989.5     362.5     819.0     388.0   \n",
       "3       1  [1020, 782]         A     988.5     363.0     817.0     388.0   \n",
       "4       1  [1020, 782]         A     986.0     362.0     814.5     387.0   \n",
       "...    ..          ...       ...       ...       ...       ...       ...   \n",
       "80026  29   [500, 803]         S     743.0     767.5     465.5     754.5   \n",
       "80027  29   [500, 803]         S     747.5     767.0     468.5     752.0   \n",
       "80028  29   [500, 803]         S     746.0     767.0     468.5     753.0   \n",
       "80029  29   [500, 803]         S     745.5     767.0     467.5     752.5   \n",
       "80030  29   [500, 803]         S     727.0     773.5     477.5     764.0   \n",
       "\n",
       "       r_eyelid_x  r_eyelid_y  l_eyelid_x  l_eyelid_y  l_center_x  l_center_y  \\\n",
       "0        991.6875    365.2500    818.0625    390.5000       816.0       386.5   \n",
       "1        993.1875    366.8750    818.9375    392.6875       818.0       388.0   \n",
       "2        993.0000    366.9375    819.5625    392.4375       819.0       388.0   \n",
       "3        990.5625    366.3750    819.3750    391.2500       817.0       388.0   \n",
       "4        990.4375    365.3125    815.3125    390.7500       814.5       387.0   \n",
       "...           ...         ...         ...         ...         ...         ...   \n",
       "80026    742.1250    770.9375    464.5000    758.3125       465.5       754.5   \n",
       "80027    743.8750    769.9375    464.0000    755.5625       468.5       752.0   \n",
       "80028    744.6875    769.8750    464.4375    756.4375       468.5       753.0   \n",
       "80029    744.3125    770.1250    464.2500    756.1250       467.5       752.5   \n",
       "80030    739.9375    777.3125    467.3750    764.2500       477.5       764.0   \n",
       "\n",
       "       r_center_x  r_center_y  \n",
       "0           987.5       362.0  \n",
       "1           989.0       363.0  \n",
       "2           989.5       362.5  \n",
       "3           988.5       363.0  \n",
       "4           986.0       362.0  \n",
       "...           ...         ...  \n",
       "80026       743.0       767.5  \n",
       "80027       747.5       767.0  \n",
       "80028       746.0       767.0  \n",
       "80029       745.5       767.0  \n",
       "80030       727.0       773.5  \n",
       "\n",
       "[80031 rows x 15 columns]"
      ]
     },
     "execution_count": 200,
     "metadata": {},
     "output_type": "execute_result"
    }
   ],
   "source": [
    "DT\tRF\tET\tGB\tHGB\tKNN\tLR\tSGD"
   ]
  },
  {
   "cell_type": "code",
   "execution_count": 154,
   "id": "354f86d0",
   "metadata": {},
   "outputs": [],
   "source": [
    "### 라이브러리\n",
    "# - 정확도\n",
    "from sklearn.metrics import accuracy_score\n",
    "# - 정밀도\n",
    "from sklearn.metrics import precision_score\n",
    "# - 재현율\n",
    "from sklearn.metrics import recall_score\n",
    "# - f1-score\n",
    "from sklearn.metrics import f1_score"
   ]
  },
  {
   "cell_type": "code",
   "execution_count": 190,
   "id": "a9390859",
   "metadata": {},
   "outputs": [
    {
     "data": {
      "text/plain": [
       "(0.9150696115503609,\n",
       " 0.9164005824799301,\n",
       " 0.9071366547543469,\n",
       " 0.9107720793168372)"
      ]
     },
     "execution_count": 190,
     "metadata": {},
     "output_type": "execute_result"
    }
   ],
   "source": [
    "### 정확도\n",
    "acc = accuracy_score(test_y,pred)\n",
    "### 정밀도\n",
    "pre = precision_score(test_y,pred, average='macro')\n",
    "### 재현율\n",
    "rec = recall_score(test_y,pred, average='macro')\n",
    "### f1-score\n",
    "f1 = f1_score(test_y,pred, average='macro')\n",
    "acc,pre,rec,f1"
   ]
  },
  {
   "cell_type": "markdown",
   "id": "1e000e38",
   "metadata": {},
   "source": [
    "## 이미지 인식"
   ]
  },
  {
   "cell_type": "code",
   "execution_count": null,
   "id": "be2347ec",
   "metadata": {},
   "outputs": [],
   "source": [
    "import cv2\n",
    "\n",
    "face_cascade = cv2.CascadeClassifier('./data/haarcascade_frontalface_default.xml')\n",
    "eye_cascade = cv2.CascadeClassifier('./data/haarcascade_eye.xml')\n",
    "\n",
    "img = cv2.imread('./data/1model.png')\n",
    "gray = cv2.cvtColor(img, cv2.COLOR_BGR2GRAY)\n",
    "faces = face_cascade.detectMultiScale(gray, 1.3,5)\n",
    "for (x,y,w,h) in faces:\n",
    "    cv2.rectangle(img, (x,y), (x+w, y+h), (255,0,0),2)\n",
    "    roi_gray = gray[y:y+h, x:x+w]\n",
    "    roi_color = img[y:y+h, x:x+w]\n",
    "    eyes = eye_cascade.detectMultiScale(roi_gray,1.1,5)\n",
    "    for (ex, ey, ew, eh) in eyes:\n",
    "        cv2.rectangle(roi_color, (ex,ey), (ex+ew, ey+eh),(0,255,0),2)\n",
    "\n",
    "# cv2.imshow('img',img)\n",
    "# cv2.waitKey(0)\n",
    "# cv2.destroyAllWindows()\n",
    "plt.imshow(img)"
   ]
  },
  {
   "cell_type": "code",
   "execution_count": null,
   "id": "0892d43b",
   "metadata": {},
   "outputs": [],
   "source": [
    "img = cv2.imread('./data/1model.png')\n",
    "gray = cv2.cvtColor(img, cv2.COLOR_BGR2RGB)\n",
    "plt.imshow(gray)"
   ]
  },
  {
   "cell_type": "code",
   "execution_count": null,
   "id": "21b47ab6",
   "metadata": {},
   "outputs": [],
   "source": [
    "# XML 파일 경로\n",
    "xml_file_path = '../haarcascades/haarcascade_frontalface_default.xml'\n",
    "\n",
    "# 파일 존재 여부 확인\n",
    "if os.path.exists(xml_file_path):\n",
    "    print(\"XML 파일이 존재합니다.\")\n",
    "else:\n",
    "    print(\"XML 파일이 존재하지 않습니다.\")"
   ]
  },
  {
   "cell_type": "code",
   "execution_count": null,
   "id": "8dbad13c",
   "metadata": {},
   "outputs": [],
   "source": [
    "pd.read_csv(\"./data/smartphone_label.csv\")"
   ]
  },
  {
   "cell_type": "code",
   "execution_count": null,
   "id": "67c5b294",
   "metadata": {},
   "outputs": [],
   "source": [
    "import cv2\n",
    "import numpy as np\n",
    "import json\n",
    "\n",
    "# JSON 파일에서 정보를 불러오기\n",
    "with open('./data/data.json', 'r') as f:\n",
    "    data = json.load(f)\n",
    "annotations = data['Annotations']['annotations']\n",
    "\n",
    "img = cv2.imread('./data/1model.png')\n",
    "\n",
    "condition = data['Annotations']['condition']\n",
    "inst = data['Annotations']['inst']\n",
    "posture = data['Annotations']['posture']\n",
    "\n",
    "font = cv2.FONT_HERSHEY_SIMPLEX\n",
    "font_scale = 1\n",
    "font_thickness = 2\n",
    "text_color = (0, 0, 255)\n",
    "\n",
    "cv2.putText(img, f\"Condition: {condition}\", (10, 30), font, font_scale, text_color, font_thickness)\n",
    "cv2.putText(img, f\"Inst: {inst}\", (10, 60), font, font_scale, text_color, font_thickness)\n",
    "cv2.putText(img, f\"Posture: {posture}\", (10, 90), font, font_scale, text_color, font_thickness)\n",
    "\n",
    "# 주어진 JSON 어노테이션을 화면에 표시\n",
    "for annotation in annotations:\n",
    "    points = annotation['points']\n",
    "\n",
    "    if annotation['shape'] == 'Ellipse':\n",
    "        rx = int(annotation['rx'])\n",
    "        ry = int(annotation['ry'])\n",
    "        cx, cy = int(annotation['cx']), int(annotation['cy'])\n",
    "        thick = 2\n",
    "        color = (0, 255, 0)\n",
    "        cv2.ellipse(img, (cx, cy), (rx, ry), 0, 0, 360, color, thick)\n",
    "\n",
    "    elif annotation['shape'] == 'Polygon':\n",
    "        contours = np.array(points, np.int32)\n",
    "        contours = contours.reshape(-1, 1, 2)\n",
    "        color = (0, 0, 255)\n",
    "        cv2.polylines(img, [contours], isClosed=True, color=color, thickness=2)\n",
    "\n",
    "    elif annotation['shape'] == 'Point':\n",
    "        x, y = int(points[0][0]), int(points[0][1])\n",
    "        radius = 3\n",
    "        color = (255, 0, 0)\n",
    "        cv2.circle(img, (x, y), radius, color, -1)\n",
    "\n",
    "cv2.imshow('img', img)\n",
    "cv2.waitKey(0)\n",
    "cv2.destroyAllWindows()"
   ]
  },
  {
   "cell_type": "code",
   "execution_count": null,
   "id": "01521a7b",
   "metadata": {},
   "outputs": [],
   "source": [
    "import cv2\n",
    "import dlib\n",
    "import numpy as np\n",
    "\n",
    "def detect_eyes(gray_img, face_landmarks):\n",
    "    eye_regions = []\n",
    "\n",
    "    for side in ['left', 'right']:\n",
    "        if side == 'left':\n",
    "            p1, p2, p3, p4, p5, p6 = list(range(36, 42))\n",
    "        else:\n",
    "            p1, p2, p3, p4, p5, p6 = list(range(42, 48))\n",
    "\n",
    "        pt1, pt2, pt3, pt4, pt5, pt6 = [face_landmarks.part(p1).x, face_landmarks.part(p1).y], [face_landmarks.part(p2).x, face_landmarks.part(p2).y], [face_landmarks.part(p3).x, face_landmarks.part(p3).y], [face_landmarks.part(p4).x, face_landmarks.part(p4).y], [face_landmarks.part(p5).x, face_landmarks.part(p5).y], [face_landmarks.part(p6).x, face_landmarks.part(p6).y]\n",
    "\n",
    "        eye_region = np.array([pt1, pt2, pt3, pt4, pt5, pt6], np.int32)\n",
    "        eye_regions.append(eye_region)\n",
    "\n",
    "    return eye_regions\n",
    "\n",
    "def detect_iris(eye_image):\n",
    "    gray_img = cv2.cvtColor(eye_image, cv2.COLOR_BGR2GRAY)\n",
    "    blurred = cv2.medianBlur(gray_img, 5)\n",
    "    circles = cv2.HoughCircles(blurred, cv2.HOUGH_GRADIENT, 1, 20, param1=30, param2=15, minRadius=7, maxRadius=21)\n",
    "\n",
    "    if circles is not None:\n",
    "        circles = np.uint16(np.around(circles))\n",
    "        for i in circles[0, :]:\n",
    "            cv2.circle(eye_image, (i[0], i[1]), i[2], (0, 255, 0), 2)\n",
    "            \n",
    "face_detector = dlib.get_frontal_face_detector()\n",
    "landmark_predictor = dlib.shape_predictor(\"./data/shape_predictor_68_face_landmarks.dat\")\n",
    "\n",
    "img = cv2.imread(\"./data/img.jpg\")\n",
    "gray_img = cv2.cvtColor(img, cv2.COLOR_BGR2GRAY)\n",
    "\n",
    "faces = face_detector(gray_img)\n",
    "\n",
    "for face in faces:\n",
    "    landmarks = landmark_predictor(gray_img, face)\n",
    "    eye_regions = detect_eyes(gray_img, landmarks)\n",
    "\n",
    "    for points in eye_regions:\n",
    "        eye_image = img[points[1][1]:points[5][1], points[0][0]:points[3][0]]\n",
    "        detect_iris(eye_image)\n",
    "        for point in points:\n",
    "            x,y=point\n",
    "            print(f\"좌표: ({x}, {y})\")\n",
    "        points = points.reshape((-1, 1, 2))\n",
    "        cv2.polylines(img, [points], isClosed=True, color=(0, 0, 255), thickness=2)\n",
    "\n",
    "cv2.imshow('Result', img)\n",
    "cv2.waitKey(0)\n",
    "cv2.destroyAllWindows()"
   ]
  },
  {
   "cell_type": "code",
   "execution_count": null,
   "id": "9a6432a6",
   "metadata": {},
   "outputs": [],
   "source": [
    "import cv2\n",
    "import dlib\n",
    "import numpy as np\n",
    "\n",
    "def detect_eyes(gray_img, face_landmarks):\n",
    "    eye_regions = []\n",
    "\n",
    "    for side in ['left', 'right']:\n",
    "        if side == 'left':\n",
    "            p1, p2, p3, p4, p5, p6 = list(range(36, 42))\n",
    "        else:\n",
    "            p1, p2, p3, p4, p5, p6 = list(range(42, 48))\n",
    "\n",
    "        pt1, pt2, pt3, pt4, pt5, pt6 = [face_landmarks.part(p1).x, face_landmarks.part(p1).y], [face_landmarks.part(p2).x, face_landmarks.part(p2).y], [face_landmarks.part(p3).x, face_landmarks.part(p3).y], [face_landmarks.part(p4).x, face_landmarks.part(p4).y], [face_landmarks.part(p5).x, face_landmarks.part(p5).y], [face_landmarks.part(p6).x, face_landmarks.part(p6).y]\n",
    "\n",
    "        eye_region = np.array([pt1, pt2, pt3, pt4, pt5, pt6], np.int32)\n",
    "        eye_regions.append(eye_region)\n",
    "\n",
    "    return eye_regions\n",
    "\n",
    "def detect_pupil(img, eye_points):\n",
    "    eye_img = img[eye_points[1][1]:eye_points[5][1], eye_points[0][0]:eye_points[3][0]]\n",
    "    gray_eye = cv2.cvtColor(eye_img, cv2.COLOR_BGR2GRAY)\n",
    "    blurred_eye = cv2.GaussianBlur(gray_eye, (7, 7), 0)\n",
    "\n",
    "    circles = cv2.HoughCircles(blurred_eye, cv2.HOUGH_GRADIENT, 1, 20, param1=50, param2=30, minRadius=3, maxRadius=8)\n",
    "\n",
    "    if circles is not None:\n",
    "        circles = np.round(circles[0, :]).astype(\"int\")\n",
    "        for (x, y, r) in circles:\n",
    "            x += eye_points[0][0]\n",
    "            y += eye_points[1][1]\n",
    "            cv2.circle(eye_img, (x - eye_points[0][0], y - eye_points[1][1]), r, (0, 255, 0), 2)\n",
    "            # 눈동자의 중심 좌표에 원 그리기\n",
    "            cv2.circle(eye_img, (x - eye_points[0][0], y - eye_points[1][1]), 2, (0, 255, 0), -1)\n",
    "\n",
    "    # 눈동자 표시된 이미지를 원래 이미지에 적용\n",
    "    img[eye_points[1][1]:eye_points[5][1], eye_points[0][0]:eye_points[3][0]] = eye_img\n",
    "\n",
    "face_detector = dlib.get_frontal_face_detector()\n",
    "landmark_predictor = dlib.shape_predictor(\"./data/shape_predictor_68_face_landmarks.dat\")\n",
    "\n",
    "img = cv2.imread(\"./data/img.jpg\")\n",
    "gray_img = cv2.cvtColor(img, cv2.COLOR_BGR2GRAY)\n",
    "\n",
    "faces = face_detector(gray_img)\n",
    "\n",
    "for face in faces:\n",
    "    landmarks = landmark_predictor(gray_img, face)\n",
    "    eye_regions = detect_eyes(gray_img, landmarks)\n",
    "\n",
    "    for eye_points in eye_regions:\n",
    "        detect_pupil(img, eye_points)\n",
    "        points = eye_points.reshape((-1, 1, 2))\n",
    "        cv2.polylines(img, [points], isClosed=True, color=(0, 0, 255), thickness=2)\n",
    "\n",
    "cv2.imshow('Result', img)\n",
    "cv2.waitKey(0)\n",
    "cv2.destroyAllWindows()\n"
   ]
  },
  {
   "cell_type": "code",
   "execution_count": null,
   "id": "b926e6fb",
   "metadata": {},
   "outputs": [],
   "source": [
    "import numpy as np\n",
    "import dlib\n",
    "import cv2\n",
    "\n",
    "# EYES = list(range(36,48))\n",
    "EYES = list(range(36, 42)) + list(range(42, 48))\n",
    "frame_width = 640\n",
    "frame_height = 480\n",
    "\n",
    "raw_image = cv2.imread('./data/1model.png') #-- 이미지 경로\n",
    "\n",
    "face_cascade_name = './data/haarcascade_frontalface_alt.xml'\n",
    "face_cascade = cv2.CascadeClassifier()\n",
    "if not face_cascade.load(cv2.samples.findFile(face_cascade_name)):\n",
    "    print('--(!)Error loading face cascade')\n",
    "    exit(0)\n",
    "\n",
    "predictor_file = './data/shape_predictor_68_face_landmarks.dat'\n",
    "predictor = dlib.shape_predictor(predictor_file)\n",
    "\n",
    "image = cv2.resize(raw_image, (frame_width, frame_height))\n",
    "faces = face_cascade.detectMultiScale(image)\n",
    "\n",
    "#- detect face area\n",
    "for (x, y, w, h) in faces:\n",
    "    cv2.rectangle(image, (x, y), (x+w, y+h), (0, 255, 0), 2)\n",
    "    rect = dlib.rectangle(int(x), int(y), int(x+w), int(y+h))\n",
    "        \n",
    "    #- detect eye area\n",
    "    points = np.matrix([[p.x, p.y] for p in predictor(image, rect).parts()])\n",
    "    show_parts = points[EYES]\n",
    "\n",
    "    for (i, point) in enumerate(show_parts):\n",
    "        x = point[0,0]\n",
    "        y = point[0,1]\n",
    "        cv2.circle(image, (x, y), 1, (0, 255, 255), -1)\n",
    "\n",
    "cv2.imshow('Face & Eye Area Detection', image)\n",
    "#cv2.imwrite('output.png',image) #- image output 저장용\n",
    "cv2.waitKey()\n",
    "cv2.destroyAllWindows()"
   ]
  },
  {
   "cell_type": "code",
   "execution_count": null,
   "id": "96dfcaea",
   "metadata": {},
   "outputs": [],
   "source": [
    "import numpy as np\n",
    "import dlib\n",
    "import cv2\n",
    "\n",
    "EYES = list(range(36,48))\n",
    "\n",
    "frame_width = 640\n",
    "frame_height = 480\n",
    "\n",
    "face_cascade_name = './data/haarcascade_frontalface_alt.xml' #-- 본인 환경에 맞게 변경할 것\n",
    "face_cascade = cv2.CascadeClassifier()\n",
    "vedio_path = './vedio.mp4' #-- 본인 환경에 맞게 변경할 것\n",
    "\n",
    "\n",
    "if not face_cascade.load(cv2.samples.findFile(face_cascade_name)):\n",
    "    print('--(!)Error loading face cascade')\n",
    "    exit(0)\n",
    "\n",
    "predictor_file = './data/shape_predictor_68_face_landmarks.dat' #-- 본인 환경에 맞게 변경할 것\n",
    "predictor = dlib.shape_predictor(predictor_file)\n",
    "\n",
    "cap = cv2.VideoCapture(0) #-- 캠 사용 시 vedio_path 대신 0 사용    \n",
    "\n",
    "if not cap.isOpened:\n",
    "    print('Could not open video')\n",
    "    exit(0)\n",
    "\n",
    "\"\"\"\n",
    "#- vedio output 저장용\n",
    "w = round(frame_width) # round(cap.get(cv2.CAP_PROP_FRAME_WIDTH))\n",
    "h = round(frame_height) # round(cap.get(cv2.CAP_PROP_FRAME_HEIGHT))\n",
    "fps = 20 # cap.get(cv2.CAP_PROP_FPS)\n",
    "fourcc = cv2.VideoWriter_fourcc(*'DIVX')\n",
    "out = cv2.VideoWriter('output_sample.mp4', fourcc, fps, (w, h))\n",
    "\n",
    "\"\"\"\n",
    "\n",
    "while cap.isOpened():\n",
    "    ret, frame = cap.read()\n",
    "\n",
    "    if not ret:\n",
    "        print('Could not read frame')\n",
    "        exit()\n",
    "\n",
    "    image = cv2.resize(frame, (frame_width, frame_height))\n",
    "    faces = face_cascade.detectMultiScale(image)\n",
    "    \n",
    "    #- detect face area\n",
    "    for (x, y, w, h) in faces:\n",
    "        cv2.rectangle(image, (x, y), (x+w, y+h), (0, 255, 0), 2)\n",
    "        rect = dlib.rectangle(int(x), int(y), int(x+w), int(y+h))\n",
    "        \n",
    "        #- detect eye area\n",
    "        points = np.matrix([[p.x, p.y] for p in predictor(image, rect).parts()])\n",
    "        show_parts = points[EYES]\n",
    "\n",
    "        for (i, point) in enumerate(show_parts):\n",
    "            x = point[0,0]\n",
    "            y = point[0,1]\n",
    "            cv2.circle(image, (x, y), 1, (0, 255, 255), -1)\n",
    "\n",
    "    #out.write(image) #- vedio output 저장용\n",
    "    cv2.imshow('Face & Eye Area Detection', image)\n",
    "    \n",
    "    # q 입력시 종료\n",
    "    if cv2.waitKey(1) & 0xFF == ord('q'):\n",
    "        break\n",
    "\n",
    "cap.release()\n",
    "cv2.destroyAllWindows()"
   ]
  },
  {
   "cell_type": "code",
   "execution_count": null,
   "id": "ccfb6860",
   "metadata": {},
   "outputs": [],
   "source": [
    "import cv2\n",
    "from l2cs.model import L2CS\n",
    "from l2cs.utils import draw_gaze\n",
    "\n",
    "# Load pre-trained L2CSNet model\n",
    "model = L2CS.load_model(\"./data/data.json\")\n",
    "\n",
    "# Load image\n",
    "image = cv2.imread(\"./data/1model.png\")\n",
    "\n",
    "# Perform eye tracking using L2CSNet\n",
    "eye_coordinates = model.predict(image)\n",
    "\n",
    "# Draw eye coordinates on the image\n",
    "image_with_eyes = draw_eyes(image, eye_coordinates)\n",
    "\n",
    "# Display the image with eye tracking\n",
    "cv2.imshow(\"Eye Tracking\", image_with_eyes)\n",
    "cv2.waitKey(0)\n",
    "cv2.destroyAllWindows()"
   ]
  }
 ],
 "metadata": {
  "kernelspec": {
   "display_name": "eyepro_kernel",
   "language": "python",
   "name": "eyepro"
  },
  "language_info": {
   "codemirror_mode": {
    "name": "ipython",
    "version": 3
   },
   "file_extension": ".py",
   "mimetype": "text/x-python",
   "name": "python",
   "nbconvert_exporter": "python",
   "pygments_lexer": "ipython3",
   "version": "3.9.17"
  }
 },
 "nbformat": 4,
 "nbformat_minor": 5
}
